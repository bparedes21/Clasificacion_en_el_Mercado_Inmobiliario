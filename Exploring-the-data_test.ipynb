{
 "cells": [
  {
   "cell_type": "markdown",
   "metadata": {},
   "source": [
    "Análisis Exploratorio de Datos o EDA "
   ]
  },
  {
   "cell_type": "markdown",
   "metadata": {},
   "source": [
    "*****************\n",
    "importo las librerías y cargo el dataset\n",
    "*****************"
   ]
  },
  {
   "cell_type": "code",
   "execution_count": 1,
   "metadata": {},
   "outputs": [],
   "source": [
    "import pandas as pd\n",
    "import numpy as np\n",
    "import seaborn as sns\n",
    "import matplotlib \n",
    "import matplotlib.pyplot as plt\n",
    "sns.set()\n",
    "from scipy import stats\n",
    "import matplotlib.pyplot as plt\n",
    "\n",
    "#import ColumnTransforme_regression\n"
   ]
  },
  {
   "cell_type": "code",
   "execution_count": 2,
   "metadata": {},
   "outputs": [],
   "source": [
    "properties_colombia_csv=pd.read_csv(r'C:\\Users\\ROXI\\OneDrive\\Escritorio\\datathon\\Datathon\\properties_colombia_test.csv',encoding='utf8')"
   ]
  },
  {
   "cell_type": "code",
   "execution_count": 3,
   "metadata": {},
   "outputs": [
    {
     "data": {
      "text/plain": [
       "(65850, 26)"
      ]
     },
     "execution_count": 3,
     "metadata": {},
     "output_type": "execute_result"
    }
   ],
   "source": [
    "properties_colombia_csv.shape"
   ]
  },
  {
   "cell_type": "code",
   "execution_count": 4,
   "metadata": {},
   "outputs": [
    {
     "data": {
      "text/html": [
       "<div>\n",
       "<style scoped>\n",
       "    .dataframe tbody tr th:only-of-type {\n",
       "        vertical-align: middle;\n",
       "    }\n",
       "\n",
       "    .dataframe tbody tr th {\n",
       "        vertical-align: top;\n",
       "    }\n",
       "\n",
       "    .dataframe thead th {\n",
       "        text-align: right;\n",
       "    }\n",
       "</style>\n",
       "<table border=\"1\" class=\"dataframe\">\n",
       "  <thead>\n",
       "    <tr style=\"text-align: right;\">\n",
       "      <th></th>\n",
       "      <th>Unnamed: 0</th>\n",
       "      <th>id</th>\n",
       "      <th>ad_type</th>\n",
       "      <th>start_date</th>\n",
       "      <th>end_date</th>\n",
       "      <th>created_on</th>\n",
       "      <th>lat</th>\n",
       "      <th>lon</th>\n",
       "      <th>l1</th>\n",
       "      <th>l2</th>\n",
       "      <th>...</th>\n",
       "      <th>bathrooms</th>\n",
       "      <th>surface_total</th>\n",
       "      <th>surface_covered</th>\n",
       "      <th>currency</th>\n",
       "      <th>price_period</th>\n",
       "      <th>title</th>\n",
       "      <th>description</th>\n",
       "      <th>property_type</th>\n",
       "      <th>operation_type</th>\n",
       "      <th>geometry</th>\n",
       "    </tr>\n",
       "  </thead>\n",
       "  <tbody>\n",
       "    <tr>\n",
       "      <th>0</th>\n",
       "      <td>852569</td>\n",
       "      <td>pCiVu6rxpBq9dCZfYCXXgA==</td>\n",
       "      <td>Propiedad</td>\n",
       "      <td>2020-09-04</td>\n",
       "      <td>2020-09-12</td>\n",
       "      <td>2020-09-04</td>\n",
       "      <td>4.722</td>\n",
       "      <td>-74.075</td>\n",
       "      <td>Colombia</td>\n",
       "      <td>Cundinamarca</td>\n",
       "      <td>...</td>\n",
       "      <td>3.0</td>\n",
       "      <td>660.0</td>\n",
       "      <td>350.0</td>\n",
       "      <td>COP</td>\n",
       "      <td>NaN</td>\n",
       "      <td>Casa En Arriendo/venta En Bogota Sotileza Cod....</td>\n",
       "      <td>EXCLUSIVA CASA EN VENTA Y ARRIENDO, UBICADA EN...</td>\n",
       "      <td>Casa</td>\n",
       "      <td>Venta</td>\n",
       "      <td>POINT (-74.075 4.722)</td>\n",
       "    </tr>\n",
       "    <tr>\n",
       "      <th>1</th>\n",
       "      <td>121379</td>\n",
       "      <td>L0XSQ7mF1TWb1lHRg4n2+A==</td>\n",
       "      <td>Propiedad</td>\n",
       "      <td>2020-10-20</td>\n",
       "      <td>2020-10-20</td>\n",
       "      <td>2020-10-20</td>\n",
       "      <td>NaN</td>\n",
       "      <td>NaN</td>\n",
       "      <td>Colombia</td>\n",
       "      <td>Antioquia</td>\n",
       "      <td>...</td>\n",
       "      <td>3.0</td>\n",
       "      <td>NaN</td>\n",
       "      <td>NaN</td>\n",
       "      <td>COP</td>\n",
       "      <td>Mensual</td>\n",
       "      <td>SE VENDE APARTAMENTO EN EL SECTOR DE ZUÑIGA-EN...</td>\n",
       "      <td>PR 7555. Apartamento Duplex en unidad cerrada,...</td>\n",
       "      <td>Apartamento</td>\n",
       "      <td>Venta</td>\n",
       "      <td>POINT EMPTY</td>\n",
       "    </tr>\n",
       "  </tbody>\n",
       "</table>\n",
       "<p>2 rows × 26 columns</p>\n",
       "</div>"
      ],
      "text/plain": [
       "   Unnamed: 0                        id    ad_type  start_date    end_date  \\\n",
       "0      852569  pCiVu6rxpBq9dCZfYCXXgA==  Propiedad  2020-09-04  2020-09-12   \n",
       "1      121379  L0XSQ7mF1TWb1lHRg4n2+A==  Propiedad  2020-10-20  2020-10-20   \n",
       "\n",
       "   created_on    lat     lon        l1            l2  ... bathrooms  \\\n",
       "0  2020-09-04  4.722 -74.075  Colombia  Cundinamarca  ...       3.0   \n",
       "1  2020-10-20    NaN     NaN  Colombia     Antioquia  ...       3.0   \n",
       "\n",
       "  surface_total surface_covered currency  price_period  \\\n",
       "0         660.0           350.0      COP           NaN   \n",
       "1           NaN             NaN      COP       Mensual   \n",
       "\n",
       "                                               title  \\\n",
       "0  Casa En Arriendo/venta En Bogota Sotileza Cod....   \n",
       "1  SE VENDE APARTAMENTO EN EL SECTOR DE ZUÑIGA-EN...   \n",
       "\n",
       "                                         description  property_type  \\\n",
       "0  EXCLUSIVA CASA EN VENTA Y ARRIENDO, UBICADA EN...           Casa   \n",
       "1  PR 7555. Apartamento Duplex en unidad cerrada,...    Apartamento   \n",
       "\n",
       "   operation_type               geometry  \n",
       "0           Venta  POINT (-74.075 4.722)  \n",
       "1           Venta            POINT EMPTY  \n",
       "\n",
       "[2 rows x 26 columns]"
      ]
     },
     "execution_count": 4,
     "metadata": {},
     "output_type": "execute_result"
    }
   ],
   "source": [
    "properties_colombia_csv.head(2)"
   ]
  },
  {
   "cell_type": "code",
   "execution_count": 3,
   "metadata": {},
   "outputs": [],
   "source": [
    "properties_colombia_csv = properties_colombia_csv.replace(\"nan\",np.nan)"
   ]
  },
  {
   "cell_type": "code",
   "execution_count": 4,
   "metadata": {},
   "outputs": [],
   "source": [
    "properties_colombia_csv = properties_colombia_csv.replace(\"NaN\",np.nan)"
   ]
  },
  {
   "cell_type": "code",
   "execution_count": 6,
   "metadata": {},
   "outputs": [
    {
     "data": {
      "text/plain": [
       "Unnamed: 0             0\n",
       "id                     0\n",
       "ad_type                0\n",
       "start_date             0\n",
       "end_date               0\n",
       "created_on             0\n",
       "lat                16417\n",
       "lon                16417\n",
       "l1                     0\n",
       "l2                     0\n",
       "l3                  3657\n",
       "l4                 50776\n",
       "l5                 56798\n",
       "l6                 63486\n",
       "rooms              56740\n",
       "bedrooms           52447\n",
       "bathrooms          13796\n",
       "surface_total      63536\n",
       "surface_covered    62545\n",
       "currency              17\n",
       "price_period       53729\n",
       "title                  0\n",
       "description           27\n",
       "property_type          0\n",
       "operation_type         0\n",
       "geometry               0\n",
       "dtype: int64"
      ]
     },
     "execution_count": 6,
     "metadata": {},
     "output_type": "execute_result"
    }
   ],
   "source": [
    "properties_colombia_csv.isnull().sum()"
   ]
  },
  {
   "cell_type": "code",
   "execution_count": 5,
   "metadata": {},
   "outputs": [],
   "source": [
    "len_csv=properties_colombia_csv.shape"
   ]
  },
  {
   "cell_type": "code",
   "execution_count": 6,
   "metadata": {},
   "outputs": [],
   "source": [
    "is_null=((properties_colombia_csv.isnull().sum())*100)/len_csv[0]"
   ]
  },
  {
   "cell_type": "markdown",
   "metadata": {},
   "source": [
    "porcentaje de nulos por columna si es mayor a 30% la columna se borra\n",
    "l6                 % 96.523900\n",
    "surface_total      % 96.469737\n",
    "surface_covered    % 95.038193\n",
    "l5                 % 86.125468\n",
    "rooms              % 86.060674\n",
    "price_period       % 81.791353\n",
    "bedrooms           % 79.486102\n",
    "l4                 % 77.035065"
   ]
  },
  {
   "cell_type": "code",
   "execution_count": 10,
   "metadata": {},
   "outputs": [
    {
     "data": {
      "text/plain": [
       "surface_total      96.485953\n",
       "l6                 96.410023\n",
       "surface_covered    94.981017\n",
       "l5                 86.253607\n",
       "rooms              86.165528\n",
       "price_period       81.593014\n",
       "bedrooms           79.646166\n",
       "l4                 77.108580\n",
       "lat                24.930904\n",
       "lon                24.930904\n",
       "bathrooms          20.950645\n",
       "l3                  5.553531\n",
       "description         0.041002\n",
       "currency            0.025816\n",
       "title               0.000000\n",
       "property_type       0.000000\n",
       "operation_type      0.000000\n",
       "Unnamed: 0          0.000000\n",
       "id                  0.000000\n",
       "l2                  0.000000\n",
       "l1                  0.000000\n",
       "created_on          0.000000\n",
       "end_date            0.000000\n",
       "start_date          0.000000\n",
       "ad_type             0.000000\n",
       "geometry            0.000000\n",
       "dtype: float64"
      ]
     },
     "execution_count": 10,
     "metadata": {},
     "output_type": "execute_result"
    }
   ],
   "source": [
    "is_null.sort_values(ascending=False)"
   ]
  },
  {
   "cell_type": "code",
   "execution_count": 11,
   "metadata": {},
   "outputs": [
    {
     "data": {
      "text/plain": [
       "Unnamed: 0         65850\n",
       "id                 65850\n",
       "ad_type                1\n",
       "start_date           145\n",
       "end_date             438\n",
       "created_on           145\n",
       "lat                24813\n",
       "lon                24225\n",
       "l1                     1\n",
       "l2                    31\n",
       "l3                   262\n",
       "l4                    55\n",
       "l5                    19\n",
       "l6                   121\n",
       "rooms                 26\n",
       "bedrooms              32\n",
       "bathrooms             19\n",
       "surface_total        585\n",
       "surface_covered      521\n",
       "currency               2\n",
       "price_period           1\n",
       "title              43299\n",
       "description        47494\n",
       "property_type          8\n",
       "operation_type         1\n",
       "geometry           30213\n",
       "dtype: int64"
      ]
     },
     "execution_count": 11,
     "metadata": {},
     "output_type": "execute_result"
    }
   ],
   "source": [
    "properties_colombia_csv.nunique()"
   ]
  },
  {
   "cell_type": "markdown",
   "metadata": {},
   "source": [
    "cantidad de datos unicos en columna l3"
   ]
  },
  {
   "cell_type": "code",
   "execution_count": 12,
   "metadata": {},
   "outputs": [
    {
     "data": {
      "text/plain": [
       "Medellín         14433\n",
       "Bogotá D.C        9492\n",
       "Cali              6861\n",
       "Barranquilla      5162\n",
       "Manizales         4688\n",
       "                 ...  \n",
       "Tibaná               1\n",
       "Hispania             1\n",
       "Caicedonia           1\n",
       "Puerto Lleras        1\n",
       "Fuente de Oro        1\n",
       "Name: l3, Length: 262, dtype: int64"
      ]
     },
     "execution_count": 12,
     "metadata": {},
     "output_type": "execute_result"
    }
   ],
   "source": [
    "properties_colombia_csv.l3.value_counts().sort_values(ascending=False)"
   ]
  },
  {
   "cell_type": "markdown",
   "metadata": {},
   "source": [
    "borro las columnas:\n",
    "*ad_type porque no aporta valor en la prediccion tiene un solo dato: \"Propiedad\"\n",
    "*id porque no aporta valor significativo a la prediccion al ser numeros consecutivos\n",
    "*Unnamed: 0 porque no aporta valor significativo a la prediccion\n",
    "*si es mayor a 30% lo porcentajes de nan en la columna se borra la columna\n",
    "*al tener lat y lon en col separadas borro la columna geometry porque es redundante\n",
    "*l1 porque no aporta valor en la prediccion tiene un solo dato:colombia\n",
    "*operation_type porque no aporta valor en la prediccion tiene un solo dato:venta"
   ]
  },
  {
   "cell_type": "code",
   "execution_count": 7,
   "metadata": {},
   "outputs": [],
   "source": [
    "properties_colombia_csv=properties_colombia_csv.drop(columns=[\"ad_type\",\"Unnamed: 0\",\"id\",\"l6\",\"surface_covered\",\"surface_total\",\"l5\",\"rooms\",\"price_period\",\"bedrooms\",\"l4\",\"geometry\",\"l1\",\"operation_type\",\"title\",\"description\"])"
   ]
  },
  {
   "cell_type": "code",
   "execution_count": 267,
   "metadata": {},
   "outputs": [],
   "source": [
    "#properties_colombia_csv=properties_colombia_csv.drop(properties_colombia_csv.columns[13], axis='columns')"
   ]
  },
  {
   "cell_type": "code",
   "execution_count": 8,
   "metadata": {},
   "outputs": [],
   "source": [
    "properties_colombia_csv.to_csv(\"columbia_houses_test.csv\", index=False)"
   ]
  },
  {
   "cell_type": "markdown",
   "metadata": {},
   "source": [
    "latitud\n",
    "-4 a 12\n",
    "longuitud\n",
    "-65 a-79"
   ]
  },
  {
   "cell_type": "markdown",
   "metadata": {},
   "source": [
    "coordenadas invalidas"
   ]
  },
  {
   "cell_type": "code",
   "execution_count": 9,
   "metadata": {},
   "outputs": [
    {
     "data": {
      "text/html": [
       "<div>\n",
       "<style scoped>\n",
       "    .dataframe tbody tr th:only-of-type {\n",
       "        vertical-align: middle;\n",
       "    }\n",
       "\n",
       "    .dataframe tbody tr th {\n",
       "        vertical-align: top;\n",
       "    }\n",
       "\n",
       "    .dataframe thead th {\n",
       "        text-align: right;\n",
       "    }\n",
       "</style>\n",
       "<table border=\"1\" class=\"dataframe\">\n",
       "  <thead>\n",
       "    <tr style=\"text-align: right;\">\n",
       "      <th></th>\n",
       "      <th>start_date</th>\n",
       "      <th>end_date</th>\n",
       "      <th>created_on</th>\n",
       "      <th>lat</th>\n",
       "      <th>lon</th>\n",
       "      <th>l2</th>\n",
       "      <th>l3</th>\n",
       "      <th>bathrooms</th>\n",
       "      <th>currency</th>\n",
       "      <th>property_type</th>\n",
       "    </tr>\n",
       "  </thead>\n",
       "  <tbody>\n",
       "    <tr>\n",
       "      <th>5114</th>\n",
       "      <td>2020-12-12</td>\n",
       "      <td>9999-12-31</td>\n",
       "      <td>2020-12-12</td>\n",
       "      <td>-4.203165</td>\n",
       "      <td>-69.935907</td>\n",
       "      <td>Amazonas</td>\n",
       "      <td>Leticia</td>\n",
       "      <td>NaN</td>\n",
       "      <td>COP</td>\n",
       "      <td>Lote</td>\n",
       "    </tr>\n",
       "  </tbody>\n",
       "</table>\n",
       "</div>"
      ],
      "text/plain": [
       "      start_date    end_date  created_on       lat        lon        l2  \\\n",
       "5114  2020-12-12  9999-12-31  2020-12-12 -4.203165 -69.935907  Amazonas   \n",
       "\n",
       "           l3  bathrooms currency property_type  \n",
       "5114  Leticia        NaN      COP          Lote  "
      ]
     },
     "execution_count": 9,
     "metadata": {},
     "output_type": "execute_result"
    }
   ],
   "source": [
    "properties_colombia_csv[properties_colombia_csv[\"lat\"]<-4]"
   ]
  },
  {
   "cell_type": "code",
   "execution_count": 16,
   "metadata": {},
   "outputs": [
    {
     "data": {
      "text/html": [
       "<div>\n",
       "<style scoped>\n",
       "    .dataframe tbody tr th:only-of-type {\n",
       "        vertical-align: middle;\n",
       "    }\n",
       "\n",
       "    .dataframe tbody tr th {\n",
       "        vertical-align: top;\n",
       "    }\n",
       "\n",
       "    .dataframe thead th {\n",
       "        text-align: right;\n",
       "    }\n",
       "</style>\n",
       "<table border=\"1\" class=\"dataframe\">\n",
       "  <thead>\n",
       "    <tr style=\"text-align: right;\">\n",
       "      <th></th>\n",
       "      <th>start_date</th>\n",
       "      <th>end_date</th>\n",
       "      <th>created_on</th>\n",
       "      <th>lat</th>\n",
       "      <th>lon</th>\n",
       "      <th>l2</th>\n",
       "      <th>l3</th>\n",
       "      <th>bathrooms</th>\n",
       "      <th>currency</th>\n",
       "      <th>property_type</th>\n",
       "    </tr>\n",
       "  </thead>\n",
       "  <tbody>\n",
       "    <tr>\n",
       "      <th>504</th>\n",
       "      <td>2020-09-01</td>\n",
       "      <td>9999-12-31</td>\n",
       "      <td>2020-09-01</td>\n",
       "      <td>13.338761</td>\n",
       "      <td>-81.372937</td>\n",
       "      <td>San Andrés Providencia y Santa Catalina</td>\n",
       "      <td>NaN</td>\n",
       "      <td>NaN</td>\n",
       "      <td>COP</td>\n",
       "      <td>Finca</td>\n",
       "    </tr>\n",
       "    <tr>\n",
       "      <th>3466</th>\n",
       "      <td>2020-10-28</td>\n",
       "      <td>2020-10-28</td>\n",
       "      <td>2020-10-28</td>\n",
       "      <td>12.585000</td>\n",
       "      <td>-81.696000</td>\n",
       "      <td>San Andrés Providencia y Santa Catalina</td>\n",
       "      <td>San Andrés</td>\n",
       "      <td>NaN</td>\n",
       "      <td>COP</td>\n",
       "      <td>Lote</td>\n",
       "    </tr>\n",
       "    <tr>\n",
       "      <th>29806</th>\n",
       "      <td>2020-10-23</td>\n",
       "      <td>2020-11-30</td>\n",
       "      <td>2020-10-23</td>\n",
       "      <td>12.576855</td>\n",
       "      <td>-81.705052</td>\n",
       "      <td>San Andrés Providencia y Santa Catalina</td>\n",
       "      <td>San Andrés</td>\n",
       "      <td>2.0</td>\n",
       "      <td>COP</td>\n",
       "      <td>Apartamento</td>\n",
       "    </tr>\n",
       "    <tr>\n",
       "      <th>63269</th>\n",
       "      <td>2020-12-01</td>\n",
       "      <td>2021-04-28</td>\n",
       "      <td>2020-12-01</td>\n",
       "      <td>12.582863</td>\n",
       "      <td>-81.689811</td>\n",
       "      <td>San Andrés Providencia y Santa Catalina</td>\n",
       "      <td>San Andrés</td>\n",
       "      <td>2.0</td>\n",
       "      <td>COP</td>\n",
       "      <td>Apartamento</td>\n",
       "    </tr>\n",
       "  </tbody>\n",
       "</table>\n",
       "</div>"
      ],
      "text/plain": [
       "       start_date    end_date  created_on        lat        lon  \\\n",
       "504    2020-09-01  9999-12-31  2020-09-01  13.338761 -81.372937   \n",
       "3466   2020-10-28  2020-10-28  2020-10-28  12.585000 -81.696000   \n",
       "29806  2020-10-23  2020-11-30  2020-10-23  12.576855 -81.705052   \n",
       "63269  2020-12-01  2021-04-28  2020-12-01  12.582863 -81.689811   \n",
       "\n",
       "                                            l2          l3  bathrooms  \\\n",
       "504    San Andrés Providencia y Santa Catalina         NaN        NaN   \n",
       "3466   San Andrés Providencia y Santa Catalina  San Andrés        NaN   \n",
       "29806  San Andrés Providencia y Santa Catalina  San Andrés        2.0   \n",
       "63269  San Andrés Providencia y Santa Catalina  San Andrés        2.0   \n",
       "\n",
       "      currency property_type  \n",
       "504        COP         Finca  \n",
       "3466       COP          Lote  \n",
       "29806      COP   Apartamento  \n",
       "63269      COP   Apartamento  "
      ]
     },
     "execution_count": 16,
     "metadata": {},
     "output_type": "execute_result"
    }
   ],
   "source": [
    "properties_colombia_csv[properties_colombia_csv[\"lat\"]>12]"
   ]
  },
  {
   "cell_type": "code",
   "execution_count": 17,
   "metadata": {},
   "outputs": [
    {
     "data": {
      "text/html": [
       "<div>\n",
       "<style scoped>\n",
       "    .dataframe tbody tr th:only-of-type {\n",
       "        vertical-align: middle;\n",
       "    }\n",
       "\n",
       "    .dataframe tbody tr th {\n",
       "        vertical-align: top;\n",
       "    }\n",
       "\n",
       "    .dataframe thead th {\n",
       "        text-align: right;\n",
       "    }\n",
       "</style>\n",
       "<table border=\"1\" class=\"dataframe\">\n",
       "  <thead>\n",
       "    <tr style=\"text-align: right;\">\n",
       "      <th></th>\n",
       "      <th>start_date</th>\n",
       "      <th>end_date</th>\n",
       "      <th>created_on</th>\n",
       "      <th>lat</th>\n",
       "      <th>lon</th>\n",
       "      <th>l2</th>\n",
       "      <th>l3</th>\n",
       "      <th>bathrooms</th>\n",
       "      <th>currency</th>\n",
       "      <th>property_type</th>\n",
       "    </tr>\n",
       "  </thead>\n",
       "  <tbody>\n",
       "  </tbody>\n",
       "</table>\n",
       "</div>"
      ],
      "text/plain": [
       "Empty DataFrame\n",
       "Columns: [start_date, end_date, created_on, lat, lon, l2, l3, bathrooms, currency, property_type]\n",
       "Index: []"
      ]
     },
     "execution_count": 17,
     "metadata": {},
     "output_type": "execute_result"
    }
   ],
   "source": [
    "properties_colombia_csv[properties_colombia_csv[\"lon\"]>-65]"
   ]
  },
  {
   "cell_type": "code",
   "execution_count": 18,
   "metadata": {},
   "outputs": [
    {
     "data": {
      "text/html": [
       "<div>\n",
       "<style scoped>\n",
       "    .dataframe tbody tr th:only-of-type {\n",
       "        vertical-align: middle;\n",
       "    }\n",
       "\n",
       "    .dataframe tbody tr th {\n",
       "        vertical-align: top;\n",
       "    }\n",
       "\n",
       "    .dataframe thead th {\n",
       "        text-align: right;\n",
       "    }\n",
       "</style>\n",
       "<table border=\"1\" class=\"dataframe\">\n",
       "  <thead>\n",
       "    <tr style=\"text-align: right;\">\n",
       "      <th></th>\n",
       "      <th>start_date</th>\n",
       "      <th>end_date</th>\n",
       "      <th>created_on</th>\n",
       "      <th>lat</th>\n",
       "      <th>lon</th>\n",
       "      <th>l2</th>\n",
       "      <th>l3</th>\n",
       "      <th>bathrooms</th>\n",
       "      <th>currency</th>\n",
       "      <th>property_type</th>\n",
       "    </tr>\n",
       "  </thead>\n",
       "  <tbody>\n",
       "    <tr>\n",
       "      <th>504</th>\n",
       "      <td>2020-09-01</td>\n",
       "      <td>9999-12-31</td>\n",
       "      <td>2020-09-01</td>\n",
       "      <td>13.338761</td>\n",
       "      <td>-81.372937</td>\n",
       "      <td>San Andrés Providencia y Santa Catalina</td>\n",
       "      <td>NaN</td>\n",
       "      <td>NaN</td>\n",
       "      <td>COP</td>\n",
       "      <td>Finca</td>\n",
       "    </tr>\n",
       "    <tr>\n",
       "      <th>3466</th>\n",
       "      <td>2020-10-28</td>\n",
       "      <td>2020-10-28</td>\n",
       "      <td>2020-10-28</td>\n",
       "      <td>12.585000</td>\n",
       "      <td>-81.696000</td>\n",
       "      <td>San Andrés Providencia y Santa Catalina</td>\n",
       "      <td>San Andrés</td>\n",
       "      <td>NaN</td>\n",
       "      <td>COP</td>\n",
       "      <td>Lote</td>\n",
       "    </tr>\n",
       "    <tr>\n",
       "      <th>29806</th>\n",
       "      <td>2020-10-23</td>\n",
       "      <td>2020-11-30</td>\n",
       "      <td>2020-10-23</td>\n",
       "      <td>12.576855</td>\n",
       "      <td>-81.705052</td>\n",
       "      <td>San Andrés Providencia y Santa Catalina</td>\n",
       "      <td>San Andrés</td>\n",
       "      <td>2.0</td>\n",
       "      <td>COP</td>\n",
       "      <td>Apartamento</td>\n",
       "    </tr>\n",
       "    <tr>\n",
       "      <th>63269</th>\n",
       "      <td>2020-12-01</td>\n",
       "      <td>2021-04-28</td>\n",
       "      <td>2020-12-01</td>\n",
       "      <td>12.582863</td>\n",
       "      <td>-81.689811</td>\n",
       "      <td>San Andrés Providencia y Santa Catalina</td>\n",
       "      <td>San Andrés</td>\n",
       "      <td>2.0</td>\n",
       "      <td>COP</td>\n",
       "      <td>Apartamento</td>\n",
       "    </tr>\n",
       "  </tbody>\n",
       "</table>\n",
       "</div>"
      ],
      "text/plain": [
       "       start_date    end_date  created_on        lat        lon  \\\n",
       "504    2020-09-01  9999-12-31  2020-09-01  13.338761 -81.372937   \n",
       "3466   2020-10-28  2020-10-28  2020-10-28  12.585000 -81.696000   \n",
       "29806  2020-10-23  2020-11-30  2020-10-23  12.576855 -81.705052   \n",
       "63269  2020-12-01  2021-04-28  2020-12-01  12.582863 -81.689811   \n",
       "\n",
       "                                            l2          l3  bathrooms  \\\n",
       "504    San Andrés Providencia y Santa Catalina         NaN        NaN   \n",
       "3466   San Andrés Providencia y Santa Catalina  San Andrés        NaN   \n",
       "29806  San Andrés Providencia y Santa Catalina  San Andrés        2.0   \n",
       "63269  San Andrés Providencia y Santa Catalina  San Andrés        2.0   \n",
       "\n",
       "      currency property_type  \n",
       "504        COP         Finca  \n",
       "3466       COP          Lote  \n",
       "29806      COP   Apartamento  \n",
       "63269      COP   Apartamento  "
      ]
     },
     "execution_count": 18,
     "metadata": {},
     "output_type": "execute_result"
    }
   ],
   "source": [
    "properties_colombia_csv[properties_colombia_csv[\"lon\"]<-79]"
   ]
  },
  {
   "cell_type": "code",
   "execution_count": 41,
   "metadata": {},
   "outputs": [],
   "source": [
    "#properties_colombia_csv=properties_colombia_csv.drop(properties_colombia_csv.columns[9], axis='columns')"
   ]
  },
  {
   "cell_type": "markdown",
   "metadata": {},
   "source": [
    "busco los datos de latitud y longitud faltantes "
   ]
  },
  {
   "cell_type": "code",
   "execution_count": 10,
   "metadata": {},
   "outputs": [],
   "source": [
    "lat_lon_df=properties_colombia_csv[properties_colombia_csv[\"lat\"].isnull()] "
   ]
  },
  {
   "cell_type": "code",
   "execution_count": 11,
   "metadata": {},
   "outputs": [
    {
     "data": {
      "text/html": [
       "<div>\n",
       "<style scoped>\n",
       "    .dataframe tbody tr th:only-of-type {\n",
       "        vertical-align: middle;\n",
       "    }\n",
       "\n",
       "    .dataframe tbody tr th {\n",
       "        vertical-align: top;\n",
       "    }\n",
       "\n",
       "    .dataframe thead th {\n",
       "        text-align: right;\n",
       "    }\n",
       "</style>\n",
       "<table border=\"1\" class=\"dataframe\">\n",
       "  <thead>\n",
       "    <tr style=\"text-align: right;\">\n",
       "      <th></th>\n",
       "      <th>start_date</th>\n",
       "      <th>end_date</th>\n",
       "      <th>created_on</th>\n",
       "      <th>lat</th>\n",
       "      <th>lon</th>\n",
       "      <th>l2</th>\n",
       "      <th>l3</th>\n",
       "      <th>bathrooms</th>\n",
       "      <th>currency</th>\n",
       "      <th>property_type</th>\n",
       "    </tr>\n",
       "  </thead>\n",
       "  <tbody>\n",
       "    <tr>\n",
       "      <th>1</th>\n",
       "      <td>2020-10-20</td>\n",
       "      <td>2020-10-20</td>\n",
       "      <td>2020-10-20</td>\n",
       "      <td>NaN</td>\n",
       "      <td>NaN</td>\n",
       "      <td>Antioquia</td>\n",
       "      <td>Envigado</td>\n",
       "      <td>3.0</td>\n",
       "      <td>COP</td>\n",
       "      <td>Apartamento</td>\n",
       "    </tr>\n",
       "    <tr>\n",
       "      <th>4</th>\n",
       "      <td>2020-12-10</td>\n",
       "      <td>2020-12-11</td>\n",
       "      <td>2020-12-10</td>\n",
       "      <td>NaN</td>\n",
       "      <td>NaN</td>\n",
       "      <td>Antioquia</td>\n",
       "      <td>Medellín</td>\n",
       "      <td>2.0</td>\n",
       "      <td>COP</td>\n",
       "      <td>Casa</td>\n",
       "    </tr>\n",
       "    <tr>\n",
       "      <th>9</th>\n",
       "      <td>2020-12-29</td>\n",
       "      <td>2020-12-30</td>\n",
       "      <td>2020-12-29</td>\n",
       "      <td>NaN</td>\n",
       "      <td>NaN</td>\n",
       "      <td>Antioquia</td>\n",
       "      <td>Medellín</td>\n",
       "      <td>2.0</td>\n",
       "      <td>COP</td>\n",
       "      <td>Apartamento</td>\n",
       "    </tr>\n",
       "    <tr>\n",
       "      <th>12</th>\n",
       "      <td>2020-12-22</td>\n",
       "      <td>2020-12-23</td>\n",
       "      <td>2020-12-22</td>\n",
       "      <td>NaN</td>\n",
       "      <td>NaN</td>\n",
       "      <td>Antioquia</td>\n",
       "      <td>Medellín</td>\n",
       "      <td>NaN</td>\n",
       "      <td>COP</td>\n",
       "      <td>Lote</td>\n",
       "    </tr>\n",
       "    <tr>\n",
       "      <th>13</th>\n",
       "      <td>2020-11-20</td>\n",
       "      <td>2020-11-21</td>\n",
       "      <td>2020-11-20</td>\n",
       "      <td>NaN</td>\n",
       "      <td>NaN</td>\n",
       "      <td>Amazonas</td>\n",
       "      <td>Leticia</td>\n",
       "      <td>1.0</td>\n",
       "      <td>COP</td>\n",
       "      <td>Casa</td>\n",
       "    </tr>\n",
       "    <tr>\n",
       "      <th>...</th>\n",
       "      <td>...</td>\n",
       "      <td>...</td>\n",
       "      <td>...</td>\n",
       "      <td>...</td>\n",
       "      <td>...</td>\n",
       "      <td>...</td>\n",
       "      <td>...</td>\n",
       "      <td>...</td>\n",
       "      <td>...</td>\n",
       "      <td>...</td>\n",
       "    </tr>\n",
       "    <tr>\n",
       "      <th>65832</th>\n",
       "      <td>2020-11-27</td>\n",
       "      <td>2021-09-09</td>\n",
       "      <td>2020-11-27</td>\n",
       "      <td>NaN</td>\n",
       "      <td>NaN</td>\n",
       "      <td>Atlántico</td>\n",
       "      <td>Barranquilla</td>\n",
       "      <td>4.0</td>\n",
       "      <td>COP</td>\n",
       "      <td>Apartamento</td>\n",
       "    </tr>\n",
       "    <tr>\n",
       "      <th>65834</th>\n",
       "      <td>2020-09-10</td>\n",
       "      <td>2020-09-16</td>\n",
       "      <td>2020-09-10</td>\n",
       "      <td>NaN</td>\n",
       "      <td>NaN</td>\n",
       "      <td>Antioquia</td>\n",
       "      <td>Envigado</td>\n",
       "      <td>2.0</td>\n",
       "      <td>COP</td>\n",
       "      <td>Apartamento</td>\n",
       "    </tr>\n",
       "    <tr>\n",
       "      <th>65838</th>\n",
       "      <td>2020-12-28</td>\n",
       "      <td>2020-12-29</td>\n",
       "      <td>2020-12-28</td>\n",
       "      <td>NaN</td>\n",
       "      <td>NaN</td>\n",
       "      <td>Antioquia</td>\n",
       "      <td>Medellín</td>\n",
       "      <td>5.0</td>\n",
       "      <td>COP</td>\n",
       "      <td>Casa</td>\n",
       "    </tr>\n",
       "    <tr>\n",
       "      <th>65844</th>\n",
       "      <td>2020-11-23</td>\n",
       "      <td>2021-02-22</td>\n",
       "      <td>2020-11-23</td>\n",
       "      <td>NaN</td>\n",
       "      <td>NaN</td>\n",
       "      <td>Cauca</td>\n",
       "      <td>Popayán</td>\n",
       "      <td>2.0</td>\n",
       "      <td>COP</td>\n",
       "      <td>Apartamento</td>\n",
       "    </tr>\n",
       "    <tr>\n",
       "      <th>65849</th>\n",
       "      <td>2020-11-10</td>\n",
       "      <td>2020-11-11</td>\n",
       "      <td>2020-11-10</td>\n",
       "      <td>NaN</td>\n",
       "      <td>NaN</td>\n",
       "      <td>Antioquia</td>\n",
       "      <td>Medellín</td>\n",
       "      <td>2.0</td>\n",
       "      <td>COP</td>\n",
       "      <td>Apartamento</td>\n",
       "    </tr>\n",
       "  </tbody>\n",
       "</table>\n",
       "<p>16417 rows × 10 columns</p>\n",
       "</div>"
      ],
      "text/plain": [
       "       start_date    end_date  created_on  lat  lon         l2            l3  \\\n",
       "1      2020-10-20  2020-10-20  2020-10-20  NaN  NaN  Antioquia      Envigado   \n",
       "4      2020-12-10  2020-12-11  2020-12-10  NaN  NaN  Antioquia      Medellín   \n",
       "9      2020-12-29  2020-12-30  2020-12-29  NaN  NaN  Antioquia      Medellín   \n",
       "12     2020-12-22  2020-12-23  2020-12-22  NaN  NaN  Antioquia      Medellín   \n",
       "13     2020-11-20  2020-11-21  2020-11-20  NaN  NaN   Amazonas       Leticia   \n",
       "...           ...         ...         ...  ...  ...        ...           ...   \n",
       "65832  2020-11-27  2021-09-09  2020-11-27  NaN  NaN  Atlántico  Barranquilla   \n",
       "65834  2020-09-10  2020-09-16  2020-09-10  NaN  NaN  Antioquia      Envigado   \n",
       "65838  2020-12-28  2020-12-29  2020-12-28  NaN  NaN  Antioquia      Medellín   \n",
       "65844  2020-11-23  2021-02-22  2020-11-23  NaN  NaN      Cauca       Popayán   \n",
       "65849  2020-11-10  2020-11-11  2020-11-10  NaN  NaN  Antioquia      Medellín   \n",
       "\n",
       "       bathrooms currency property_type  \n",
       "1            3.0      COP   Apartamento  \n",
       "4            2.0      COP          Casa  \n",
       "9            2.0      COP   Apartamento  \n",
       "12           NaN      COP          Lote  \n",
       "13           1.0      COP          Casa  \n",
       "...          ...      ...           ...  \n",
       "65832        4.0      COP   Apartamento  \n",
       "65834        2.0      COP   Apartamento  \n",
       "65838        5.0      COP          Casa  \n",
       "65844        2.0      COP   Apartamento  \n",
       "65849        2.0      COP   Apartamento  \n",
       "\n",
       "[16417 rows x 10 columns]"
      ]
     },
     "execution_count": 11,
     "metadata": {},
     "output_type": "execute_result"
    }
   ],
   "source": [
    "properties_colombia_csv[properties_colombia_csv[\"lat\"].isnull()] "
   ]
  },
  {
   "cell_type": "code",
   "execution_count": 12,
   "metadata": {},
   "outputs": [],
   "source": [
    "df_geo=pd.DataFrame(lat_lon_df.l2.value_counts())"
   ]
  },
  {
   "cell_type": "code",
   "execution_count": 13,
   "metadata": {},
   "outputs": [
    {
     "data": {
      "text/html": [
       "<div>\n",
       "<style scoped>\n",
       "    .dataframe tbody tr th:only-of-type {\n",
       "        vertical-align: middle;\n",
       "    }\n",
       "\n",
       "    .dataframe tbody tr th {\n",
       "        vertical-align: top;\n",
       "    }\n",
       "\n",
       "    .dataframe thead th {\n",
       "        text-align: right;\n",
       "    }\n",
       "</style>\n",
       "<table border=\"1\" class=\"dataframe\">\n",
       "  <thead>\n",
       "    <tr style=\"text-align: right;\">\n",
       "      <th></th>\n",
       "      <th>l2</th>\n",
       "    </tr>\n",
       "  </thead>\n",
       "  <tbody>\n",
       "    <tr>\n",
       "      <th>Antioquia</th>\n",
       "      <td>11262</td>\n",
       "    </tr>\n",
       "    <tr>\n",
       "      <th>Atlántico</th>\n",
       "      <td>1037</td>\n",
       "    </tr>\n",
       "    <tr>\n",
       "      <th>Cundinamarca</th>\n",
       "      <td>992</td>\n",
       "    </tr>\n",
       "    <tr>\n",
       "      <th>Valle del Cauca</th>\n",
       "      <td>656</td>\n",
       "    </tr>\n",
       "    <tr>\n",
       "      <th>Santander</th>\n",
       "      <td>544</td>\n",
       "    </tr>\n",
       "    <tr>\n",
       "      <th>Risaralda</th>\n",
       "      <td>453</td>\n",
       "    </tr>\n",
       "    <tr>\n",
       "      <th>Caldas</th>\n",
       "      <td>423</td>\n",
       "    </tr>\n",
       "    <tr>\n",
       "      <th>Meta</th>\n",
       "      <td>246</td>\n",
       "    </tr>\n",
       "    <tr>\n",
       "      <th>Cauca</th>\n",
       "      <td>209</td>\n",
       "    </tr>\n",
       "    <tr>\n",
       "      <th>Bolívar</th>\n",
       "      <td>157</td>\n",
       "    </tr>\n",
       "    <tr>\n",
       "      <th>Tolima</th>\n",
       "      <td>132</td>\n",
       "    </tr>\n",
       "    <tr>\n",
       "      <th>Norte de Santander</th>\n",
       "      <td>78</td>\n",
       "    </tr>\n",
       "    <tr>\n",
       "      <th>Huila</th>\n",
       "      <td>64</td>\n",
       "    </tr>\n",
       "    <tr>\n",
       "      <th>Magdalena</th>\n",
       "      <td>60</td>\n",
       "    </tr>\n",
       "    <tr>\n",
       "      <th>Quindío</th>\n",
       "      <td>52</td>\n",
       "    </tr>\n",
       "    <tr>\n",
       "      <th>Boyacá</th>\n",
       "      <td>17</td>\n",
       "    </tr>\n",
       "    <tr>\n",
       "      <th>Cesar</th>\n",
       "      <td>10</td>\n",
       "    </tr>\n",
       "    <tr>\n",
       "      <th>Córdoba</th>\n",
       "      <td>6</td>\n",
       "    </tr>\n",
       "    <tr>\n",
       "      <th>Amazonas</th>\n",
       "      <td>5</td>\n",
       "    </tr>\n",
       "    <tr>\n",
       "      <th>Caquetá</th>\n",
       "      <td>4</td>\n",
       "    </tr>\n",
       "    <tr>\n",
       "      <th>Guainía</th>\n",
       "      <td>4</td>\n",
       "    </tr>\n",
       "    <tr>\n",
       "      <th>Sucre</th>\n",
       "      <td>4</td>\n",
       "    </tr>\n",
       "    <tr>\n",
       "      <th>Casanare</th>\n",
       "      <td>1</td>\n",
       "    </tr>\n",
       "    <tr>\n",
       "      <th>Chocó</th>\n",
       "      <td>1</td>\n",
       "    </tr>\n",
       "  </tbody>\n",
       "</table>\n",
       "</div>"
      ],
      "text/plain": [
       "                       l2\n",
       "Antioquia           11262\n",
       "Atlántico            1037\n",
       "Cundinamarca          992\n",
       "Valle del Cauca       656\n",
       "Santander             544\n",
       "Risaralda             453\n",
       "Caldas                423\n",
       "Meta                  246\n",
       "Cauca                 209\n",
       "Bolívar               157\n",
       "Tolima                132\n",
       "Norte de Santander     78\n",
       "Huila                  64\n",
       "Magdalena              60\n",
       "Quindío                52\n",
       "Boyacá                 17\n",
       "Cesar                  10\n",
       "Córdoba                 6\n",
       "Amazonas                5\n",
       "Caquetá                 4\n",
       "Guainía                 4\n",
       "Sucre                   4\n",
       "Casanare                1\n",
       "Chocó                   1"
      ]
     },
     "execution_count": 13,
     "metadata": {},
     "output_type": "execute_result"
    }
   ],
   "source": [
    "df_geo"
   ]
  },
  {
   "cell_type": "code",
   "execution_count": 14,
   "metadata": {},
   "outputs": [],
   "source": [
    "df_geo['texto'] = df_geo.index"
   ]
  },
  {
   "cell_type": "code",
   "execution_count": 15,
   "metadata": {},
   "outputs": [
    {
     "data": {
      "text/html": [
       "<div>\n",
       "<style scoped>\n",
       "    .dataframe tbody tr th:only-of-type {\n",
       "        vertical-align: middle;\n",
       "    }\n",
       "\n",
       "    .dataframe tbody tr th {\n",
       "        vertical-align: top;\n",
       "    }\n",
       "\n",
       "    .dataframe thead th {\n",
       "        text-align: right;\n",
       "    }\n",
       "</style>\n",
       "<table border=\"1\" class=\"dataframe\">\n",
       "  <thead>\n",
       "    <tr style=\"text-align: right;\">\n",
       "      <th></th>\n",
       "      <th>l2</th>\n",
       "      <th>texto</th>\n",
       "    </tr>\n",
       "  </thead>\n",
       "  <tbody>\n",
       "    <tr>\n",
       "      <th>Antioquia</th>\n",
       "      <td>11262</td>\n",
       "      <td>Antioquia</td>\n",
       "    </tr>\n",
       "    <tr>\n",
       "      <th>Atlántico</th>\n",
       "      <td>1037</td>\n",
       "      <td>Atlántico</td>\n",
       "    </tr>\n",
       "    <tr>\n",
       "      <th>Cundinamarca</th>\n",
       "      <td>992</td>\n",
       "      <td>Cundinamarca</td>\n",
       "    </tr>\n",
       "    <tr>\n",
       "      <th>Valle del Cauca</th>\n",
       "      <td>656</td>\n",
       "      <td>Valle del Cauca</td>\n",
       "    </tr>\n",
       "    <tr>\n",
       "      <th>Santander</th>\n",
       "      <td>544</td>\n",
       "      <td>Santander</td>\n",
       "    </tr>\n",
       "    <tr>\n",
       "      <th>Risaralda</th>\n",
       "      <td>453</td>\n",
       "      <td>Risaralda</td>\n",
       "    </tr>\n",
       "    <tr>\n",
       "      <th>Caldas</th>\n",
       "      <td>423</td>\n",
       "      <td>Caldas</td>\n",
       "    </tr>\n",
       "    <tr>\n",
       "      <th>Meta</th>\n",
       "      <td>246</td>\n",
       "      <td>Meta</td>\n",
       "    </tr>\n",
       "    <tr>\n",
       "      <th>Cauca</th>\n",
       "      <td>209</td>\n",
       "      <td>Cauca</td>\n",
       "    </tr>\n",
       "    <tr>\n",
       "      <th>Bolívar</th>\n",
       "      <td>157</td>\n",
       "      <td>Bolívar</td>\n",
       "    </tr>\n",
       "    <tr>\n",
       "      <th>Tolima</th>\n",
       "      <td>132</td>\n",
       "      <td>Tolima</td>\n",
       "    </tr>\n",
       "    <tr>\n",
       "      <th>Norte de Santander</th>\n",
       "      <td>78</td>\n",
       "      <td>Norte de Santander</td>\n",
       "    </tr>\n",
       "    <tr>\n",
       "      <th>Huila</th>\n",
       "      <td>64</td>\n",
       "      <td>Huila</td>\n",
       "    </tr>\n",
       "    <tr>\n",
       "      <th>Magdalena</th>\n",
       "      <td>60</td>\n",
       "      <td>Magdalena</td>\n",
       "    </tr>\n",
       "    <tr>\n",
       "      <th>Quindío</th>\n",
       "      <td>52</td>\n",
       "      <td>Quindío</td>\n",
       "    </tr>\n",
       "    <tr>\n",
       "      <th>Boyacá</th>\n",
       "      <td>17</td>\n",
       "      <td>Boyacá</td>\n",
       "    </tr>\n",
       "    <tr>\n",
       "      <th>Cesar</th>\n",
       "      <td>10</td>\n",
       "      <td>Cesar</td>\n",
       "    </tr>\n",
       "    <tr>\n",
       "      <th>Córdoba</th>\n",
       "      <td>6</td>\n",
       "      <td>Córdoba</td>\n",
       "    </tr>\n",
       "    <tr>\n",
       "      <th>Amazonas</th>\n",
       "      <td>5</td>\n",
       "      <td>Amazonas</td>\n",
       "    </tr>\n",
       "    <tr>\n",
       "      <th>Caquetá</th>\n",
       "      <td>4</td>\n",
       "      <td>Caquetá</td>\n",
       "    </tr>\n",
       "    <tr>\n",
       "      <th>Guainía</th>\n",
       "      <td>4</td>\n",
       "      <td>Guainía</td>\n",
       "    </tr>\n",
       "    <tr>\n",
       "      <th>Sucre</th>\n",
       "      <td>4</td>\n",
       "      <td>Sucre</td>\n",
       "    </tr>\n",
       "    <tr>\n",
       "      <th>Casanare</th>\n",
       "      <td>1</td>\n",
       "      <td>Casanare</td>\n",
       "    </tr>\n",
       "    <tr>\n",
       "      <th>Chocó</th>\n",
       "      <td>1</td>\n",
       "      <td>Chocó</td>\n",
       "    </tr>\n",
       "  </tbody>\n",
       "</table>\n",
       "</div>"
      ],
      "text/plain": [
       "                       l2               texto\n",
       "Antioquia           11262           Antioquia\n",
       "Atlántico            1037           Atlántico\n",
       "Cundinamarca          992        Cundinamarca\n",
       "Valle del Cauca       656     Valle del Cauca\n",
       "Santander             544           Santander\n",
       "Risaralda             453           Risaralda\n",
       "Caldas                423              Caldas\n",
       "Meta                  246                Meta\n",
       "Cauca                 209               Cauca\n",
       "Bolívar               157             Bolívar\n",
       "Tolima                132              Tolima\n",
       "Norte de Santander     78  Norte de Santander\n",
       "Huila                  64               Huila\n",
       "Magdalena              60           Magdalena\n",
       "Quindío                52             Quindío\n",
       "Boyacá                 17              Boyacá\n",
       "Cesar                  10               Cesar\n",
       "Córdoba                 6             Córdoba\n",
       "Amazonas                5            Amazonas\n",
       "Caquetá                 4             Caquetá\n",
       "Guainía                 4             Guainía\n",
       "Sucre                   4               Sucre\n",
       "Casanare                1            Casanare\n",
       "Chocó                   1               Chocó"
      ]
     },
     "execution_count": 15,
     "metadata": {},
     "output_type": "execute_result"
    }
   ],
   "source": [
    "df_geo"
   ]
  },
  {
   "cell_type": "code",
   "execution_count": 16,
   "metadata": {},
   "outputs": [],
   "source": [
    "list_geo=list(df_geo[\"texto\"])"
   ]
  },
  {
   "cell_type": "code",
   "execution_count": 17,
   "metadata": {},
   "outputs": [
    {
     "data": {
      "text/plain": [
       "'Antioquia'"
      ]
     },
     "execution_count": 17,
     "metadata": {},
     "output_type": "execute_result"
    }
   ],
   "source": [
    "list_geo[0]"
   ]
  },
  {
   "cell_type": "markdown",
   "metadata": {},
   "source": [
    "veo los datos unicos de las columnas que quedan"
   ]
  },
  {
   "cell_type": "code",
   "execution_count": 18,
   "metadata": {},
   "outputs": [
    {
     "name": "stdout",
     "output_type": "stream",
     "text": [
      "l2\n",
      "['Amazonas' 'Antioquia' 'Arauca' 'Atlántico' 'Bolívar' 'Boyacá' 'Caldas'\n",
      " 'Caquetá' 'Casanare' 'Cauca' 'Cesar' 'Chocó' 'Cundinamarca' 'Córdoba'\n",
      " 'Guainía' 'Guaviare' 'Huila' 'La Guajira' 'Magdalena' 'Meta' 'Nariño'\n",
      " 'Norte de Santander' 'Putumayo' 'Quindío' 'Risaralda'\n",
      " 'San Andrés Providencia y Santa Catalina' 'Santander' 'Sucre' 'Tolima'\n",
      " 'Valle del Cauca' 'Vichada']\n",
      "l3\n",
      "['Abejorral' 'Acacías' 'Acandí' 'Agua de Dios' 'Aguazul' 'Aipe' 'Albán'\n",
      " 'Alvarado' 'Anapoima' 'Andalucía' 'Anolaima' 'Anserma' 'Apulo' 'Arauca'\n",
      " 'Arbeláez' 'Arjona' 'Armenia' 'Baranoa' 'Barbosa' 'Barichara'\n",
      " 'Barrancabermeja' 'Barranquilla' 'Bello' 'Bochalema' 'Bogotá D.C'\n",
      " 'Bojacá' 'Bucaramanga' 'Cabrera' 'Cachipay' 'Caicedonia' 'Cajicá'\n",
      " 'Calarca' 'Caldas' 'Cali' 'Calima' 'Candelaria' 'Caparrapí'\n",
      " 'Carmen de Apicalá' 'Cartagena' 'Cartago' 'Chaparral' 'Chigorodó'\n",
      " 'Chinauta' 'Chinácota' 'Chipaque' 'Chiquinquirá' 'Chocontá' 'Chía'\n",
      " 'Cimitarra' 'Clemencia' 'Cogua' 'Colombia' 'Copacabana' 'Cota' 'Coveñas'\n",
      " 'Cucunubá' 'Curití' 'Cúcuta' 'Dagua' 'Dibulla' 'Duitama' 'Durania'\n",
      " 'El Carmen de Viboral' 'El Cerrito' 'El Colegio' 'El Peñón' 'El Rosal'\n",
      " 'Envigado' 'Espinal' 'Facatativá' 'Filandia' 'Flandes' 'Florencia'\n",
      " 'Florida' 'Floridablanca' 'Fredonia' 'Fresno' 'Fuente de Oro' 'Funza'\n",
      " 'Fusagasugá' 'Fúquene' 'Gachancipá' 'Galapa' 'Garzón' 'Girardot'\n",
      " 'Girardota' 'Girón' 'Granada' 'Guacarí' 'Guadalajara de Buga' 'Guaduas'\n",
      " 'Guamal' 'Guamo' 'Guarne' 'Guasca' 'Guatapé' 'Guatavita'\n",
      " 'Guayabal de Siquima' 'Génova' 'Hispania' 'Honda' 'Ibagué' 'Icononzo'\n",
      " 'Inírida' 'Ipiales' 'Itagui' 'Jamundí' 'Jardín' 'Jenesano'\n",
      " 'Juan de Acosta' 'La Calera' 'La Ceja' 'La Cumbre' 'La Dorada'\n",
      " 'La Estrella' 'La Florida' 'La Mesa' 'La Plata' 'La Tebaida' 'La Vega'\n",
      " 'La Virginia' 'Lebríja' 'Leticia' 'Los Patios' 'Los Santos' 'Líbano'\n",
      " 'Macheta' 'Madrid' 'Malambo' 'Manizales' 'Manzanares' 'Maní' 'Marinilla'\n",
      " 'Mariquita' 'Marsella' 'Medellín' 'Medina' 'Melgar' 'Moniquirá'\n",
      " 'Montenegro' 'Montería' 'Mosquera' 'Nariño' 'Neira' 'Neiva' 'Nemocón'\n",
      " 'Nilo' 'Nuevo Colón' 'Orocué' 'Paipa' 'Palermo' 'Palestina'\n",
      " 'Palmar de Varela' 'Palmira' 'Pandi' 'Paz de Ariporo' 'Pereira'\n",
      " 'Piedecuesta' 'Piedras' 'Pitalito' 'Planeta Rica' 'Popayán' 'Pradera'\n",
      " 'Prado' 'Puerto Boyacá' 'Puerto Colombia' 'Puerto Gaitán' 'Puerto Lleras'\n",
      " 'Puerto López' 'Puerto Parra' 'Puerto Salgar' 'Puerto Triunfo'\n",
      " 'Puerto Wilches' 'Purificación' 'Quimbaya' 'Restrepo' 'Retiro' 'Ricaurte'\n",
      " 'Riofrío' 'Rionegro' 'Rivera' 'Sabanagrande' 'Sabanalarga' 'Sabaneta'\n",
      " 'Sahagún' 'Salamina' 'Saldaña' 'Salento' 'San Andrés'\n",
      " 'San Antonio del Tequendama' 'San Bernardo' 'San Carlos de Guaroa'\n",
      " 'San Cayetano' 'San Francisco' 'San Gil' 'San Jerónimo'\n",
      " 'San Juan de Arama' 'San Juan de Rioseco' 'San Luis' 'San Marcos'\n",
      " 'San Martín' 'San Onofre' 'San Rafael' 'Santa Catalina' 'Santa Marta'\n",
      " 'Santa Rosa de Cabal' 'Santafé de Antioquia' 'Santiago de Tolú' 'Sasaima'\n",
      " 'Sesquilé' 'Sibaté' 'Silvania' 'Simijaca' 'Sincelejo' 'Soacha' 'Socorro'\n",
      " 'Sogamoso' 'Soledad' 'Sopetrán' 'Sopó' 'Subachoque' 'Suesca' 'Supatá'\n",
      " 'Tabio' 'Tauramena' 'Tena' 'Tenjo' 'Tibacuy' 'Tibaná' 'Tibasosa'\n",
      " 'Tocaima' 'Tocancipá' 'Trinidad' 'Trujillo' 'Tubará' 'Tuluá' 'Tunja'\n",
      " 'Turbaco' 'Turbaná' 'Turbo' 'Valledupar' 'Venadillo' 'Venecia' 'Victoria'\n",
      " 'Vijes' 'Villa de Leyva' 'Villa del Rosario' 'Villamaría' 'Villanueva'\n",
      " 'Villapinzón' 'Villavicencio' 'Villeta' 'Viotá' 'Viterbo' 'Yacopí'\n",
      " 'Yopal' 'Yotoco' 'Yumbo' 'Zapatoca' 'Zarzal' 'Zipacón' 'Zipaquirá' nan]\n",
      "currency\n",
      "['COP' 'USD' nan]\n",
      "property_type\n",
      "['Apartamento' 'Casa' 'Finca' 'Local comercial' 'Lote' 'Oficina' 'Otro'\n",
      " 'Parqueadero']\n",
      "bathrooms\n",
      "[ 1.  2.  3.  4.  5.  6.  7.  8.  9. 10. 11. 12. 13. 14. 15. 16. 17. 18.\n",
      " 20. nan]\n"
     ]
    }
   ],
   "source": [
    "properties_colombia=['l2', 'l3',\"currency\",\"property_type\",'bathrooms']\n",
    "\n",
    "listproperties_colombia=list(properties_colombia)\n",
    "\n",
    "#ver valores unicos en las columnas\n",
    "for indice,columns_properties in enumerate(listproperties_colombia) :\n",
    "    print(columns_properties)\n",
    "    sort_properties =properties_colombia_csv[columns_properties].sort_values()\n",
    "    listaproperties=sort_properties.unique()\n",
    "    print(listaproperties)"
   ]
  },
  {
   "cell_type": "code",
   "execution_count": 22,
   "metadata": {},
   "outputs": [
    {
     "data": {
      "text/plain": [
       "start_date           0\n",
       "end_date             0\n",
       "created_on           0\n",
       "lat              16417\n",
       "lon              16417\n",
       "l2                   0\n",
       "l3                3657\n",
       "bathrooms        13796\n",
       "currency            17\n",
       "property_type        0\n",
       "dtype: int64"
      ]
     },
     "execution_count": 22,
     "metadata": {},
     "output_type": "execute_result"
    }
   ],
   "source": [
    "properties_colombia_csv.isnull().sum()"
   ]
  },
  {
   "cell_type": "markdown",
   "metadata": {},
   "source": [
    "busco la coordenada de la columna l2 con mas nan (faltantes)"
   ]
  },
  {
   "cell_type": "code",
   "execution_count": 19,
   "metadata": {},
   "outputs": [],
   "source": [
    "df_l2=properties_colombia_csv[properties_colombia_csv.l2==list_geo[0]]\n"
   ]
  },
  {
   "cell_type": "code",
   "execution_count": 20,
   "metadata": {},
   "outputs": [],
   "source": [
    "geo_l2=df_l2[df_l2.columns[[3,4]]]"
   ]
  },
  {
   "cell_type": "code",
   "execution_count": 21,
   "metadata": {},
   "outputs": [],
   "source": [
    "list_l2_loc=geo_l2.iloc[2]"
   ]
  },
  {
   "cell_type": "code",
   "execution_count": 22,
   "metadata": {},
   "outputs": [
    {
     "name": "stdout",
     "output_type": "stream",
     "text": [
      "latitud mas repetida en los datos faltantes para la columna l2:  6.203\n",
      "longuitud mas repetida en los datos faltantes para la columna l2:  -75.556\n"
     ]
    }
   ],
   "source": [
    "print(\"latitud mas repetida en los datos faltantes para la columna l2: \",list_l2_loc[0])\n",
    "print(\"longuitud mas repetida en los datos faltantes para la columna l2: \",list_l2_loc[1])"
   ]
  },
  {
   "cell_type": "code",
   "execution_count": 33,
   "metadata": {},
   "outputs": [
    {
     "name": "stdout",
     "output_type": "stream",
     "text": [
      "<class 'pandas.core.frame.DataFrame'>\n",
      "RangeIndex: 65850 entries, 0 to 65849\n",
      "Data columns (total 10 columns):\n",
      " #   Column         Non-Null Count  Dtype  \n",
      "---  ------         --------------  -----  \n",
      " 0   start_date     65850 non-null  object \n",
      " 1   end_date       65850 non-null  object \n",
      " 2   created_on     65850 non-null  object \n",
      " 3   lat            49433 non-null  float64\n",
      " 4   lon            49433 non-null  float64\n",
      " 5   l2             65850 non-null  object \n",
      " 6   l3             62193 non-null  object \n",
      " 7   bathrooms      52054 non-null  float64\n",
      " 8   currency       65833 non-null  object \n",
      " 9   property_type  65850 non-null  object \n",
      "dtypes: float64(3), object(7)\n",
      "memory usage: 5.0+ MB\n"
     ]
    }
   ],
   "source": [
    "properties_colombia_csv.info()"
   ]
  },
  {
   "cell_type": "markdown",
   "metadata": {},
   "source": [
    "reemplazo los faltantes con la coordenada correspondiente a un dato de la columna l2 que se repite con mas frecuencia"
   ]
  },
  {
   "cell_type": "code",
   "execution_count": 23,
   "metadata": {},
   "outputs": [],
   "source": [
    "properties_colombia_csv.lat = properties_colombia_csv[\"lat\"].replace(np.nan,list_l2_loc[0])"
   ]
  },
  {
   "cell_type": "code",
   "execution_count": 24,
   "metadata": {},
   "outputs": [],
   "source": [
    "properties_colombia_csv.lon = properties_colombia_csv[\"lon\"].replace(np.nan,list_l2_loc[1])"
   ]
  },
  {
   "cell_type": "code",
   "execution_count": 29,
   "metadata": {},
   "outputs": [
    {
     "data": {
      "text/html": [
       "<div>\n",
       "<style scoped>\n",
       "    .dataframe tbody tr th:only-of-type {\n",
       "        vertical-align: middle;\n",
       "    }\n",
       "\n",
       "    .dataframe tbody tr th {\n",
       "        vertical-align: top;\n",
       "    }\n",
       "\n",
       "    .dataframe thead th {\n",
       "        text-align: right;\n",
       "    }\n",
       "</style>\n",
       "<table border=\"1\" class=\"dataframe\">\n",
       "  <thead>\n",
       "    <tr style=\"text-align: right;\">\n",
       "      <th></th>\n",
       "      <th>start_date</th>\n",
       "      <th>end_date</th>\n",
       "      <th>created_on</th>\n",
       "      <th>lat</th>\n",
       "      <th>lon</th>\n",
       "      <th>l2</th>\n",
       "      <th>l3</th>\n",
       "      <th>bathrooms</th>\n",
       "      <th>currency</th>\n",
       "      <th>property_type</th>\n",
       "    </tr>\n",
       "  </thead>\n",
       "  <tbody>\n",
       "  </tbody>\n",
       "</table>\n",
       "</div>"
      ],
      "text/plain": [
       "Empty DataFrame\n",
       "Columns: [start_date, end_date, created_on, lat, lon, l2, l3, bathrooms, currency, property_type]\n",
       "Index: []"
      ]
     },
     "execution_count": 29,
     "metadata": {},
     "output_type": "execute_result"
    }
   ],
   "source": [
    "properties_colombia_csv[properties_colombia_csv.lon.isnull()]"
   ]
  },
  {
   "cell_type": "code",
   "execution_count": 25,
   "metadata": {},
   "outputs": [],
   "source": [
    "properties_colombia_csv.to_csv(\"columbia_houses_test.csv\", index=False)"
   ]
  },
  {
   "cell_type": "code",
   "execution_count": 38,
   "metadata": {},
   "outputs": [
    {
     "data": {
      "text/plain": [
       "(65850, 10)"
      ]
     },
     "execution_count": 38,
     "metadata": {},
     "output_type": "execute_result"
    }
   ],
   "source": [
    "properties_colombia_csv.shape"
   ]
  },
  {
   "cell_type": "code",
   "execution_count": 39,
   "metadata": {},
   "outputs": [
    {
     "data": {
      "text/html": [
       "<div>\n",
       "<style scoped>\n",
       "    .dataframe tbody tr th:only-of-type {\n",
       "        vertical-align: middle;\n",
       "    }\n",
       "\n",
       "    .dataframe tbody tr th {\n",
       "        vertical-align: top;\n",
       "    }\n",
       "\n",
       "    .dataframe thead th {\n",
       "        text-align: right;\n",
       "    }\n",
       "</style>\n",
       "<table border=\"1\" class=\"dataframe\">\n",
       "  <thead>\n",
       "    <tr style=\"text-align: right;\">\n",
       "      <th></th>\n",
       "      <th>lat</th>\n",
       "      <th>lon</th>\n",
       "      <th>bathrooms</th>\n",
       "    </tr>\n",
       "  </thead>\n",
       "  <tbody>\n",
       "    <tr>\n",
       "      <th>count</th>\n",
       "      <td>65850.000000</td>\n",
       "      <td>65850.000000</td>\n",
       "      <td>52054.000000</td>\n",
       "    </tr>\n",
       "    <tr>\n",
       "      <th>mean</th>\n",
       "      <td>5.815544</td>\n",
       "      <td>-75.170268</td>\n",
       "      <td>2.639624</td>\n",
       "    </tr>\n",
       "    <tr>\n",
       "      <th>std</th>\n",
       "      <td>1.933944</td>\n",
       "      <td>0.977128</td>\n",
       "      <td>1.426015</td>\n",
       "    </tr>\n",
       "    <tr>\n",
       "      <th>min</th>\n",
       "      <td>-4.203165</td>\n",
       "      <td>-81.705052</td>\n",
       "      <td>1.000000</td>\n",
       "    </tr>\n",
       "    <tr>\n",
       "      <th>25%</th>\n",
       "      <td>4.678865</td>\n",
       "      <td>-75.576824</td>\n",
       "      <td>2.000000</td>\n",
       "    </tr>\n",
       "    <tr>\n",
       "      <th>50%</th>\n",
       "      <td>6.167287</td>\n",
       "      <td>-75.556000</td>\n",
       "      <td>2.000000</td>\n",
       "    </tr>\n",
       "    <tr>\n",
       "      <th>75%</th>\n",
       "      <td>6.203000</td>\n",
       "      <td>-74.234149</td>\n",
       "      <td>3.000000</td>\n",
       "    </tr>\n",
       "    <tr>\n",
       "      <th>max</th>\n",
       "      <td>13.338761</td>\n",
       "      <td>-67.924336</td>\n",
       "      <td>20.000000</td>\n",
       "    </tr>\n",
       "  </tbody>\n",
       "</table>\n",
       "</div>"
      ],
      "text/plain": [
       "                lat           lon     bathrooms\n",
       "count  65850.000000  65850.000000  52054.000000\n",
       "mean       5.815544    -75.170268      2.639624\n",
       "std        1.933944      0.977128      1.426015\n",
       "min       -4.203165    -81.705052      1.000000\n",
       "25%        4.678865    -75.576824      2.000000\n",
       "50%        6.167287    -75.556000      2.000000\n",
       "75%        6.203000    -74.234149      3.000000\n",
       "max       13.338761    -67.924336     20.000000"
      ]
     },
     "execution_count": 39,
     "metadata": {},
     "output_type": "execute_result"
    }
   ],
   "source": [
    "properties_colombia_csv.describe()"
   ]
  },
  {
   "cell_type": "code",
   "execution_count": 40,
   "metadata": {},
   "outputs": [
    {
     "data": {
      "text/plain": [
       "start_date           0\n",
       "end_date             0\n",
       "created_on           0\n",
       "lat                  0\n",
       "lon                  0\n",
       "l2                   0\n",
       "l3                3657\n",
       "bathrooms        13796\n",
       "currency            17\n",
       "property_type        0\n",
       "dtype: int64"
      ]
     },
     "execution_count": 40,
     "metadata": {},
     "output_type": "execute_result"
    }
   ],
   "source": [
    "properties_colombia_csv.isnull().sum()"
   ]
  },
  {
   "cell_type": "markdown",
   "metadata": {},
   "source": [
    "compruebo el formato de las fechas"
   ]
  },
  {
   "cell_type": "code",
   "execution_count": 31,
   "metadata": {},
   "outputs": [],
   "source": [
    "def ver_formato_fecha(df, column):\n",
    "    df = df.copy()\n",
    "    df[column]=df[column].astype('str')\n",
    "    new2 = df[column].str.split(\"-\", n = 2, expand = True)\n",
    "    list_new_cero=list(new2[0])\n",
    "    list_new_uno=list(new2[1])\n",
    "    list_new_dos=list(new2[2])\n",
    "    \n",
    "    list_new_cero=list(set(list_new_cero))\n",
    "    list_new_uno=list(set(list_new_uno))\n",
    "    list_new_dos=list(set(list_new_dos))\n",
    "\n",
    "    print(\"columna\",column,\"años :\",list_new_cero)\n",
    "    print(\"meses\",list_new_uno)\n",
    "    print(\"cantidad de dias\",len(list_new_dos))\n",
    "    \n",
    "    return "
   ]
  },
  {
   "cell_type": "code",
   "execution_count": 58,
   "metadata": {},
   "outputs": [
    {
     "name": "stdout",
     "output_type": "stream",
     "text": [
      "columna start_date años : ['2020']\n",
      "meses ['09', '08', '07', '11', '10', '12']\n",
      "cantidad de dias 31\n"
     ]
    }
   ],
   "source": [
    "ver_formato_fecha(properties_colombia_csv, \"start_date\")"
   ]
  },
  {
   "cell_type": "code",
   "execution_count": 59,
   "metadata": {},
   "outputs": [
    {
     "name": "stdout",
     "output_type": "stream",
     "text": [
      "columna end_date años : ['2020', '2021', '9999']\n",
      "meses ['09', '01', '08', '05', '02', '04', '07', '11', '10', '03', '12', '06']\n",
      "cantidad de dias 31\n"
     ]
    }
   ],
   "source": [
    "ver_formato_fecha(properties_colombia_csv, \"end_date\")"
   ]
  },
  {
   "cell_type": "code",
   "execution_count": 60,
   "metadata": {},
   "outputs": [
    {
     "name": "stdout",
     "output_type": "stream",
     "text": [
      "columna created_on años : ['2020']\n",
      "meses ['09', '08', '07', '11', '10', '12']\n",
      "cantidad de dias 31\n"
     ]
    }
   ],
   "source": [
    "ver_formato_fecha(properties_colombia_csv, \"created_on\")"
   ]
  },
  {
   "cell_type": "code",
   "execution_count": 26,
   "metadata": {},
   "outputs": [],
   "source": [
    "#proceso las fechas para poder escalar\n",
    "def separo_fechas_en_columnas_diferente(df, column):\n",
    "    df = df.copy()\n",
    "    df[column]=df[column].astype('str')\n",
    "    new2 = df[column].str.split(\"-\", n = 2, expand = True)\n",
    "    df[column + '_year']=new2[0]\n",
    "    df[column + '_month']=new2[1]\n",
    "    df[column + '_day']=new2[2]\n",
    "    df[column + '_year']=df[column + '_year'].astype(\"int\")\n",
    "    df[column + '_month']=df[column + '_month'].astype(\"int\")\n",
    "    df[column + '_day']=df[column + '_day'].astype(\"int\")\n",
    "    df = df.drop(column, axis=1)\n",
    "    return df"
   ]
  },
  {
   "cell_type": "code",
   "execution_count": null,
   "metadata": {},
   "outputs": [],
   "source": [
    "#proceso las fechas para poder escalar"
   ]
  },
  {
   "cell_type": "code",
   "execution_count": 27,
   "metadata": {},
   "outputs": [],
   "source": [
    "new_df=separo_fechas_en_columnas_diferente(properties_colombia_csv, \"created_on\")"
   ]
  },
  {
   "cell_type": "code",
   "execution_count": 28,
   "metadata": {},
   "outputs": [],
   "source": [
    "new_df1=separo_fechas_en_columnas_diferente(new_df, \"end_date\")\n"
   ]
  },
  {
   "cell_type": "code",
   "execution_count": 29,
   "metadata": {},
   "outputs": [],
   "source": [
    "new_df2=separo_fechas_en_columnas_diferente(new_df1, \"start_date\") "
   ]
  },
  {
   "cell_type": "markdown",
   "metadata": {},
   "source": [
    "para no tener datos repetidos ya que tengo la ubicacion de la propiedad con latitud y longuitud. y para reducir la dimensionalidad del dataset borro las columnas l2 y l3"
   ]
  },
  {
   "cell_type": "code",
   "execution_count": 30,
   "metadata": {},
   "outputs": [],
   "source": [
    "new_df2=new_df2.drop(new_df2.columns[[2,3]], axis='columns')"
   ]
  },
  {
   "cell_type": "markdown",
   "metadata": {},
   "source": [
    "reemplazo los datos faltantes en la columna bathrooms con la cantidad más frecuente"
   ]
  },
  {
   "cell_type": "code",
   "execution_count": 31,
   "metadata": {},
   "outputs": [
    {
     "data": {
      "text/plain": [
       "2.0     23522\n",
       "3.0     10575\n",
       "1.0      7505\n",
       "4.0      5772\n",
       "5.0      2596\n",
       "6.0      1039\n",
       "7.0       390\n",
       "10.0      300\n",
       "8.0       211\n",
       "9.0       125\n",
       "13.0        3\n",
       "12.0        3\n",
       "14.0        3\n",
       "18.0        2\n",
       "20.0        2\n",
       "15.0        2\n",
       "17.0        2\n",
       "11.0        1\n",
       "16.0        1\n",
       "Name: bathrooms, dtype: int64"
      ]
     },
     "execution_count": 31,
     "metadata": {},
     "output_type": "execute_result"
    }
   ],
   "source": [
    "new_df2[\"bathrooms\"].value_counts()"
   ]
  },
  {
   "cell_type": "code",
   "execution_count": 32,
   "metadata": {},
   "outputs": [],
   "source": [
    "baños_moda=new_df2[\"bathrooms\"].mode()"
   ]
  },
  {
   "cell_type": "code",
   "execution_count": 39,
   "metadata": {},
   "outputs": [
    {
     "data": {
      "text/plain": [
       "2.0"
      ]
     },
     "execution_count": 39,
     "metadata": {},
     "output_type": "execute_result"
    }
   ],
   "source": [
    "(baños_moda[0])"
   ]
  },
  {
   "cell_type": "code",
   "execution_count": 33,
   "metadata": {},
   "outputs": [],
   "source": [
    "new_df2.bathrooms = new_df2[\"bathrooms\"].replace(np.nan,(baños_moda[0]))"
   ]
  },
  {
   "cell_type": "markdown",
   "metadata": {},
   "source": [
    "reemplazo los datos faltantes en la columna currency con la cantidad más frecuente"
   ]
  },
  {
   "cell_type": "code",
   "execution_count": 34,
   "metadata": {},
   "outputs": [],
   "source": [
    "currency_moda=new_df2[\"currency\"].mode()"
   ]
  },
  {
   "cell_type": "code",
   "execution_count": 42,
   "metadata": {},
   "outputs": [
    {
     "data": {
      "text/plain": [
       "'COP'"
      ]
     },
     "execution_count": 42,
     "metadata": {},
     "output_type": "execute_result"
    }
   ],
   "source": [
    "currency_moda[0]"
   ]
  },
  {
   "cell_type": "code",
   "execution_count": 35,
   "metadata": {},
   "outputs": [],
   "source": [
    "new_df2.currency = new_df2[\"currency\"].replace(np.nan,(currency_moda[0]))"
   ]
  },
  {
   "cell_type": "code",
   "execution_count": 54,
   "metadata": {},
   "outputs": [
    {
     "data": {
      "text/plain": [
       "lat                 0\n",
       "lon                 0\n",
       "bathrooms           0\n",
       "currency            0\n",
       "property_type       0\n",
       "created_on_year     0\n",
       "created_on_month    0\n",
       "created_on_day      0\n",
       "end_date_year       0\n",
       "end_date_month      0\n",
       "end_date_day        0\n",
       "start_date_year     0\n",
       "start_date_month    0\n",
       "start_date_day      0\n",
       "dtype: int64"
      ]
     },
     "execution_count": 54,
     "metadata": {},
     "output_type": "execute_result"
    }
   ],
   "source": [
    "new_df2.isnull().sum()"
   ]
  },
  {
   "cell_type": "code",
   "execution_count": 44,
   "metadata": {},
   "outputs": [
    {
     "data": {
      "text/plain": [
       "Apartamento        33524\n",
       "Casa               20084\n",
       "Lote                5704\n",
       "Otro                5372\n",
       "Local comercial      434\n",
       "Finca                377\n",
       "Oficina              348\n",
       "Parqueadero            7\n",
       "Name: property_type, dtype: int64"
      ]
     },
     "execution_count": 44,
     "metadata": {},
     "output_type": "execute_result"
    }
   ],
   "source": [
    "new_df2[\"property_type\"].value_counts()"
   ]
  },
  {
   "cell_type": "code",
   "execution_count": 56,
   "metadata": {},
   "outputs": [
    {
     "data": {
      "text/plain": [
       "Apartamento        33524\n",
       "Casa               20084\n",
       "Lote                5704\n",
       "Otro                5372\n",
       "Local comercial      434\n",
       "Finca                377\n",
       "Oficina              348\n",
       "Parqueadero            7\n",
       "Name: property_type, dtype: int64"
      ]
     },
     "execution_count": 56,
     "metadata": {},
     "output_type": "execute_result"
    }
   ],
   "source": [
    "new_df2.property_type.value_counts()"
   ]
  },
  {
   "cell_type": "markdown",
   "metadata": {},
   "source": [
    "codifico las columnas property_type y currency"
   ]
  },
  {
   "cell_type": "code",
   "execution_count": 36,
   "metadata": {},
   "outputs": [],
   "source": [
    "new_df_3=pd.get_dummies(new_df2,columns=[\"property_type\"])"
   ]
  },
  {
   "cell_type": "code",
   "execution_count": 37,
   "metadata": {},
   "outputs": [],
   "source": [
    "new_df_4=pd.get_dummies(new_df_3,columns=[\"currency\"])"
   ]
  },
  {
   "cell_type": "code",
   "execution_count": 81,
   "metadata": {},
   "outputs": [
    {
     "data": {
      "text/html": [
       "<div>\n",
       "<style scoped>\n",
       "    .dataframe tbody tr th:only-of-type {\n",
       "        vertical-align: middle;\n",
       "    }\n",
       "\n",
       "    .dataframe tbody tr th {\n",
       "        vertical-align: top;\n",
       "    }\n",
       "\n",
       "    .dataframe thead th {\n",
       "        text-align: right;\n",
       "    }\n",
       "</style>\n",
       "<table border=\"1\" class=\"dataframe\">\n",
       "  <thead>\n",
       "    <tr style=\"text-align: right;\">\n",
       "      <th></th>\n",
       "      <th>lat</th>\n",
       "      <th>lon</th>\n",
       "      <th>bathrooms</th>\n",
       "      <th>created_on_year</th>\n",
       "      <th>created_on_month</th>\n",
       "      <th>created_on_day</th>\n",
       "      <th>end_date_year</th>\n",
       "      <th>end_date_month</th>\n",
       "      <th>end_date_day</th>\n",
       "      <th>start_date_year</th>\n",
       "      <th>...</th>\n",
       "      <th>property_type_Apartamento</th>\n",
       "      <th>property_type_Casa</th>\n",
       "      <th>property_type_Finca</th>\n",
       "      <th>property_type_Local comercial</th>\n",
       "      <th>property_type_Lote</th>\n",
       "      <th>property_type_Oficina</th>\n",
       "      <th>property_type_Otro</th>\n",
       "      <th>property_type_Parqueadero</th>\n",
       "      <th>currency_COP</th>\n",
       "      <th>currency_USD</th>\n",
       "    </tr>\n",
       "  </thead>\n",
       "  <tbody>\n",
       "    <tr>\n",
       "      <th>0</th>\n",
       "      <td>4.722</td>\n",
       "      <td>-74.075</td>\n",
       "      <td>3.0</td>\n",
       "      <td>2020</td>\n",
       "      <td>9</td>\n",
       "      <td>4</td>\n",
       "      <td>2020</td>\n",
       "      <td>9</td>\n",
       "      <td>12</td>\n",
       "      <td>2020</td>\n",
       "      <td>...</td>\n",
       "      <td>0</td>\n",
       "      <td>1</td>\n",
       "      <td>0</td>\n",
       "      <td>0</td>\n",
       "      <td>0</td>\n",
       "      <td>0</td>\n",
       "      <td>0</td>\n",
       "      <td>0</td>\n",
       "      <td>1</td>\n",
       "      <td>0</td>\n",
       "    </tr>\n",
       "    <tr>\n",
       "      <th>1</th>\n",
       "      <td>6.203</td>\n",
       "      <td>-75.556</td>\n",
       "      <td>3.0</td>\n",
       "      <td>2020</td>\n",
       "      <td>10</td>\n",
       "      <td>20</td>\n",
       "      <td>2020</td>\n",
       "      <td>10</td>\n",
       "      <td>20</td>\n",
       "      <td>2020</td>\n",
       "      <td>...</td>\n",
       "      <td>1</td>\n",
       "      <td>0</td>\n",
       "      <td>0</td>\n",
       "      <td>0</td>\n",
       "      <td>0</td>\n",
       "      <td>0</td>\n",
       "      <td>0</td>\n",
       "      <td>0</td>\n",
       "      <td>1</td>\n",
       "      <td>0</td>\n",
       "    </tr>\n",
       "  </tbody>\n",
       "</table>\n",
       "<p>2 rows × 22 columns</p>\n",
       "</div>"
      ],
      "text/plain": [
       "     lat     lon  bathrooms  created_on_year  created_on_month  \\\n",
       "0  4.722 -74.075        3.0             2020                 9   \n",
       "1  6.203 -75.556        3.0             2020                10   \n",
       "\n",
       "   created_on_day  end_date_year  end_date_month  end_date_day  \\\n",
       "0               4           2020               9            12   \n",
       "1              20           2020              10            20   \n",
       "\n",
       "   start_date_year  ...  property_type_Apartamento  property_type_Casa  \\\n",
       "0             2020  ...                          0                   1   \n",
       "1             2020  ...                          1                   0   \n",
       "\n",
       "   property_type_Finca  property_type_Local comercial  property_type_Lote  \\\n",
       "0                    0                              0                   0   \n",
       "1                    0                              0                   0   \n",
       "\n",
       "   property_type_Oficina  property_type_Otro  property_type_Parqueadero  \\\n",
       "0                      0                   0                          0   \n",
       "1                      0                   0                          0   \n",
       "\n",
       "   currency_COP  currency_USD  \n",
       "0             1             0  \n",
       "1             1             0  \n",
       "\n",
       "[2 rows x 22 columns]"
      ]
     },
     "execution_count": 81,
     "metadata": {},
     "output_type": "execute_result"
    }
   ],
   "source": [
    "new_df_4.head(2)"
   ]
  },
  {
   "cell_type": "code",
   "execution_count": 38,
   "metadata": {},
   "outputs": [],
   "source": [
    "new_df_4.to_csv(\"columbia_houses_test.csv\", index=False)"
   ]
  },
  {
   "cell_type": "code",
   "execution_count": 83,
   "metadata": {},
   "outputs": [
    {
     "name": "stdout",
     "output_type": "stream",
     "text": [
      "<class 'pandas.core.frame.DataFrame'>\n",
      "RangeIndex: 65850 entries, 0 to 65849\n",
      "Data columns (total 22 columns):\n",
      " #   Column                         Non-Null Count  Dtype  \n",
      "---  ------                         --------------  -----  \n",
      " 0   lat                            65850 non-null  float64\n",
      " 1   lon                            65850 non-null  float64\n",
      " 2   bathrooms                      65850 non-null  float64\n",
      " 3   created_on_year                65850 non-null  int32  \n",
      " 4   created_on_month               65850 non-null  int32  \n",
      " 5   created_on_day                 65850 non-null  int32  \n",
      " 6   end_date_year                  65850 non-null  int32  \n",
      " 7   end_date_month                 65850 non-null  int32  \n",
      " 8   end_date_day                   65850 non-null  int32  \n",
      " 9   start_date_year                65850 non-null  int32  \n",
      " 10  start_date_month               65850 non-null  int32  \n",
      " 11  start_date_day                 65850 non-null  int32  \n",
      " 12  property_type_Apartamento      65850 non-null  uint8  \n",
      " 13  property_type_Casa             65850 non-null  uint8  \n",
      " 14  property_type_Finca            65850 non-null  uint8  \n",
      " 15  property_type_Local comercial  65850 non-null  uint8  \n",
      " 16  property_type_Lote             65850 non-null  uint8  \n",
      " 17  property_type_Oficina          65850 non-null  uint8  \n",
      " 18  property_type_Otro             65850 non-null  uint8  \n",
      " 19  property_type_Parqueadero      65850 non-null  uint8  \n",
      " 20  currency_COP                   65850 non-null  uint8  \n",
      " 21  currency_USD                   65850 non-null  uint8  \n",
      "dtypes: float64(3), int32(9), uint8(10)\n",
      "memory usage: 4.4 MB\n"
     ]
    }
   ],
   "source": [
    "new_df_4.info()"
   ]
  },
  {
   "cell_type": "markdown",
   "metadata": {},
   "source": [
    "ver la distribucion de lat y lon para luego saber que escalado aplicar"
   ]
  },
  {
   "cell_type": "code",
   "execution_count": 84,
   "metadata": {},
   "outputs": [
    {
     "data": {
      "image/png": "[encoded data removed]",
      "text/plain": [
       "<Figure size 432x288 with 1 Axes>"
      ]
     },
     "metadata": {},
     "output_type": "display_data"
    }
   ],
   "source": [
    "ax = properties_colombia_csv.lat.plot.hist(bins=12, alpha=0.5)"
   ]
  },
  {
   "cell_type": "code",
   "execution_count": 85,
   "metadata": {},
   "outputs": [
    {
     "data": {
      "image/png": "[encoded data removed]",
      "text/plain": [
       "<Figure size 432x288 with 1 Axes>"
      ]
     },
     "metadata": {},
     "output_type": "display_data"
    }
   ],
   "source": [
    "ax = properties_colombia_csv.lon.plot.hist(bins=12, alpha=0.5)"
   ]
  },
  {
   "cell_type": "markdown",
   "metadata": {},
   "source": [
    "https://machinelearningknowledge.ai/sklearn-feature-scaling-with-standardscaler-minmaxscaler-robustscaler-and-maxabsscaler/\n",
    "\n",
    "https://www.kaggle.com/code/sudamyasodya/superstore-sales-prediction-my-copy/notebook"
   ]
  },
  {
   "cell_type": "code",
   "execution_count": 48,
   "metadata": {},
   "outputs": [],
   "source": [
    "columns_scaler=['lat', 'lon', 'bathrooms', 'created_on_year', 'created_on_month',\n",
    "'created_on_day', 'end_date_year', 'end_date_month', 'end_date_day',\n",
    "'start_date_year', 'start_date_month', 'start_date_day']"
   ]
  },
  {
   "cell_type": "code",
   "execution_count": 49,
   "metadata": {},
   "outputs": [],
   "source": [
    "from sklearn.preprocessing import StandardScaler\n",
    "newdf_5=new_df_4[columns_scaler]\n",
    "Standar_scaled_features = StandardScaler().fit_transform(newdf_5.values)\n"
   ]
  },
  {
   "cell_type": "code",
   "execution_count": 62,
   "metadata": {},
   "outputs": [
    {
     "name": "stdout",
     "output_type": "stream",
     "text": [
      "mean [-3.36064594e-16  5.46667411e-15  1.61072539e-16  0.00000000e+00\n",
      " -5.12594270e-16 -1.08982257e-16 -6.31233865e-18  8.31394348e-17\n",
      "  6.94896768e-17  0.00000000e+00 -5.12594270e-16 -1.08982257e-16]\n",
      "std [1. 1. 1. 0. 1. 1. 1. 1. 1. 0. 1. 1.]\n"
     ]
    }
   ],
   "source": [
    "print(\"mean\",Standar_scaled_features.mean(axis=0))\n",
    "print(\"std\",Standar_scaled_features.std(axis=0))\n"
   ]
  },
  {
   "cell_type": "code",
   "execution_count": 50,
   "metadata": {},
   "outputs": [],
   "source": [
    "df=pd.DataFrame(Standar_scaled_features)\n",
    "#data_ML_car.loc[data_ML_car['carwidth']]=df[\n",
    "df.columns=columns_scaler"
   ]
  },
  {
   "cell_type": "code",
   "execution_count": 90,
   "metadata": {},
   "outputs": [
    {
     "data": {
      "text/plain": [
       "<AxesSubplot:xlabel='lat', ylabel='Density'>"
      ]
     },
     "execution_count": 90,
     "metadata": {},
     "output_type": "execute_result"
    },
    {
     "data": {
      "image/png": "[encoded data removed]",
      "text/plain": [
       "<Figure size 432x288 with 1 Axes>"
      ]
     },
     "metadata": {},
     "output_type": "display_data"
    }
   ],
   "source": [
    "sns.kdeplot(new_df_4[\"lat\"])\n",
    "sns.kdeplot(new_df_4[\"lon\"])\n",
    "sns.kdeplot(new_df_4[\"bathrooms\"])\n"
   ]
  },
  {
   "cell_type": "code",
   "execution_count": 91,
   "metadata": {},
   "outputs": [
    {
     "data": {
      "text/plain": [
       "<AxesSubplot:xlabel='lat', ylabel='Density'>"
      ]
     },
     "execution_count": 91,
     "metadata": {},
     "output_type": "execute_result"
    },
    {
     "data": {
      "image/png": "[encoded data removed]",
      "text/plain": [
       "<Figure size 432x288 with 1 Axes>"
      ]
     },
     "metadata": {},
     "output_type": "display_data"
    }
   ],
   "source": [
    "sns.kdeplot(df[\"lat\"])\n",
    "sns.kdeplot(df[\"lon\"])\n",
    "sns.kdeplot(df[\"bathrooms\"])"
   ]
  },
  {
   "cell_type": "code",
   "execution_count": 64,
   "metadata": {},
   "outputs": [
    {
     "data": {
      "text/html": [
       "<div>\n",
       "<style scoped>\n",
       "    .dataframe tbody tr th:only-of-type {\n",
       "        vertical-align: middle;\n",
       "    }\n",
       "\n",
       "    .dataframe tbody tr th {\n",
       "        vertical-align: top;\n",
       "    }\n",
       "\n",
       "    .dataframe thead th {\n",
       "        text-align: right;\n",
       "    }\n",
       "</style>\n",
       "<table border=\"1\" class=\"dataframe\">\n",
       "  <thead>\n",
       "    <tr style=\"text-align: right;\">\n",
       "      <th></th>\n",
       "      <th>count</th>\n",
       "      <th>mean</th>\n",
       "      <th>std</th>\n",
       "      <th>min</th>\n",
       "      <th>25%</th>\n",
       "      <th>50%</th>\n",
       "      <th>75%</th>\n",
       "      <th>max</th>\n",
       "    </tr>\n",
       "  </thead>\n",
       "  <tbody>\n",
       "    <tr>\n",
       "      <th>lat</th>\n",
       "      <td>65850.0</td>\n",
       "      <td>-3.360646e-16</td>\n",
       "      <td>1.000008</td>\n",
       "      <td>-5.180494</td>\n",
       "      <td>-0.587756</td>\n",
       "      <td>0.181880</td>\n",
       "      <td>0.200347</td>\n",
       "      <td>3.890120</td>\n",
       "    </tr>\n",
       "    <tr>\n",
       "      <th>lon</th>\n",
       "      <td>65850.0</td>\n",
       "      <td>5.466674e-15</td>\n",
       "      <td>1.000008</td>\n",
       "      <td>-6.687797</td>\n",
       "      <td>-0.416075</td>\n",
       "      <td>-0.394764</td>\n",
       "      <td>0.958038</td>\n",
       "      <td>7.415596</td>\n",
       "    </tr>\n",
       "    <tr>\n",
       "      <th>bathrooms</th>\n",
       "      <td>65850.0</td>\n",
       "      <td>1.610725e-16</td>\n",
       "      <td>1.000008</td>\n",
       "      <td>-1.163271</td>\n",
       "      <td>-0.390651</td>\n",
       "      <td>-0.390651</td>\n",
       "      <td>0.381969</td>\n",
       "      <td>13.516501</td>\n",
       "    </tr>\n",
       "    <tr>\n",
       "      <th>created_on_year</th>\n",
       "      <td>65850.0</td>\n",
       "      <td>0.000000e+00</td>\n",
       "      <td>0.000000</td>\n",
       "      <td>0.000000</td>\n",
       "      <td>0.000000</td>\n",
       "      <td>0.000000</td>\n",
       "      <td>0.000000</td>\n",
       "      <td>0.000000</td>\n",
       "    </tr>\n",
       "    <tr>\n",
       "      <th>created_on_month</th>\n",
       "      <td>65850.0</td>\n",
       "      <td>-5.125943e-16</td>\n",
       "      <td>1.000008</td>\n",
       "      <td>-1.797506</td>\n",
       "      <td>-1.150037</td>\n",
       "      <td>0.144901</td>\n",
       "      <td>0.792370</td>\n",
       "      <td>1.439839</td>\n",
       "    </tr>\n",
       "    <tr>\n",
       "      <th>created_on_day</th>\n",
       "      <td>65850.0</td>\n",
       "      <td>-1.089823e-16</td>\n",
       "      <td>1.000008</td>\n",
       "      <td>-1.761186</td>\n",
       "      <td>-0.879664</td>\n",
       "      <td>0.112049</td>\n",
       "      <td>0.993572</td>\n",
       "      <td>1.544524</td>\n",
       "    </tr>\n",
       "    <tr>\n",
       "      <th>end_date_year</th>\n",
       "      <td>65850.0</td>\n",
       "      <td>-6.312339e-18</td>\n",
       "      <td>1.000008</td>\n",
       "      <td>-0.252591</td>\n",
       "      <td>-0.252591</td>\n",
       "      <td>-0.252591</td>\n",
       "      <td>-0.252063</td>\n",
       "      <td>3.960781</td>\n",
       "    </tr>\n",
       "    <tr>\n",
       "      <th>end_date_month</th>\n",
       "      <td>65850.0</td>\n",
       "      <td>8.313943e-17</td>\n",
       "      <td>1.000008</td>\n",
       "      <td>-2.289998</td>\n",
       "      <td>-0.209236</td>\n",
       "      <td>0.385267</td>\n",
       "      <td>0.682519</td>\n",
       "      <td>0.979771</td>\n",
       "    </tr>\n",
       "    <tr>\n",
       "      <th>end_date_day</th>\n",
       "      <td>65850.0</td>\n",
       "      <td>6.948968e-17</td>\n",
       "      <td>1.000008</td>\n",
       "      <td>-1.714697</td>\n",
       "      <td>-0.863542</td>\n",
       "      <td>0.094007</td>\n",
       "      <td>0.945161</td>\n",
       "      <td>1.477133</td>\n",
       "    </tr>\n",
       "    <tr>\n",
       "      <th>start_date_year</th>\n",
       "      <td>65850.0</td>\n",
       "      <td>0.000000e+00</td>\n",
       "      <td>0.000000</td>\n",
       "      <td>0.000000</td>\n",
       "      <td>0.000000</td>\n",
       "      <td>0.000000</td>\n",
       "      <td>0.000000</td>\n",
       "      <td>0.000000</td>\n",
       "    </tr>\n",
       "    <tr>\n",
       "      <th>start_date_month</th>\n",
       "      <td>65850.0</td>\n",
       "      <td>-5.125943e-16</td>\n",
       "      <td>1.000008</td>\n",
       "      <td>-1.797506</td>\n",
       "      <td>-1.150037</td>\n",
       "      <td>0.144901</td>\n",
       "      <td>0.792370</td>\n",
       "      <td>1.439839</td>\n",
       "    </tr>\n",
       "    <tr>\n",
       "      <th>start_date_day</th>\n",
       "      <td>65850.0</td>\n",
       "      <td>-1.089823e-16</td>\n",
       "      <td>1.000008</td>\n",
       "      <td>-1.761186</td>\n",
       "      <td>-0.879664</td>\n",
       "      <td>0.112049</td>\n",
       "      <td>0.993572</td>\n",
       "      <td>1.544524</td>\n",
       "    </tr>\n",
       "  </tbody>\n",
       "</table>\n",
       "</div>"
      ],
      "text/plain": [
       "                    count          mean       std       min       25%  \\\n",
       "lat               65850.0 -3.360646e-16  1.000008 -5.180494 -0.587756   \n",
       "lon               65850.0  5.466674e-15  1.000008 -6.687797 -0.416075   \n",
       "bathrooms         65850.0  1.610725e-16  1.000008 -1.163271 -0.390651   \n",
       "created_on_year   65850.0  0.000000e+00  0.000000  0.000000  0.000000   \n",
       "created_on_month  65850.0 -5.125943e-16  1.000008 -1.797506 -1.150037   \n",
       "created_on_day    65850.0 -1.089823e-16  1.000008 -1.761186 -0.879664   \n",
       "end_date_year     65850.0 -6.312339e-18  1.000008 -0.252591 -0.252591   \n",
       "end_date_month    65850.0  8.313943e-17  1.000008 -2.289998 -0.209236   \n",
       "end_date_day      65850.0  6.948968e-17  1.000008 -1.714697 -0.863542   \n",
       "start_date_year   65850.0  0.000000e+00  0.000000  0.000000  0.000000   \n",
       "start_date_month  65850.0 -5.125943e-16  1.000008 -1.797506 -1.150037   \n",
       "start_date_day    65850.0 -1.089823e-16  1.000008 -1.761186 -0.879664   \n",
       "\n",
       "                       50%       75%        max  \n",
       "lat               0.181880  0.200347   3.890120  \n",
       "lon              -0.394764  0.958038   7.415596  \n",
       "bathrooms        -0.390651  0.381969  13.516501  \n",
       "created_on_year   0.000000  0.000000   0.000000  \n",
       "created_on_month  0.144901  0.792370   1.439839  \n",
       "created_on_day    0.112049  0.993572   1.544524  \n",
       "end_date_year    -0.252591 -0.252063   3.960781  \n",
       "end_date_month    0.385267  0.682519   0.979771  \n",
       "end_date_day      0.094007  0.945161   1.477133  \n",
       "start_date_year   0.000000  0.000000   0.000000  \n",
       "start_date_month  0.144901  0.792370   1.439839  \n",
       "start_date_day    0.112049  0.993572   1.544524  "
      ]
     },
     "execution_count": 64,
     "metadata": {},
     "output_type": "execute_result"
    }
   ],
   "source": [
    "df.describe().T"
   ]
  },
  {
   "cell_type": "code",
   "execution_count": 52,
   "metadata": {},
   "outputs": [],
   "source": [
    "columnas_faltantes=['property_type_Apartamento', 'property_type_Casa','property_type_Finca', 'property_type_Local comercial','property_type_Lote', 'property_type_Oficina', 'property_type_Otro','property_type_Parqueadero', 'currency_COP', 'currency_USD']"
   ]
  },
  {
   "cell_type": "code",
   "execution_count": 53,
   "metadata": {},
   "outputs": [],
   "source": [
    "df_new6=new_df_4[columnas_faltantes].copy()"
   ]
  },
  {
   "cell_type": "code",
   "execution_count": 54,
   "metadata": {},
   "outputs": [],
   "source": [
    "df[columnas_faltantes]=df_new6[columnas_faltantes].copy()"
   ]
  },
  {
   "cell_type": "code",
   "execution_count": 55,
   "metadata": {},
   "outputs": [
    {
     "data": {
      "text/html": [
       "<div>\n",
       "<style scoped>\n",
       "    .dataframe tbody tr th:only-of-type {\n",
       "        vertical-align: middle;\n",
       "    }\n",
       "\n",
       "    .dataframe tbody tr th {\n",
       "        vertical-align: top;\n",
       "    }\n",
       "\n",
       "    .dataframe thead th {\n",
       "        text-align: right;\n",
       "    }\n",
       "</style>\n",
       "<table border=\"1\" class=\"dataframe\">\n",
       "  <thead>\n",
       "    <tr style=\"text-align: right;\">\n",
       "      <th></th>\n",
       "      <th>lat</th>\n",
       "      <th>lon</th>\n",
       "      <th>bathrooms</th>\n",
       "      <th>created_on_year</th>\n",
       "      <th>created_on_month</th>\n",
       "      <th>created_on_day</th>\n",
       "      <th>end_date_year</th>\n",
       "      <th>end_date_month</th>\n",
       "      <th>end_date_day</th>\n",
       "      <th>start_date_year</th>\n",
       "      <th>...</th>\n",
       "      <th>property_type_Apartamento</th>\n",
       "      <th>property_type_Casa</th>\n",
       "      <th>property_type_Finca</th>\n",
       "      <th>property_type_Local comercial</th>\n",
       "      <th>property_type_Lote</th>\n",
       "      <th>property_type_Oficina</th>\n",
       "      <th>property_type_Otro</th>\n",
       "      <th>property_type_Parqueadero</th>\n",
       "      <th>currency_COP</th>\n",
       "      <th>currency_USD</th>\n",
       "    </tr>\n",
       "  </thead>\n",
       "  <tbody>\n",
       "    <tr>\n",
       "      <th>0</th>\n",
       "      <td>-0.565452</td>\n",
       "      <td>1.120914</td>\n",
       "      <td>0.381969</td>\n",
       "      <td>0.0</td>\n",
       "      <td>-0.502568</td>\n",
       "      <td>-1.430615</td>\n",
       "      <td>-0.252591</td>\n",
       "      <td>0.088015</td>\n",
       "      <td>-0.544359</td>\n",
       "      <td>0.0</td>\n",
       "      <td>...</td>\n",
       "      <td>0</td>\n",
       "      <td>1</td>\n",
       "      <td>0</td>\n",
       "      <td>0</td>\n",
       "      <td>0</td>\n",
       "      <td>0</td>\n",
       "      <td>0</td>\n",
       "      <td>0</td>\n",
       "      <td>1</td>\n",
       "      <td>0</td>\n",
       "    </tr>\n",
       "    <tr>\n",
       "      <th>1</th>\n",
       "      <td>0.200347</td>\n",
       "      <td>-0.394764</td>\n",
       "      <td>0.381969</td>\n",
       "      <td>0.0</td>\n",
       "      <td>0.144901</td>\n",
       "      <td>0.332430</td>\n",
       "      <td>-0.252591</td>\n",
       "      <td>0.385267</td>\n",
       "      <td>0.306795</td>\n",
       "      <td>0.0</td>\n",
       "      <td>...</td>\n",
       "      <td>1</td>\n",
       "      <td>0</td>\n",
       "      <td>0</td>\n",
       "      <td>0</td>\n",
       "      <td>0</td>\n",
       "      <td>0</td>\n",
       "      <td>0</td>\n",
       "      <td>0</td>\n",
       "      <td>1</td>\n",
       "      <td>0</td>\n",
       "    </tr>\n",
       "    <tr>\n",
       "      <th>2</th>\n",
       "      <td>0.229434</td>\n",
       "      <td>-0.468839</td>\n",
       "      <td>-1.163271</td>\n",
       "      <td>0.0</td>\n",
       "      <td>0.144901</td>\n",
       "      <td>0.332430</td>\n",
       "      <td>-0.252591</td>\n",
       "      <td>0.385267</td>\n",
       "      <td>0.519584</td>\n",
       "      <td>0.0</td>\n",
       "      <td>...</td>\n",
       "      <td>0</td>\n",
       "      <td>1</td>\n",
       "      <td>0</td>\n",
       "      <td>0</td>\n",
       "      <td>0</td>\n",
       "      <td>0</td>\n",
       "      <td>0</td>\n",
       "      <td>0</td>\n",
       "      <td>1</td>\n",
       "      <td>0</td>\n",
       "    </tr>\n",
       "    <tr>\n",
       "      <th>3</th>\n",
       "      <td>0.200347</td>\n",
       "      <td>-0.394764</td>\n",
       "      <td>-0.390651</td>\n",
       "      <td>0.0</td>\n",
       "      <td>1.439839</td>\n",
       "      <td>-0.769473</td>\n",
       "      <td>3.960781</td>\n",
       "      <td>0.979771</td>\n",
       "      <td>1.477133</td>\n",
       "      <td>0.0</td>\n",
       "      <td>...</td>\n",
       "      <td>0</td>\n",
       "      <td>0</td>\n",
       "      <td>0</td>\n",
       "      <td>0</td>\n",
       "      <td>1</td>\n",
       "      <td>0</td>\n",
       "      <td>0</td>\n",
       "      <td>0</td>\n",
       "      <td>1</td>\n",
       "      <td>0</td>\n",
       "    </tr>\n",
       "    <tr>\n",
       "      <th>4</th>\n",
       "      <td>0.200347</td>\n",
       "      <td>-0.394764</td>\n",
       "      <td>-0.390651</td>\n",
       "      <td>0.0</td>\n",
       "      <td>1.439839</td>\n",
       "      <td>-0.769473</td>\n",
       "      <td>-0.252591</td>\n",
       "      <td>0.979771</td>\n",
       "      <td>-0.650754</td>\n",
       "      <td>0.0</td>\n",
       "      <td>...</td>\n",
       "      <td>0</td>\n",
       "      <td>1</td>\n",
       "      <td>0</td>\n",
       "      <td>0</td>\n",
       "      <td>0</td>\n",
       "      <td>0</td>\n",
       "      <td>0</td>\n",
       "      <td>0</td>\n",
       "      <td>1</td>\n",
       "      <td>0</td>\n",
       "    </tr>\n",
       "    <tr>\n",
       "      <th>...</th>\n",
       "      <td>...</td>\n",
       "      <td>...</td>\n",
       "      <td>...</td>\n",
       "      <td>...</td>\n",
       "      <td>...</td>\n",
       "      <td>...</td>\n",
       "      <td>...</td>\n",
       "      <td>...</td>\n",
       "      <td>...</td>\n",
       "      <td>...</td>\n",
       "      <td>...</td>\n",
       "      <td>...</td>\n",
       "      <td>...</td>\n",
       "      <td>...</td>\n",
       "      <td>...</td>\n",
       "      <td>...</td>\n",
       "      <td>...</td>\n",
       "      <td>...</td>\n",
       "      <td>...</td>\n",
       "      <td>...</td>\n",
       "      <td>...</td>\n",
       "    </tr>\n",
       "    <tr>\n",
       "      <th>65845</th>\n",
       "      <td>0.205507</td>\n",
       "      <td>-0.439128</td>\n",
       "      <td>-0.390651</td>\n",
       "      <td>0.0</td>\n",
       "      <td>1.439839</td>\n",
       "      <td>-1.650996</td>\n",
       "      <td>-0.252063</td>\n",
       "      <td>-0.209236</td>\n",
       "      <td>-1.501908</td>\n",
       "      <td>0.0</td>\n",
       "      <td>...</td>\n",
       "      <td>1</td>\n",
       "      <td>0</td>\n",
       "      <td>0</td>\n",
       "      <td>0</td>\n",
       "      <td>0</td>\n",
       "      <td>0</td>\n",
       "      <td>0</td>\n",
       "      <td>0</td>\n",
       "      <td>1</td>\n",
       "      <td>0</td>\n",
       "    </tr>\n",
       "    <tr>\n",
       "      <th>65846</th>\n",
       "      <td>-0.400331</td>\n",
       "      <td>-0.350159</td>\n",
       "      <td>-1.163271</td>\n",
       "      <td>0.0</td>\n",
       "      <td>-1.797506</td>\n",
       "      <td>1.103762</td>\n",
       "      <td>-0.252591</td>\n",
       "      <td>0.385267</td>\n",
       "      <td>-1.608303</td>\n",
       "      <td>0.0</td>\n",
       "      <td>...</td>\n",
       "      <td>1</td>\n",
       "      <td>0</td>\n",
       "      <td>0</td>\n",
       "      <td>0</td>\n",
       "      <td>0</td>\n",
       "      <td>0</td>\n",
       "      <td>0</td>\n",
       "      <td>0</td>\n",
       "      <td>1</td>\n",
       "      <td>0</td>\n",
       "    </tr>\n",
       "    <tr>\n",
       "      <th>65847</th>\n",
       "      <td>-0.388231</td>\n",
       "      <td>-0.512017</td>\n",
       "      <td>-0.390651</td>\n",
       "      <td>0.0</td>\n",
       "      <td>0.792370</td>\n",
       "      <td>-1.210235</td>\n",
       "      <td>-0.252591</td>\n",
       "      <td>0.682519</td>\n",
       "      <td>-1.182725</td>\n",
       "      <td>0.0</td>\n",
       "      <td>...</td>\n",
       "      <td>0</td>\n",
       "      <td>0</td>\n",
       "      <td>0</td>\n",
       "      <td>0</td>\n",
       "      <td>0</td>\n",
       "      <td>0</td>\n",
       "      <td>1</td>\n",
       "      <td>0</td>\n",
       "      <td>1</td>\n",
       "      <td>0</td>\n",
       "    </tr>\n",
       "    <tr>\n",
       "      <th>65848</th>\n",
       "      <td>0.684150</td>\n",
       "      <td>2.090792</td>\n",
       "      <td>-0.390651</td>\n",
       "      <td>0.0</td>\n",
       "      <td>1.439839</td>\n",
       "      <td>-0.328712</td>\n",
       "      <td>-0.252591</td>\n",
       "      <td>0.979771</td>\n",
       "      <td>-0.331571</td>\n",
       "      <td>0.0</td>\n",
       "      <td>...</td>\n",
       "      <td>1</td>\n",
       "      <td>0</td>\n",
       "      <td>0</td>\n",
       "      <td>0</td>\n",
       "      <td>0</td>\n",
       "      <td>0</td>\n",
       "      <td>0</td>\n",
       "      <td>0</td>\n",
       "      <td>1</td>\n",
       "      <td>0</td>\n",
       "    </tr>\n",
       "    <tr>\n",
       "      <th>65849</th>\n",
       "      <td>0.200347</td>\n",
       "      <td>-0.394764</td>\n",
       "      <td>-0.390651</td>\n",
       "      <td>0.0</td>\n",
       "      <td>0.792370</td>\n",
       "      <td>-0.769473</td>\n",
       "      <td>-0.252591</td>\n",
       "      <td>0.682519</td>\n",
       "      <td>-0.650754</td>\n",
       "      <td>0.0</td>\n",
       "      <td>...</td>\n",
       "      <td>1</td>\n",
       "      <td>0</td>\n",
       "      <td>0</td>\n",
       "      <td>0</td>\n",
       "      <td>0</td>\n",
       "      <td>0</td>\n",
       "      <td>0</td>\n",
       "      <td>0</td>\n",
       "      <td>1</td>\n",
       "      <td>0</td>\n",
       "    </tr>\n",
       "  </tbody>\n",
       "</table>\n",
       "<p>65850 rows × 22 columns</p>\n",
       "</div>"
      ],
      "text/plain": [
       "            lat       lon  bathrooms  created_on_year  created_on_month  \\\n",
       "0     -0.565452  1.120914   0.381969              0.0         -0.502568   \n",
       "1      0.200347 -0.394764   0.381969              0.0          0.144901   \n",
       "2      0.229434 -0.468839  -1.163271              0.0          0.144901   \n",
       "3      0.200347 -0.394764  -0.390651              0.0          1.439839   \n",
       "4      0.200347 -0.394764  -0.390651              0.0          1.439839   \n",
       "...         ...       ...        ...              ...               ...   \n",
       "65845  0.205507 -0.439128  -0.390651              0.0          1.439839   \n",
       "65846 -0.400331 -0.350159  -1.163271              0.0         -1.797506   \n",
       "65847 -0.388231 -0.512017  -0.390651              0.0          0.792370   \n",
       "65848  0.684150  2.090792  -0.390651              0.0          1.439839   \n",
       "65849  0.200347 -0.394764  -0.390651              0.0          0.792370   \n",
       "\n",
       "       created_on_day  end_date_year  end_date_month  end_date_day  \\\n",
       "0           -1.430615      -0.252591        0.088015     -0.544359   \n",
       "1            0.332430      -0.252591        0.385267      0.306795   \n",
       "2            0.332430      -0.252591        0.385267      0.519584   \n",
       "3           -0.769473       3.960781        0.979771      1.477133   \n",
       "4           -0.769473      -0.252591        0.979771     -0.650754   \n",
       "...               ...            ...             ...           ...   \n",
       "65845       -1.650996      -0.252063       -0.209236     -1.501908   \n",
       "65846        1.103762      -0.252591        0.385267     -1.608303   \n",
       "65847       -1.210235      -0.252591        0.682519     -1.182725   \n",
       "65848       -0.328712      -0.252591        0.979771     -0.331571   \n",
       "65849       -0.769473      -0.252591        0.682519     -0.650754   \n",
       "\n",
       "       start_date_year  ...  property_type_Apartamento  property_type_Casa  \\\n",
       "0                  0.0  ...                          0                   1   \n",
       "1                  0.0  ...                          1                   0   \n",
       "2                  0.0  ...                          0                   1   \n",
       "3                  0.0  ...                          0                   0   \n",
       "4                  0.0  ...                          0                   1   \n",
       "...                ...  ...                        ...                 ...   \n",
       "65845              0.0  ...                          1                   0   \n",
       "65846              0.0  ...                          1                   0   \n",
       "65847              0.0  ...                          0                   0   \n",
       "65848              0.0  ...                          1                   0   \n",
       "65849              0.0  ...                          1                   0   \n",
       "\n",
       "       property_type_Finca  property_type_Local comercial  property_type_Lote  \\\n",
       "0                        0                              0                   0   \n",
       "1                        0                              0                   0   \n",
       "2                        0                              0                   0   \n",
       "3                        0                              0                   1   \n",
       "4                        0                              0                   0   \n",
       "...                    ...                            ...                 ...   \n",
       "65845                    0                              0                   0   \n",
       "65846                    0                              0                   0   \n",
       "65847                    0                              0                   0   \n",
       "65848                    0                              0                   0   \n",
       "65849                    0                              0                   0   \n",
       "\n",
       "       property_type_Oficina  property_type_Otro  property_type_Parqueadero  \\\n",
       "0                          0                   0                          0   \n",
       "1                          0                   0                          0   \n",
       "2                          0                   0                          0   \n",
       "3                          0                   0                          0   \n",
       "4                          0                   0                          0   \n",
       "...                      ...                 ...                        ...   \n",
       "65845                      0                   0                          0   \n",
       "65846                      0                   0                          0   \n",
       "65847                      0                   1                          0   \n",
       "65848                      0                   0                          0   \n",
       "65849                      0                   0                          0   \n",
       "\n",
       "       currency_COP  currency_USD  \n",
       "0                 1             0  \n",
       "1                 1             0  \n",
       "2                 1             0  \n",
       "3                 1             0  \n",
       "4                 1             0  \n",
       "...             ...           ...  \n",
       "65845             1             0  \n",
       "65846             1             0  \n",
       "65847             1             0  \n",
       "65848             1             0  \n",
       "65849             1             0  \n",
       "\n",
       "[65850 rows x 22 columns]"
      ]
     },
     "execution_count": 55,
     "metadata": {},
     "output_type": "execute_result"
    }
   ],
   "source": [
    "#remplazo las columnas con el escalado porque al tener diferentes \n",
    "# medidas se debe cambiar la escala de las columnas numericas\n",
    "df"
   ]
  },
  {
   "cell_type": "code",
   "execution_count": 56,
   "metadata": {},
   "outputs": [
    {
     "data": {
      "text/plain": [
       "lat                              0\n",
       "lon                              0\n",
       "bathrooms                        0\n",
       "created_on_year                  0\n",
       "created_on_month                 0\n",
       "created_on_day                   0\n",
       "end_date_year                    0\n",
       "end_date_month                   0\n",
       "end_date_day                     0\n",
       "start_date_year                  0\n",
       "start_date_month                 0\n",
       "start_date_day                   0\n",
       "property_type_Apartamento        0\n",
       "property_type_Casa               0\n",
       "property_type_Finca              0\n",
       "property_type_Local comercial    0\n",
       "property_type_Lote               0\n",
       "property_type_Oficina            0\n",
       "property_type_Otro               0\n",
       "property_type_Parqueadero        0\n",
       "currency_COP                     0\n",
       "currency_USD                     0\n",
       "dtype: int64"
      ]
     },
     "execution_count": 56,
     "metadata": {},
     "output_type": "execute_result"
    }
   ],
   "source": [
    "df.isnull().sum()"
   ]
  },
  {
   "cell_type": "markdown",
   "metadata": {},
   "source": [
    "aca lo guardo en formato csv a el archivo procesado"
   ]
  },
  {
   "cell_type": "code",
   "execution_count": 57,
   "metadata": {},
   "outputs": [],
   "source": [
    "df.to_csv(\"columbia_houses_test.csv\", index=False)"
   ]
  }
 ],
 "metadata": {
  "kernelspec": {
   "display_name": "Python 3.10.2 64-bit",
   "language": "python",
   "name": "python3"
  },
  "language_info": {
   "codemirror_mode": {
    "name": "ipython",
    "version": 3
   },
   "file_extension": ".py",
   "mimetype": "text/x-python",
   "name": "python",
   "nbconvert_exporter": "python",
   "pygments_lexer": "ipython3",
   "version": "3.10.2"
  },
  "orig_nbformat": 4,
  "vscode": {
   "interpreter": {
    "hash": "369f2c481f4da34e4445cda3fffd2e751bd1c4d706f27375911949ba6bb62e1c"
   }
  }
 },
 "nbformat": 4,
 "nbformat_minor": 2
}
