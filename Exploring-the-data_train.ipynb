{
 "cells": [
  {
   "cell_type": "markdown",
   "metadata": {},
   "source": [
    "Análisis Exploratorio de Datos o EDA "
   ]
  },
  {
   "cell_type": "markdown",
   "metadata": {},
   "source": [
    "*****************\n",
    "importo las librerías y cargo el dataset\n",
    "*****************"
   ]
  },
  {
   "cell_type": "code",
   "execution_count": 1,
   "metadata": {},
   "outputs": [],
   "source": [
    "import pandas as pd\n",
    "import numpy as np\n",
    "import seaborn as sns\n",
    "import matplotlib \n",
    "import matplotlib.pyplot as plt\n",
    "sns.set()\n",
    "from scipy import stats\n",
    "import matplotlib.pyplot as plt\n",
    "\n",
    "#import ColumnTransforme_regression\n"
   ]
  },
  {
   "cell_type": "code",
   "execution_count": 2,
   "metadata": {},
   "outputs": [],
   "source": [
    "properties_colombia_csv=pd.read_csv(r'C:\\Users\\ROXI\\OneDrive\\Escritorio\\datathon\\Datathon\\properties_colombia_train.csv',encoding='utf8')"
   ]
  },
  {
   "cell_type": "code",
   "execution_count": 21,
   "metadata": {},
   "outputs": [
    {
     "data": {
      "text/plain": [
       "(197549, 27)"
      ]
     },
     "execution_count": 21,
     "metadata": {},
     "output_type": "execute_result"
    }
   ],
   "source": [
    "properties_colombia_csv.shape"
   ]
  },
  {
   "cell_type": "code",
   "execution_count": 3,
   "metadata": {},
   "outputs": [
    {
     "data": {
      "text/html": [
       "<div>\n",
       "<style scoped>\n",
       "    .dataframe tbody tr th:only-of-type {\n",
       "        vertical-align: middle;\n",
       "    }\n",
       "\n",
       "    .dataframe tbody tr th {\n",
       "        vertical-align: top;\n",
       "    }\n",
       "\n",
       "    .dataframe thead th {\n",
       "        text-align: right;\n",
       "    }\n",
       "</style>\n",
       "<table border=\"1\" class=\"dataframe\">\n",
       "  <thead>\n",
       "    <tr style=\"text-align: right;\">\n",
       "      <th></th>\n",
       "      <th>Unnamed: 0</th>\n",
       "      <th>id</th>\n",
       "      <th>ad_type</th>\n",
       "      <th>start_date</th>\n",
       "      <th>end_date</th>\n",
       "      <th>created_on</th>\n",
       "      <th>lat</th>\n",
       "      <th>lon</th>\n",
       "      <th>l1</th>\n",
       "      <th>l2</th>\n",
       "      <th>...</th>\n",
       "      <th>surface_total</th>\n",
       "      <th>surface_covered</th>\n",
       "      <th>price</th>\n",
       "      <th>currency</th>\n",
       "      <th>price_period</th>\n",
       "      <th>title</th>\n",
       "      <th>description</th>\n",
       "      <th>property_type</th>\n",
       "      <th>operation_type</th>\n",
       "      <th>geometry</th>\n",
       "    </tr>\n",
       "  </thead>\n",
       "  <tbody>\n",
       "    <tr>\n",
       "      <th>0</th>\n",
       "      <td>861131</td>\n",
       "      <td>CScTjaFiP6yCzS8tFX0ZVA==</td>\n",
       "      <td>Propiedad</td>\n",
       "      <td>2020-12-14</td>\n",
       "      <td>9999-12-31</td>\n",
       "      <td>2020-12-14</td>\n",
       "      <td>6.203000</td>\n",
       "      <td>-75.572000</td>\n",
       "      <td>Colombia</td>\n",
       "      <td>Antioquia</td>\n",
       "      <td>...</td>\n",
       "      <td>NaN</td>\n",
       "      <td>NaN</td>\n",
       "      <td>9.000000e+09</td>\n",
       "      <td>COP</td>\n",
       "      <td>NaN</td>\n",
       "      <td>Hermosa Mansión En El Poblado. Área Construida...</td>\n",
       "      <td>&lt;b&gt;Hermosa Mansión En El Poblado. Área Constru...</td>\n",
       "      <td>Casa</td>\n",
       "      <td>Venta</td>\n",
       "      <td>POINT (-75.572 6.203)</td>\n",
       "    </tr>\n",
       "    <tr>\n",
       "      <th>1</th>\n",
       "      <td>200972</td>\n",
       "      <td>DlCxox9+FuugkxS2kBVfJg==</td>\n",
       "      <td>Propiedad</td>\n",
       "      <td>2020-09-16</td>\n",
       "      <td>2021-05-14</td>\n",
       "      <td>2020-09-16</td>\n",
       "      <td>4.722748</td>\n",
       "      <td>-74.073115</td>\n",
       "      <td>Colombia</td>\n",
       "      <td>Cundinamarca</td>\n",
       "      <td>...</td>\n",
       "      <td>NaN</td>\n",
       "      <td>NaN</td>\n",
       "      <td>6.250000e+08</td>\n",
       "      <td>COP</td>\n",
       "      <td>NaN</td>\n",
       "      <td>APARTAMENTO EN VENTA, BOGOTA-CIUDAD JARDIN NORTE</td>\n",
       "      <td>Venta apartamento en piso 16 con vista exterio...</td>\n",
       "      <td>Apartamento</td>\n",
       "      <td>Venta</td>\n",
       "      <td>POINT (-74.0731146 4.7227485)</td>\n",
       "    </tr>\n",
       "    <tr>\n",
       "      <th>2</th>\n",
       "      <td>554622</td>\n",
       "      <td>yitN1AigL45gh/K2YSF8rw==</td>\n",
       "      <td>Propiedad</td>\n",
       "      <td>2020-08-19</td>\n",
       "      <td>2020-08-20</td>\n",
       "      <td>2020-08-19</td>\n",
       "      <td>4.709000</td>\n",
       "      <td>-74.030000</td>\n",
       "      <td>Colombia</td>\n",
       "      <td>Cundinamarca</td>\n",
       "      <td>...</td>\n",
       "      <td>NaN</td>\n",
       "      <td>NaN</td>\n",
       "      <td>4.200000e+08</td>\n",
       "      <td>COP</td>\n",
       "      <td>NaN</td>\n",
       "      <td>Apartamento En Venta En Bogota Bella Suiza Cod...</td>\n",
       "      <td>Al entrar a este bonito apartamento interior e...</td>\n",
       "      <td>Casa</td>\n",
       "      <td>Venta</td>\n",
       "      <td>POINT (-74.03 4.709)</td>\n",
       "    </tr>\n",
       "    <tr>\n",
       "      <th>3</th>\n",
       "      <td>540321</td>\n",
       "      <td>hELQ9njwODbLMpATXieRdQ==</td>\n",
       "      <td>Propiedad</td>\n",
       "      <td>2020-11-23</td>\n",
       "      <td>2020-11-30</td>\n",
       "      <td>2020-11-23</td>\n",
       "      <td>NaN</td>\n",
       "      <td>NaN</td>\n",
       "      <td>Colombia</td>\n",
       "      <td>Santander</td>\n",
       "      <td>...</td>\n",
       "      <td>NaN</td>\n",
       "      <td>NaN</td>\n",
       "      <td>1.310000e+09</td>\n",
       "      <td>COP</td>\n",
       "      <td>NaN</td>\n",
       "      <td>SE VENDE LOCAL COMERCIAL EN CABECERA DEL LLANO...</td>\n",
       "      <td>Se encuentra ubicado en el sector de la Cabece...</td>\n",
       "      <td>Otro</td>\n",
       "      <td>Venta</td>\n",
       "      <td>POINT EMPTY</td>\n",
       "    </tr>\n",
       "    <tr>\n",
       "      <th>4</th>\n",
       "      <td>448920</td>\n",
       "      <td>aBCtKT7LDzt2CxJQ+gVFEA==</td>\n",
       "      <td>Propiedad</td>\n",
       "      <td>2020-10-06</td>\n",
       "      <td>2020-10-07</td>\n",
       "      <td>2020-10-06</td>\n",
       "      <td>NaN</td>\n",
       "      <td>NaN</td>\n",
       "      <td>Colombia</td>\n",
       "      <td>Antioquia</td>\n",
       "      <td>...</td>\n",
       "      <td>NaN</td>\n",
       "      <td>NaN</td>\n",
       "      <td>2.100000e+08</td>\n",
       "      <td>COP</td>\n",
       "      <td>NaN</td>\n",
       "      <td>Apartamento en Venta Ubicado en ITAGUI</td>\n",
       "      <td>Codigo Inmueble 4302 Apartamento con 3 habitac...</td>\n",
       "      <td>Apartamento</td>\n",
       "      <td>Venta</td>\n",
       "      <td>POINT EMPTY</td>\n",
       "    </tr>\n",
       "  </tbody>\n",
       "</table>\n",
       "<p>5 rows × 27 columns</p>\n",
       "</div>"
      ],
      "text/plain": [
       "   Unnamed: 0                        id    ad_type  start_date    end_date  \\\n",
       "0      861131  CScTjaFiP6yCzS8tFX0ZVA==  Propiedad  2020-12-14  9999-12-31   \n",
       "1      200972  DlCxox9+FuugkxS2kBVfJg==  Propiedad  2020-09-16  2021-05-14   \n",
       "2      554622  yitN1AigL45gh/K2YSF8rw==  Propiedad  2020-08-19  2020-08-20   \n",
       "3      540321  hELQ9njwODbLMpATXieRdQ==  Propiedad  2020-11-23  2020-11-30   \n",
       "4      448920  aBCtKT7LDzt2CxJQ+gVFEA==  Propiedad  2020-10-06  2020-10-07   \n",
       "\n",
       "   created_on       lat        lon        l1            l2  ... surface_total  \\\n",
       "0  2020-12-14  6.203000 -75.572000  Colombia     Antioquia  ...           NaN   \n",
       "1  2020-09-16  4.722748 -74.073115  Colombia  Cundinamarca  ...           NaN   \n",
       "2  2020-08-19  4.709000 -74.030000  Colombia  Cundinamarca  ...           NaN   \n",
       "3  2020-11-23       NaN        NaN  Colombia     Santander  ...           NaN   \n",
       "4  2020-10-06       NaN        NaN  Colombia     Antioquia  ...           NaN   \n",
       "\n",
       "  surface_covered         price currency  price_period  \\\n",
       "0             NaN  9.000000e+09      COP           NaN   \n",
       "1             NaN  6.250000e+08      COP           NaN   \n",
       "2             NaN  4.200000e+08      COP           NaN   \n",
       "3             NaN  1.310000e+09      COP           NaN   \n",
       "4             NaN  2.100000e+08      COP           NaN   \n",
       "\n",
       "                                               title  \\\n",
       "0  Hermosa Mansión En El Poblado. Área Construida...   \n",
       "1   APARTAMENTO EN VENTA, BOGOTA-CIUDAD JARDIN NORTE   \n",
       "2  Apartamento En Venta En Bogota Bella Suiza Cod...   \n",
       "3  SE VENDE LOCAL COMERCIAL EN CABECERA DEL LLANO...   \n",
       "4             Apartamento en Venta Ubicado en ITAGUI   \n",
       "\n",
       "                                         description  property_type  \\\n",
       "0  <b>Hermosa Mansión En El Poblado. Área Constru...           Casa   \n",
       "1  Venta apartamento en piso 16 con vista exterio...    Apartamento   \n",
       "2  Al entrar a este bonito apartamento interior e...           Casa   \n",
       "3  Se encuentra ubicado en el sector de la Cabece...           Otro   \n",
       "4  Codigo Inmueble 4302 Apartamento con 3 habitac...    Apartamento   \n",
       "\n",
       "   operation_type                       geometry  \n",
       "0           Venta          POINT (-75.572 6.203)  \n",
       "1           Venta  POINT (-74.0731146 4.7227485)  \n",
       "2           Venta           POINT (-74.03 4.709)  \n",
       "3           Venta                    POINT EMPTY  \n",
       "4           Venta                    POINT EMPTY  \n",
       "\n",
       "[5 rows x 27 columns]"
      ]
     },
     "execution_count": 3,
     "metadata": {},
     "output_type": "execute_result"
    }
   ],
   "source": [
    "properties_colombia_csv.head()"
   ]
  },
  {
   "cell_type": "markdown",
   "metadata": {},
   "source": [
    "*****************\n",
    "empiezo con la columna price: completo faltantes y paso a 0,1 (barato,caro)\n",
    "continuo con las columnas numericas\n",
    "borrando las columnas que que considero innecesarias\n",
    "sigo con las columnas que contienen palabras\n",
    "*****************"
   ]
  },
  {
   "cell_type": "code",
   "execution_count": 3,
   "metadata": {},
   "outputs": [],
   "source": [
    "var_col=pd.DataFrame(properties_colombia_csv.price[properties_colombia_csv.price.notnull()])"
   ]
  },
  {
   "cell_type": "markdown",
   "metadata": {},
   "source": [
    "paso a float sacando el formato cientifico en la columna price(e+09)"
   ]
  },
  {
   "cell_type": "code",
   "execution_count": 9,
   "metadata": {},
   "outputs": [],
   "source": [
    "pd.set_option('display.float_format', lambda x: '%.f' % x)"
   ]
  },
  {
   "cell_type": "code",
   "execution_count": 17,
   "metadata": {},
   "outputs": [
    {
     "data": {
      "text/plain": [
       "0        9000000000\n",
       "1         625000000\n",
       "2         420000000\n",
       "3        1310000000\n",
       "4         210000000\n",
       "            ...    \n",
       "197544    129000000\n",
       "197545    135000000\n",
       "197546    520000000\n",
       "197547    290000000\n",
       "197548     30000000\n",
       "Name: price, Length: 197486, dtype: float64"
      ]
     },
     "execution_count": 17,
     "metadata": {},
     "output_type": "execute_result"
    }
   ],
   "source": [
    "var_col.price"
   ]
  },
  {
   "cell_type": "markdown",
   "metadata": {},
   "source": [
    "necesito saber cuales registros tienen outlier en la columna price asi que ajecuto la siguiente funcion"
   ]
  },
  {
   "cell_type": "code",
   "execution_count": 4,
   "metadata": {},
   "outputs": [],
   "source": [
    "def remove_outlier(df_in, col_name):\n",
    "    q1 = df_in[col_name].quantile(0.25)\n",
    "    q3 = df_in[col_name].quantile(0.75)\n",
    "    iqr = q3-q1 #Interquartile range\n",
    "    fence_low  = q1-1.5*iqr\n",
    "    fence_high = q3+1.5*iqr\n",
    "    #df_out = df_in.loc[(df_in[col_name] > fence_low) & (df_in[col_name] < fence_high)]\n",
    "    return fence_low,fence_high"
   ]
  },
  {
   "cell_type": "code",
   "execution_count": 5,
   "metadata": {},
   "outputs": [],
   "source": [
    "fence_low, fence_high=remove_outlier(var_col, \"price\")"
   ]
  },
  {
   "cell_type": "code",
   "execution_count": 207,
   "metadata": {},
   "outputs": [
    {
     "data": {
      "text/plain": [
       "1200000000.0"
      ]
     },
     "execution_count": 207,
     "metadata": {},
     "output_type": "execute_result"
    }
   ],
   "source": [
    "fence_high"
   ]
  },
  {
   "cell_type": "code",
   "execution_count": 208,
   "metadata": {},
   "outputs": [
    {
     "data": {
      "text/plain": [
       "-400000000.0"
      ]
     },
     "execution_count": 208,
     "metadata": {},
     "output_type": "execute_result"
    }
   ],
   "source": [
    "fence_low"
   ]
  },
  {
   "cell_type": "code",
   "execution_count": 20,
   "metadata": {},
   "outputs": [
    {
     "data": {
      "text/plain": [
       "price   330000000\n",
       "dtype: float64"
      ]
     },
     "execution_count": 20,
     "metadata": {},
     "output_type": "execute_result"
    }
   ],
   "source": [
    "var_col.median()"
   ]
  },
  {
   "cell_type": "markdown",
   "metadata": {},
   "source": [
    "precios atipicos"
   ]
  },
  {
   "cell_type": "code",
   "execution_count": 6,
   "metadata": {},
   "outputs": [
    {
     "data": {
      "text/html": [
       "<div>\n",
       "<style scoped>\n",
       "    .dataframe tbody tr th:only-of-type {\n",
       "        vertical-align: middle;\n",
       "    }\n",
       "\n",
       "    .dataframe tbody tr th {\n",
       "        vertical-align: top;\n",
       "    }\n",
       "\n",
       "    .dataframe thead th {\n",
       "        text-align: right;\n",
       "    }\n",
       "</style>\n",
       "<table border=\"1\" class=\"dataframe\">\n",
       "  <thead>\n",
       "    <tr style=\"text-align: right;\">\n",
       "      <th></th>\n",
       "      <th>price</th>\n",
       "    </tr>\n",
       "  </thead>\n",
       "  <tbody>\n",
       "    <tr>\n",
       "      <th>0</th>\n",
       "      <td>9.000000e+09</td>\n",
       "    </tr>\n",
       "    <tr>\n",
       "      <th>3</th>\n",
       "      <td>1.310000e+09</td>\n",
       "    </tr>\n",
       "    <tr>\n",
       "      <th>6</th>\n",
       "      <td>2.700000e+09</td>\n",
       "    </tr>\n",
       "    <tr>\n",
       "      <th>12</th>\n",
       "      <td>1.430852e+09</td>\n",
       "    </tr>\n",
       "    <tr>\n",
       "      <th>14</th>\n",
       "      <td>3.000000e+09</td>\n",
       "    </tr>\n",
       "    <tr>\n",
       "      <th>...</th>\n",
       "      <td>...</td>\n",
       "    </tr>\n",
       "    <tr>\n",
       "      <th>197500</th>\n",
       "      <td>1.350000e+09</td>\n",
       "    </tr>\n",
       "    <tr>\n",
       "      <th>197501</th>\n",
       "      <td>4.016143e+09</td>\n",
       "    </tr>\n",
       "    <tr>\n",
       "      <th>197505</th>\n",
       "      <td>1.578000e+09</td>\n",
       "    </tr>\n",
       "    <tr>\n",
       "      <th>197521</th>\n",
       "      <td>1.800000e+09</td>\n",
       "    </tr>\n",
       "    <tr>\n",
       "      <th>197537</th>\n",
       "      <td>1.300000e+09</td>\n",
       "    </tr>\n",
       "  </tbody>\n",
       "</table>\n",
       "<p>19317 rows × 1 columns</p>\n",
       "</div>"
      ],
      "text/plain": [
       "               price\n",
       "0       9.000000e+09\n",
       "3       1.310000e+09\n",
       "6       2.700000e+09\n",
       "12      1.430852e+09\n",
       "14      3.000000e+09\n",
       "...              ...\n",
       "197500  1.350000e+09\n",
       "197501  4.016143e+09\n",
       "197505  1.578000e+09\n",
       "197521  1.800000e+09\n",
       "197537  1.300000e+09\n",
       "\n",
       "[19317 rows x 1 columns]"
      ]
     },
     "execution_count": 6,
     "metadata": {},
     "output_type": "execute_result"
    }
   ],
   "source": [
    "var_col.loc[var_col[\"price\"] > fence_high]"
   ]
  },
  {
   "cell_type": "markdown",
   "metadata": {},
   "source": [
    "quito los outlier para calcular el valor promedio. Este dato lo voy a usar para sustituir los nan (faltantes)"
   ]
  },
  {
   "cell_type": "code",
   "execution_count": 7,
   "metadata": {},
   "outputs": [],
   "source": [
    "newdf_loc=var_col.loc[(var_col[\"price\"] > 0) & (var_col[\"price\"] < fence_high)]"
   ]
  },
  {
   "cell_type": "markdown",
   "metadata": {},
   "source": [
    "este es el promedio sin los outlier la columna price"
   ]
  },
  {
   "cell_type": "code",
   "execution_count": 8,
   "metadata": {},
   "outputs": [],
   "source": [
    "promedio_price=newdf_loc.mean()"
   ]
  },
  {
   "cell_type": "code",
   "execution_count": 9,
   "metadata": {},
   "outputs": [
    {
     "data": {
      "text/plain": [
       "price    3.659724e+08\n",
       "dtype: float64"
      ]
     },
     "execution_count": 9,
     "metadata": {},
     "output_type": "execute_result"
    }
   ],
   "source": [
    "promedio_price"
   ]
  },
  {
   "cell_type": "code",
   "execution_count": 10,
   "metadata": {},
   "outputs": [],
   "source": [
    "promedio_price=int(promedio_price[0])"
   ]
  },
  {
   "cell_type": "markdown",
   "metadata": {},
   "source": [
    "este es el promedio con los outlier la columna price"
   ]
  },
  {
   "cell_type": "code",
   "execution_count": 15,
   "metadata": {},
   "outputs": [
    {
     "data": {
      "text/plain": [
       "price   643605091\n",
       "dtype: float64"
      ]
     },
     "execution_count": 15,
     "metadata": {},
     "output_type": "execute_result"
    }
   ],
   "source": [
    "var_col.mean()"
   ]
  },
  {
   "cell_type": "code",
   "execution_count": 26,
   "metadata": {},
   "outputs": [
    {
     "data": {
      "text/html": [
       "<div>\n",
       "<style scoped>\n",
       "    .dataframe tbody tr th:only-of-type {\n",
       "        vertical-align: middle;\n",
       "    }\n",
       "\n",
       "    .dataframe tbody tr th {\n",
       "        vertical-align: top;\n",
       "    }\n",
       "\n",
       "    .dataframe thead th {\n",
       "        text-align: right;\n",
       "    }\n",
       "</style>\n",
       "<table border=\"1\" class=\"dataframe\">\n",
       "  <thead>\n",
       "    <tr style=\"text-align: right;\">\n",
       "      <th></th>\n",
       "      <th>price</th>\n",
       "    </tr>\n",
       "  </thead>\n",
       "  <tbody>\n",
       "    <tr>\n",
       "      <th>0</th>\n",
       "      <td>250000000</td>\n",
       "    </tr>\n",
       "  </tbody>\n",
       "</table>\n",
       "</div>"
      ],
      "text/plain": [
       "      price\n",
       "0 250000000"
      ]
     },
     "execution_count": 26,
     "metadata": {},
     "output_type": "execute_result"
    }
   ],
   "source": [
    "var_col.mode()"
   ]
  },
  {
   "cell_type": "markdown",
   "metadata": {},
   "source": [
    "reemplazo la palabra nan en todas las columnas por np.nan(NaN)\n",
    "compruebo los datos nan, NaN "
   ]
  },
  {
   "cell_type": "code",
   "execution_count": 11,
   "metadata": {},
   "outputs": [],
   "source": [
    "properties_colombia_csv = properties_colombia_csv.replace(\"nan\",np.nan)"
   ]
  },
  {
   "cell_type": "code",
   "execution_count": 12,
   "metadata": {},
   "outputs": [],
   "source": [
    "properties_colombia_csv = properties_colombia_csv.replace(\"NaN\",np.nan)"
   ]
  },
  {
   "cell_type": "markdown",
   "metadata": {},
   "source": [
    "reemplazo np.nan en price por el promedio (sin los outlier)"
   ]
  },
  {
   "cell_type": "code",
   "execution_count": 13,
   "metadata": {},
   "outputs": [],
   "source": [
    "properties_colombia_csv.price = properties_colombia_csv[\"price\"].replace(np.nan,promedio_price)"
   ]
  },
  {
   "cell_type": "code",
   "execution_count": 14,
   "metadata": {},
   "outputs": [],
   "source": [
    "#dejo este codigo promedio_price\n",
    "properties_colombia_csv[\"price_Binary\"]= pd.cut(x = properties_colombia_csv['price'],bins=[properties_colombia_csv['price'].min()-1,promedio_price,properties_colombia_csv['price'].max()+1], labels=['bajo', 'alto'])\n"
   ]
  },
  {
   "cell_type": "code",
   "execution_count": 15,
   "metadata": {},
   "outputs": [
    {
     "data": {
      "text/html": [
       "<div>\n",
       "<style scoped>\n",
       "    .dataframe tbody tr th:only-of-type {\n",
       "        vertical-align: middle;\n",
       "    }\n",
       "\n",
       "    .dataframe tbody tr th {\n",
       "        vertical-align: top;\n",
       "    }\n",
       "\n",
       "    .dataframe thead th {\n",
       "        text-align: right;\n",
       "    }\n",
       "</style>\n",
       "<table border=\"1\" class=\"dataframe\">\n",
       "  <thead>\n",
       "    <tr style=\"text-align: right;\">\n",
       "      <th></th>\n",
       "      <th>Unnamed: 0</th>\n",
       "      <th>id</th>\n",
       "      <th>ad_type</th>\n",
       "      <th>start_date</th>\n",
       "      <th>end_date</th>\n",
       "      <th>created_on</th>\n",
       "      <th>lat</th>\n",
       "      <th>lon</th>\n",
       "      <th>l1</th>\n",
       "      <th>l2</th>\n",
       "      <th>...</th>\n",
       "      <th>surface_covered</th>\n",
       "      <th>price</th>\n",
       "      <th>currency</th>\n",
       "      <th>price_period</th>\n",
       "      <th>title</th>\n",
       "      <th>description</th>\n",
       "      <th>property_type</th>\n",
       "      <th>operation_type</th>\n",
       "      <th>geometry</th>\n",
       "      <th>price_Binary</th>\n",
       "    </tr>\n",
       "  </thead>\n",
       "  <tbody>\n",
       "    <tr>\n",
       "      <th>0</th>\n",
       "      <td>861131</td>\n",
       "      <td>CScTjaFiP6yCzS8tFX0ZVA==</td>\n",
       "      <td>Propiedad</td>\n",
       "      <td>2020-12-14</td>\n",
       "      <td>9999-12-31</td>\n",
       "      <td>2020-12-14</td>\n",
       "      <td>6.203000</td>\n",
       "      <td>-75.572000</td>\n",
       "      <td>Colombia</td>\n",
       "      <td>Antioquia</td>\n",
       "      <td>...</td>\n",
       "      <td>NaN</td>\n",
       "      <td>9.000000e+09</td>\n",
       "      <td>COP</td>\n",
       "      <td>NaN</td>\n",
       "      <td>Hermosa Mansión En El Poblado. Área Construida...</td>\n",
       "      <td>&lt;b&gt;Hermosa Mansión En El Poblado. Área Constru...</td>\n",
       "      <td>Casa</td>\n",
       "      <td>Venta</td>\n",
       "      <td>POINT (-75.572 6.203)</td>\n",
       "      <td>alto</td>\n",
       "    </tr>\n",
       "    <tr>\n",
       "      <th>1</th>\n",
       "      <td>200972</td>\n",
       "      <td>DlCxox9+FuugkxS2kBVfJg==</td>\n",
       "      <td>Propiedad</td>\n",
       "      <td>2020-09-16</td>\n",
       "      <td>2021-05-14</td>\n",
       "      <td>2020-09-16</td>\n",
       "      <td>4.722748</td>\n",
       "      <td>-74.073115</td>\n",
       "      <td>Colombia</td>\n",
       "      <td>Cundinamarca</td>\n",
       "      <td>...</td>\n",
       "      <td>NaN</td>\n",
       "      <td>6.250000e+08</td>\n",
       "      <td>COP</td>\n",
       "      <td>NaN</td>\n",
       "      <td>APARTAMENTO EN VENTA, BOGOTA-CIUDAD JARDIN NORTE</td>\n",
       "      <td>Venta apartamento en piso 16 con vista exterio...</td>\n",
       "      <td>Apartamento</td>\n",
       "      <td>Venta</td>\n",
       "      <td>POINT (-74.0731146 4.7227485)</td>\n",
       "      <td>alto</td>\n",
       "    </tr>\n",
       "  </tbody>\n",
       "</table>\n",
       "<p>2 rows × 28 columns</p>\n",
       "</div>"
      ],
      "text/plain": [
       "   Unnamed: 0                        id    ad_type  start_date    end_date  \\\n",
       "0      861131  CScTjaFiP6yCzS8tFX0ZVA==  Propiedad  2020-12-14  9999-12-31   \n",
       "1      200972  DlCxox9+FuugkxS2kBVfJg==  Propiedad  2020-09-16  2021-05-14   \n",
       "\n",
       "   created_on       lat        lon        l1            l2  ...  \\\n",
       "0  2020-12-14  6.203000 -75.572000  Colombia     Antioquia  ...   \n",
       "1  2020-09-16  4.722748 -74.073115  Colombia  Cundinamarca  ...   \n",
       "\n",
       "  surface_covered         price currency price_period  \\\n",
       "0             NaN  9.000000e+09      COP          NaN   \n",
       "1             NaN  6.250000e+08      COP          NaN   \n",
       "\n",
       "                                               title  \\\n",
       "0  Hermosa Mansión En El Poblado. Área Construida...   \n",
       "1   APARTAMENTO EN VENTA, BOGOTA-CIUDAD JARDIN NORTE   \n",
       "\n",
       "                                         description  property_type  \\\n",
       "0  <b>Hermosa Mansión En El Poblado. Área Constru...           Casa   \n",
       "1  Venta apartamento en piso 16 con vista exterio...    Apartamento   \n",
       "\n",
       "   operation_type                       geometry  price_Binary  \n",
       "0           Venta          POINT (-75.572 6.203)          alto  \n",
       "1           Venta  POINT (-74.0731146 4.7227485)          alto  \n",
       "\n",
       "[2 rows x 28 columns]"
      ]
     },
     "execution_count": 15,
     "metadata": {},
     "output_type": "execute_result"
    }
   ],
   "source": [
    "properties_colombia_csv.head(2)"
   ]
  },
  {
   "cell_type": "markdown",
   "metadata": {},
   "source": [
    "alto 1 bajo 0"
   ]
  },
  {
   "cell_type": "code",
   "execution_count": 16,
   "metadata": {},
   "outputs": [],
   "source": [
    "properties_colombia_csv.price_Binary = properties_colombia_csv[\"price_Binary\"].replace(\"alto\",1)"
   ]
  },
  {
   "cell_type": "code",
   "execution_count": 17,
   "metadata": {},
   "outputs": [],
   "source": [
    "properties_colombia_csv.price_Binary = properties_colombia_csv[\"price_Binary\"].replace(\"bajo\",0)"
   ]
  },
  {
   "cell_type": "code",
   "execution_count": 18,
   "metadata": {},
   "outputs": [],
   "source": [
    "properties_colombia_csv.to_csv(\"columbia_houses_train.csv\", index=False)"
   ]
  },
  {
   "cell_type": "code",
   "execution_count": 35,
   "metadata": {},
   "outputs": [],
   "source": [
    "properties_colombia_csv=pd.read_csv(r'C:\\Users\\ROXI\\OneDrive\\Escritorio\\datathon\\Datathon\\columbia_houses.csv',encoding='utf8')"
   ]
  },
  {
   "cell_type": "code",
   "execution_count": 36,
   "metadata": {},
   "outputs": [
    {
     "data": {
      "text/plain": [
       "Unnamed: 0              0\n",
       "id                      0\n",
       "ad_type                 0\n",
       "start_date              0\n",
       "end_date                0\n",
       "created_on              0\n",
       "lat                 49498\n",
       "lon                 49498\n",
       "l1                      0\n",
       "l2                      0\n",
       "l3                  11032\n",
       "l4                 152182\n",
       "l5                 170140\n",
       "l6                 190682\n",
       "rooms              170012\n",
       "bedrooms           157024\n",
       "bathrooms           41082\n",
       "surface_total      190575\n",
       "surface_covered    187747\n",
       "price                   0\n",
       "currency               67\n",
       "price_period       161578\n",
       "title                   1\n",
       "description           121\n",
       "property_type           0\n",
       "operation_type          0\n",
       "geometry                0\n",
       "price_Binary            0\n",
       "dtype: int64"
      ]
     },
     "execution_count": 36,
     "metadata": {},
     "output_type": "execute_result"
    }
   ],
   "source": [
    "properties_colombia_csv.isnull().sum()"
   ]
  },
  {
   "cell_type": "code",
   "execution_count": 19,
   "metadata": {},
   "outputs": [],
   "source": [
    "len_csv=properties_colombia_csv.shape"
   ]
  },
  {
   "cell_type": "code",
   "execution_count": 20,
   "metadata": {},
   "outputs": [],
   "source": [
    "is_null=((properties_colombia_csv.isnull().sum())*100)/len_csv[0]"
   ]
  },
  {
   "cell_type": "markdown",
   "metadata": {},
   "source": [
    "porcentaje de nulos por columna si es mayor a 30% la columna se borra\n",
    "l6                 % 96.523900\n",
    "surface_total      % 96.469737\n",
    "surface_covered    % 95.038193\n",
    "l5                 % 86.125468\n",
    "rooms              % 86.060674\n",
    "price_period       % 81.791353\n",
    "bedrooms           % 79.486102\n",
    "l4                 % 77.035065"
   ]
  },
  {
   "cell_type": "code",
   "execution_count": 39,
   "metadata": {},
   "outputs": [
    {
     "data": {
      "text/plain": [
       "l6                97\n",
       "surface_total     96\n",
       "surface_covered   95\n",
       "l5                86\n",
       "rooms             86\n",
       "price_period      82\n",
       "bedrooms          79\n",
       "l4                77\n",
       "lat               25\n",
       "lon               25\n",
       "bathrooms         21\n",
       "l3                 6\n",
       "description        0\n",
       "currency           0\n",
       "title              0\n",
       "price              0\n",
       "property_type      0\n",
       "operation_type     0\n",
       "geometry           0\n",
       "Unnamed: 0         0\n",
       "id                 0\n",
       "l2                 0\n",
       "l1                 0\n",
       "created_on         0\n",
       "end_date           0\n",
       "start_date         0\n",
       "ad_type            0\n",
       "price_Binary       0\n",
       "dtype: float64"
      ]
     },
     "execution_count": 39,
     "metadata": {},
     "output_type": "execute_result"
    }
   ],
   "source": [
    "is_null.sort_values(ascending=False)"
   ]
  },
  {
   "cell_type": "code",
   "execution_count": 40,
   "metadata": {},
   "outputs": [
    {
     "data": {
      "text/plain": [
       "Unnamed: 0         197549\n",
       "id                 197549\n",
       "ad_type                 1\n",
       "start_date            145\n",
       "end_date              446\n",
       "created_on            145\n",
       "lat                 51077\n",
       "lon                 50108\n",
       "l1                      1\n",
       "l2                     31\n",
       "l3                    293\n",
       "l4                     58\n",
       "l5                     20\n",
       "l6                    146\n",
       "rooms                  29\n",
       "bedrooms               37\n",
       "bathrooms              20\n",
       "surface_total        1035\n",
       "surface_covered       783\n",
       "price                6097\n",
       "currency                2\n",
       "price_period            1\n",
       "title               95025\n",
       "description        111371\n",
       "property_type           8\n",
       "operation_type          1\n",
       "geometry            62807\n",
       "price_Binary            2\n",
       "dtype: int64"
      ]
     },
     "execution_count": 40,
     "metadata": {},
     "output_type": "execute_result"
    }
   ],
   "source": [
    "properties_colombia_csv.nunique()"
   ]
  },
  {
   "cell_type": "markdown",
   "metadata": {},
   "source": [
    "cantidad de datos unicos en columna l3"
   ]
  },
  {
   "cell_type": "code",
   "execution_count": 41,
   "metadata": {},
   "outputs": [
    {
     "data": {
      "text/plain": [
       "Medellín         43404\n",
       "Bogotá D.C       28731\n",
       "Cali             20846\n",
       "Barranquilla     15133\n",
       "Manizales        14128\n",
       "                 ...  \n",
       "Guateque             1\n",
       "Arcabuco             1\n",
       "Yacopí               1\n",
       "Vergara              1\n",
       "Quebradanegra        1\n",
       "Name: l3, Length: 293, dtype: int64"
      ]
     },
     "execution_count": 41,
     "metadata": {},
     "output_type": "execute_result"
    }
   ],
   "source": [
    "properties_colombia_csv.l3.value_counts().sort_values(ascending=False)"
   ]
  },
  {
   "cell_type": "markdown",
   "metadata": {},
   "source": [
    "borro las columnas:\n",
    "*ad_type porque no aporta valor en la prediccion tiene un solo dato: \"Propiedad\"\n",
    "*id porque no aporta valor significativo a la prediccion al ser numeros consecutivos\n",
    "*Unnamed: 0 porque no aporta valor significativo a la prediccion\n",
    "*si es mayor a 30% lo porcentajes de nan en la columna se borra la columna\n",
    "*al transformar la columna price en 0 y 1 ( alto,bajo ) borro la columna price\n",
    "*al tener lat y lon en col separadas borro la columna geometry porque es redundante\n",
    "*l1 porque no aporta valor en la prediccion tiene un solo dato:colombia\n",
    "*operation_type porque no aporta valor en la prediccion tiene un solo dato:venta"
   ]
  },
  {
   "cell_type": "code",
   "execution_count": 21,
   "metadata": {},
   "outputs": [],
   "source": [
    "properties_colombia_csv=properties_colombia_csv.drop(columns=[\"ad_type\",\"Unnamed: 0\",\"id\",\"l6\",\"surface_covered\",\"surface_total\",\"l5\",\"rooms\",\"price_period\",\"bedrooms\",\"l4\",\"price\",\"geometry\",\"l1\",\"operation_type\",\"title\",\"description\"])"
   ]
  },
  {
   "cell_type": "code",
   "execution_count": 267,
   "metadata": {},
   "outputs": [],
   "source": [
    "#properties_colombia_csv=properties_colombia_csv.drop(properties_colombia_csv.columns[13], axis='columns')"
   ]
  },
  {
   "cell_type": "code",
   "execution_count": 22,
   "metadata": {},
   "outputs": [],
   "source": [
    "properties_colombia_csv.to_csv(\"columbia_houses_train.csv\", index=False)"
   ]
  },
  {
   "cell_type": "markdown",
   "metadata": {},
   "source": [
    "latitud\n",
    "-4 a 12\n",
    "longuitud\n",
    "-65 a-79"
   ]
  },
  {
   "cell_type": "markdown",
   "metadata": {},
   "source": [
    "coordenadas invalidas"
   ]
  },
  {
   "cell_type": "code",
   "execution_count": 23,
   "metadata": {},
   "outputs": [
    {
     "data": {
      "text/html": [
       "<div>\n",
       "<style scoped>\n",
       "    .dataframe tbody tr th:only-of-type {\n",
       "        vertical-align: middle;\n",
       "    }\n",
       "\n",
       "    .dataframe tbody tr th {\n",
       "        vertical-align: top;\n",
       "    }\n",
       "\n",
       "    .dataframe thead th {\n",
       "        text-align: right;\n",
       "    }\n",
       "</style>\n",
       "<table border=\"1\" class=\"dataframe\">\n",
       "  <thead>\n",
       "    <tr style=\"text-align: right;\">\n",
       "      <th></th>\n",
       "      <th>start_date</th>\n",
       "      <th>end_date</th>\n",
       "      <th>created_on</th>\n",
       "      <th>lat</th>\n",
       "      <th>lon</th>\n",
       "      <th>l2</th>\n",
       "      <th>l3</th>\n",
       "      <th>bathrooms</th>\n",
       "      <th>currency</th>\n",
       "      <th>property_type</th>\n",
       "      <th>price_Binary</th>\n",
       "    </tr>\n",
       "  </thead>\n",
       "  <tbody>\n",
       "    <tr>\n",
       "      <th>138682</th>\n",
       "      <td>2020-09-29</td>\n",
       "      <td>2021-07-26</td>\n",
       "      <td>2020-09-29</td>\n",
       "      <td>-32.787342</td>\n",
       "      <td>-71.20732</td>\n",
       "      <td>Cundinamarca</td>\n",
       "      <td>La Calera</td>\n",
       "      <td>6.0</td>\n",
       "      <td>COP</td>\n",
       "      <td>Casa</td>\n",
       "      <td>1</td>\n",
       "    </tr>\n",
       "  </tbody>\n",
       "</table>\n",
       "</div>"
      ],
      "text/plain": [
       "        start_date    end_date  created_on        lat       lon            l2  \\\n",
       "138682  2020-09-29  2021-07-26  2020-09-29 -32.787342 -71.20732  Cundinamarca   \n",
       "\n",
       "               l3  bathrooms currency property_type price_Binary  \n",
       "138682  La Calera        6.0      COP          Casa            1  "
      ]
     },
     "execution_count": 23,
     "metadata": {},
     "output_type": "execute_result"
    }
   ],
   "source": [
    "properties_colombia_csv[properties_colombia_csv[\"lat\"]<-4]"
   ]
  },
  {
   "cell_type": "markdown",
   "metadata": {},
   "source": [
    "borro registro porque la coordenada no es de colombia"
   ]
  },
  {
   "cell_type": "code",
   "execution_count": 24,
   "metadata": {},
   "outputs": [],
   "source": [
    "properties_colombia_csv=properties_colombia_csv.drop([138682])"
   ]
  },
  {
   "cell_type": "code",
   "execution_count": 41,
   "metadata": {},
   "outputs": [],
   "source": [
    "#properties_colombia_csv=properties_colombia_csv.drop(properties_colombia_csv.columns[9], axis='columns')"
   ]
  },
  {
   "cell_type": "markdown",
   "metadata": {},
   "source": [
    "busco los datos de latitud y longitud faltantes "
   ]
  },
  {
   "cell_type": "code",
   "execution_count": 25,
   "metadata": {},
   "outputs": [],
   "source": [
    "lat_lon_df=properties_colombia_csv[properties_colombia_csv[\"lat\"].isnull()] "
   ]
  },
  {
   "cell_type": "code",
   "execution_count": 26,
   "metadata": {},
   "outputs": [],
   "source": [
    "df_geo=pd.DataFrame(lat_lon_df.l2.value_counts())"
   ]
  },
  {
   "cell_type": "code",
   "execution_count": 27,
   "metadata": {},
   "outputs": [
    {
     "data": {
      "text/html": [
       "<div>\n",
       "<style scoped>\n",
       "    .dataframe tbody tr th:only-of-type {\n",
       "        vertical-align: middle;\n",
       "    }\n",
       "\n",
       "    .dataframe tbody tr th {\n",
       "        vertical-align: top;\n",
       "    }\n",
       "\n",
       "    .dataframe thead th {\n",
       "        text-align: right;\n",
       "    }\n",
       "</style>\n",
       "<table border=\"1\" class=\"dataframe\">\n",
       "  <thead>\n",
       "    <tr style=\"text-align: right;\">\n",
       "      <th></th>\n",
       "      <th>l2</th>\n",
       "    </tr>\n",
       "  </thead>\n",
       "  <tbody>\n",
       "    <tr>\n",
       "      <th>Antioquia</th>\n",
       "      <td>33742</td>\n",
       "    </tr>\n",
       "    <tr>\n",
       "      <th>Atlántico</th>\n",
       "      <td>3249</td>\n",
       "    </tr>\n",
       "    <tr>\n",
       "      <th>Cundinamarca</th>\n",
       "      <td>2911</td>\n",
       "    </tr>\n",
       "    <tr>\n",
       "      <th>Valle del Cauca</th>\n",
       "      <td>2092</td>\n",
       "    </tr>\n",
       "    <tr>\n",
       "      <th>Santander</th>\n",
       "      <td>1744</td>\n",
       "    </tr>\n",
       "    <tr>\n",
       "      <th>Risaralda</th>\n",
       "      <td>1399</td>\n",
       "    </tr>\n",
       "    <tr>\n",
       "      <th>Caldas</th>\n",
       "      <td>1269</td>\n",
       "    </tr>\n",
       "    <tr>\n",
       "      <th>Meta</th>\n",
       "      <td>755</td>\n",
       "    </tr>\n",
       "    <tr>\n",
       "      <th>Cauca</th>\n",
       "      <td>591</td>\n",
       "    </tr>\n",
       "    <tr>\n",
       "      <th>Bolívar</th>\n",
       "      <td>413</td>\n",
       "    </tr>\n",
       "    <tr>\n",
       "      <th>Tolima</th>\n",
       "      <td>349</td>\n",
       "    </tr>\n",
       "    <tr>\n",
       "      <th>Huila</th>\n",
       "      <td>232</td>\n",
       "    </tr>\n",
       "    <tr>\n",
       "      <th>Norte de Santander</th>\n",
       "      <td>230</td>\n",
       "    </tr>\n",
       "    <tr>\n",
       "      <th>Magdalena</th>\n",
       "      <td>184</td>\n",
       "    </tr>\n",
       "    <tr>\n",
       "      <th>Quindío</th>\n",
       "      <td>167</td>\n",
       "    </tr>\n",
       "    <tr>\n",
       "      <th>Boyacá</th>\n",
       "      <td>51</td>\n",
       "    </tr>\n",
       "    <tr>\n",
       "      <th>Cesar</th>\n",
       "      <td>30</td>\n",
       "    </tr>\n",
       "    <tr>\n",
       "      <th>Córdoba</th>\n",
       "      <td>27</td>\n",
       "    </tr>\n",
       "    <tr>\n",
       "      <th>Amazonas</th>\n",
       "      <td>20</td>\n",
       "    </tr>\n",
       "    <tr>\n",
       "      <th>Caquetá</th>\n",
       "      <td>13</td>\n",
       "    </tr>\n",
       "    <tr>\n",
       "      <th>Sucre</th>\n",
       "      <td>6</td>\n",
       "    </tr>\n",
       "    <tr>\n",
       "      <th>Guainía</th>\n",
       "      <td>6</td>\n",
       "    </tr>\n",
       "    <tr>\n",
       "      <th>La Guajira</th>\n",
       "      <td>6</td>\n",
       "    </tr>\n",
       "    <tr>\n",
       "      <th>Vichada</th>\n",
       "      <td>5</td>\n",
       "    </tr>\n",
       "    <tr>\n",
       "      <th>Chocó</th>\n",
       "      <td>4</td>\n",
       "    </tr>\n",
       "    <tr>\n",
       "      <th>Casanare</th>\n",
       "      <td>2</td>\n",
       "    </tr>\n",
       "    <tr>\n",
       "      <th>San Andrés Providencia y Santa Catalina</th>\n",
       "      <td>1</td>\n",
       "    </tr>\n",
       "  </tbody>\n",
       "</table>\n",
       "</div>"
      ],
      "text/plain": [
       "                                            l2\n",
       "Antioquia                                33742\n",
       "Atlántico                                 3249\n",
       "Cundinamarca                              2911\n",
       "Valle del Cauca                           2092\n",
       "Santander                                 1744\n",
       "Risaralda                                 1399\n",
       "Caldas                                    1269\n",
       "Meta                                       755\n",
       "Cauca                                      591\n",
       "Bolívar                                    413\n",
       "Tolima                                     349\n",
       "Huila                                      232\n",
       "Norte de Santander                         230\n",
       "Magdalena                                  184\n",
       "Quindío                                    167\n",
       "Boyacá                                      51\n",
       "Cesar                                       30\n",
       "Córdoba                                     27\n",
       "Amazonas                                    20\n",
       "Caquetá                                     13\n",
       "Sucre                                        6\n",
       "Guainía                                      6\n",
       "La Guajira                                   6\n",
       "Vichada                                      5\n",
       "Chocó                                        4\n",
       "Casanare                                     2\n",
       "San Andrés Providencia y Santa Catalina      1"
      ]
     },
     "execution_count": 27,
     "metadata": {},
     "output_type": "execute_result"
    }
   ],
   "source": [
    "df_geo"
   ]
  },
  {
   "cell_type": "code",
   "execution_count": 28,
   "metadata": {},
   "outputs": [],
   "source": [
    "df_geo['texto'] = df_geo.index"
   ]
  },
  {
   "cell_type": "code",
   "execution_count": 29,
   "metadata": {},
   "outputs": [
    {
     "data": {
      "text/html": [
       "<div>\n",
       "<style scoped>\n",
       "    .dataframe tbody tr th:only-of-type {\n",
       "        vertical-align: middle;\n",
       "    }\n",
       "\n",
       "    .dataframe tbody tr th {\n",
       "        vertical-align: top;\n",
       "    }\n",
       "\n",
       "    .dataframe thead th {\n",
       "        text-align: right;\n",
       "    }\n",
       "</style>\n",
       "<table border=\"1\" class=\"dataframe\">\n",
       "  <thead>\n",
       "    <tr style=\"text-align: right;\">\n",
       "      <th></th>\n",
       "      <th>l2</th>\n",
       "      <th>texto</th>\n",
       "    </tr>\n",
       "  </thead>\n",
       "  <tbody>\n",
       "    <tr>\n",
       "      <th>Antioquia</th>\n",
       "      <td>33742</td>\n",
       "      <td>Antioquia</td>\n",
       "    </tr>\n",
       "    <tr>\n",
       "      <th>Atlántico</th>\n",
       "      <td>3249</td>\n",
       "      <td>Atlántico</td>\n",
       "    </tr>\n",
       "    <tr>\n",
       "      <th>Cundinamarca</th>\n",
       "      <td>2911</td>\n",
       "      <td>Cundinamarca</td>\n",
       "    </tr>\n",
       "    <tr>\n",
       "      <th>Valle del Cauca</th>\n",
       "      <td>2092</td>\n",
       "      <td>Valle del Cauca</td>\n",
       "    </tr>\n",
       "    <tr>\n",
       "      <th>Santander</th>\n",
       "      <td>1744</td>\n",
       "      <td>Santander</td>\n",
       "    </tr>\n",
       "    <tr>\n",
       "      <th>Risaralda</th>\n",
       "      <td>1399</td>\n",
       "      <td>Risaralda</td>\n",
       "    </tr>\n",
       "    <tr>\n",
       "      <th>Caldas</th>\n",
       "      <td>1269</td>\n",
       "      <td>Caldas</td>\n",
       "    </tr>\n",
       "    <tr>\n",
       "      <th>Meta</th>\n",
       "      <td>755</td>\n",
       "      <td>Meta</td>\n",
       "    </tr>\n",
       "    <tr>\n",
       "      <th>Cauca</th>\n",
       "      <td>591</td>\n",
       "      <td>Cauca</td>\n",
       "    </tr>\n",
       "    <tr>\n",
       "      <th>Bolívar</th>\n",
       "      <td>413</td>\n",
       "      <td>Bolívar</td>\n",
       "    </tr>\n",
       "    <tr>\n",
       "      <th>Tolima</th>\n",
       "      <td>349</td>\n",
       "      <td>Tolima</td>\n",
       "    </tr>\n",
       "    <tr>\n",
       "      <th>Huila</th>\n",
       "      <td>232</td>\n",
       "      <td>Huila</td>\n",
       "    </tr>\n",
       "    <tr>\n",
       "      <th>Norte de Santander</th>\n",
       "      <td>230</td>\n",
       "      <td>Norte de Santander</td>\n",
       "    </tr>\n",
       "    <tr>\n",
       "      <th>Magdalena</th>\n",
       "      <td>184</td>\n",
       "      <td>Magdalena</td>\n",
       "    </tr>\n",
       "    <tr>\n",
       "      <th>Quindío</th>\n",
       "      <td>167</td>\n",
       "      <td>Quindío</td>\n",
       "    </tr>\n",
       "    <tr>\n",
       "      <th>Boyacá</th>\n",
       "      <td>51</td>\n",
       "      <td>Boyacá</td>\n",
       "    </tr>\n",
       "    <tr>\n",
       "      <th>Cesar</th>\n",
       "      <td>30</td>\n",
       "      <td>Cesar</td>\n",
       "    </tr>\n",
       "    <tr>\n",
       "      <th>Córdoba</th>\n",
       "      <td>27</td>\n",
       "      <td>Córdoba</td>\n",
       "    </tr>\n",
       "    <tr>\n",
       "      <th>Amazonas</th>\n",
       "      <td>20</td>\n",
       "      <td>Amazonas</td>\n",
       "    </tr>\n",
       "    <tr>\n",
       "      <th>Caquetá</th>\n",
       "      <td>13</td>\n",
       "      <td>Caquetá</td>\n",
       "    </tr>\n",
       "    <tr>\n",
       "      <th>Sucre</th>\n",
       "      <td>6</td>\n",
       "      <td>Sucre</td>\n",
       "    </tr>\n",
       "    <tr>\n",
       "      <th>Guainía</th>\n",
       "      <td>6</td>\n",
       "      <td>Guainía</td>\n",
       "    </tr>\n",
       "    <tr>\n",
       "      <th>La Guajira</th>\n",
       "      <td>6</td>\n",
       "      <td>La Guajira</td>\n",
       "    </tr>\n",
       "    <tr>\n",
       "      <th>Vichada</th>\n",
       "      <td>5</td>\n",
       "      <td>Vichada</td>\n",
       "    </tr>\n",
       "    <tr>\n",
       "      <th>Chocó</th>\n",
       "      <td>4</td>\n",
       "      <td>Chocó</td>\n",
       "    </tr>\n",
       "    <tr>\n",
       "      <th>Casanare</th>\n",
       "      <td>2</td>\n",
       "      <td>Casanare</td>\n",
       "    </tr>\n",
       "    <tr>\n",
       "      <th>San Andrés Providencia y Santa Catalina</th>\n",
       "      <td>1</td>\n",
       "      <td>San Andrés Providencia y Santa Catalina</td>\n",
       "    </tr>\n",
       "  </tbody>\n",
       "</table>\n",
       "</div>"
      ],
      "text/plain": [
       "                                            l2  \\\n",
       "Antioquia                                33742   \n",
       "Atlántico                                 3249   \n",
       "Cundinamarca                              2911   \n",
       "Valle del Cauca                           2092   \n",
       "Santander                                 1744   \n",
       "Risaralda                                 1399   \n",
       "Caldas                                    1269   \n",
       "Meta                                       755   \n",
       "Cauca                                      591   \n",
       "Bolívar                                    413   \n",
       "Tolima                                     349   \n",
       "Huila                                      232   \n",
       "Norte de Santander                         230   \n",
       "Magdalena                                  184   \n",
       "Quindío                                    167   \n",
       "Boyacá                                      51   \n",
       "Cesar                                       30   \n",
       "Córdoba                                     27   \n",
       "Amazonas                                    20   \n",
       "Caquetá                                     13   \n",
       "Sucre                                        6   \n",
       "Guainía                                      6   \n",
       "La Guajira                                   6   \n",
       "Vichada                                      5   \n",
       "Chocó                                        4   \n",
       "Casanare                                     2   \n",
       "San Andrés Providencia y Santa Catalina      1   \n",
       "\n",
       "                                                                           texto  \n",
       "Antioquia                                                              Antioquia  \n",
       "Atlántico                                                              Atlántico  \n",
       "Cundinamarca                                                        Cundinamarca  \n",
       "Valle del Cauca                                                  Valle del Cauca  \n",
       "Santander                                                              Santander  \n",
       "Risaralda                                                              Risaralda  \n",
       "Caldas                                                                    Caldas  \n",
       "Meta                                                                        Meta  \n",
       "Cauca                                                                      Cauca  \n",
       "Bolívar                                                                  Bolívar  \n",
       "Tolima                                                                    Tolima  \n",
       "Huila                                                                      Huila  \n",
       "Norte de Santander                                            Norte de Santander  \n",
       "Magdalena                                                              Magdalena  \n",
       "Quindío                                                                  Quindío  \n",
       "Boyacá                                                                    Boyacá  \n",
       "Cesar                                                                      Cesar  \n",
       "Córdoba                                                                  Córdoba  \n",
       "Amazonas                                                                Amazonas  \n",
       "Caquetá                                                                  Caquetá  \n",
       "Sucre                                                                      Sucre  \n",
       "Guainía                                                                  Guainía  \n",
       "La Guajira                                                            La Guajira  \n",
       "Vichada                                                                  Vichada  \n",
       "Chocó                                                                      Chocó  \n",
       "Casanare                                                                Casanare  \n",
       "San Andrés Providencia y Santa Catalina  San Andrés Providencia y Santa Catalina  "
      ]
     },
     "execution_count": 29,
     "metadata": {},
     "output_type": "execute_result"
    }
   ],
   "source": [
    "df_geo"
   ]
  },
  {
   "cell_type": "code",
   "execution_count": 30,
   "metadata": {},
   "outputs": [],
   "source": [
    "list_geo=list(df_geo[\"texto\"])"
   ]
  },
  {
   "cell_type": "code",
   "execution_count": 31,
   "metadata": {},
   "outputs": [
    {
     "data": {
      "text/plain": [
       "'Antioquia'"
      ]
     },
     "execution_count": 31,
     "metadata": {},
     "output_type": "execute_result"
    }
   ],
   "source": [
    "list_geo[0]"
   ]
  },
  {
   "cell_type": "markdown",
   "metadata": {},
   "source": [
    "veo los datos unicos de las columnas que quedan"
   ]
  },
  {
   "cell_type": "code",
   "execution_count": 32,
   "metadata": {},
   "outputs": [
    {
     "name": "stdout",
     "output_type": "stream",
     "text": [
      "l2\n",
      "['Amazonas' 'Antioquia' 'Arauca' 'Atlántico' 'Bolívar' 'Boyacá' 'Caldas'\n",
      " 'Caquetá' 'Casanare' 'Cauca' 'Cesar' 'Chocó' 'Cundinamarca' 'Córdoba'\n",
      " 'Guainía' 'Guaviare' 'Huila' 'La Guajira' 'Magdalena' 'Meta' 'Nariño'\n",
      " 'Norte de Santander' 'Putumayo' 'Quindío' 'Risaralda'\n",
      " 'San Andrés Providencia y Santa Catalina' 'Santander' 'Sucre' 'Tolima'\n",
      " 'Valle del Cauca' 'Vichada']\n",
      "l3\n",
      "['Abejorral' 'Acacías' 'Acandí' 'Agua de Dios' 'Aguazul' 'Aipe' 'Albania'\n",
      " 'Albán' 'Alvarado' 'Anapoima' 'Andalucía' 'Anolaima' 'Anserma' 'Apulo'\n",
      " 'Arauca' 'Arbeláez' 'Arcabuco' 'Arjona' 'Armenia' 'Balboa' 'Baranoa'\n",
      " 'Barbosa' 'Barichara' 'Barrancabermeja' 'Barranquilla' 'Bello'\n",
      " 'Bochalema' 'Bogotá D.C' 'Bojacá' 'Bucaramanga' 'Buenaventura' 'Buesaco'\n",
      " 'Cabrera' 'Cachipay' 'Caicedonia' 'Cajicá' 'Calarca' 'Caldas' 'Cali'\n",
      " 'Calima' 'Candelaria' 'Caparrapí' 'Carmen de Apicalá' 'Carmen de Carupa'\n",
      " 'Cartagena' 'Cartago' 'Casabianca' 'Chaparral' 'Chigorodó' 'Chinauta'\n",
      " 'Chinácota' 'Chipaque' 'Chiquinquirá' 'Choachí' 'Chocontá' 'Chía'\n",
      " 'Cimitarra' 'Circasia' 'Clemencia' 'Coello' 'Cogua' 'Colombia'\n",
      " 'Copacabana' 'Cota' 'Coveñas' 'Cucunubá' 'Cunday' 'Curití' 'Cúcuta'\n",
      " 'Dagua' 'Dibulla' 'Dos Quebradas' 'Duitama' 'Durania'\n",
      " 'El Carmen de Viboral' 'El Cerrito' 'El Colegio' 'El Peñón' 'El Rosal'\n",
      " 'Envigado' 'Espinal' 'Facatativá' 'Filandia' 'Flandes' 'Florencia'\n",
      " 'Florida' 'Floridablanca' 'Fredonia' 'Fresno' 'Funza' 'Fusagasugá'\n",
      " 'Gachancipá' 'Galapa' 'Garzón' 'Girardot' 'Girardota' 'Girón' 'Granada'\n",
      " 'Guacarí' 'Guadalajara de Buga' 'Guaduas' 'Guamal' 'Guamo' 'Guarne'\n",
      " 'Guasca' 'Guatapé' 'Guatavita' 'Guateque' 'Guayabal de Siquima' 'Génova'\n",
      " 'Gómez Plata' 'Hispania' 'Honda' 'Ibagué' 'Icononzo' 'Inírida' 'Ipiales'\n",
      " 'Itagui' 'Jamundí' 'Jardín' 'Jenesano' 'Juan de Acosta' 'La Calera'\n",
      " 'La Ceja' 'La Cumbre' 'La Dorada' 'La Estrella' 'La Florida' 'La Mesa'\n",
      " 'La Plata' 'La Tebaida' 'La Vega' 'La Virginia' 'Lebríja' 'Leticia'\n",
      " 'Los Patios' 'Los Santos' 'Lérida' 'Líbano' 'Macheta' 'Madrid' 'Malambo'\n",
      " 'Manizales' 'Manzanares' 'Maní' 'Marinilla' 'Mariquita' 'Marsella'\n",
      " 'Medellín' 'Medina' 'Melgar' 'Moniquirá' 'Montenegro' 'Montería'\n",
      " 'Mosquera' 'Neira' 'Neiva' 'Nemocón' 'Nilo' 'Nocaima' 'Orocué' 'Pacho'\n",
      " 'Paipa' 'Palermo' 'Palestina' 'Palmar de Varela' 'Palmira' 'Pandi'\n",
      " 'Pasto' 'Paz de Ariporo' 'Pereira' 'Piedecuesta' 'Piedras' 'Pinchote'\n",
      " 'Pitalito' 'Planeta Rica' 'Popayán' 'Pore' 'Pradera' 'Prado'\n",
      " 'Providencia' 'Puerto Boyacá' 'Puerto Carreño' 'Puerto Colombia'\n",
      " 'Puerto Gaitán' 'Puerto Lleras' 'Puerto López' 'Puerto Parra'\n",
      " 'Puerto Salgar' 'Puerto Triunfo' 'Puerto Wilches' 'Purificación'\n",
      " 'Quebradanegra' 'Quimbaya' 'Restrepo' 'Retiro' 'Ricaurte' 'Riofrío'\n",
      " 'Riohacha' 'Rionegro' 'Rivera' 'Sabanagrande' 'Sabanalarga' 'Sabaneta'\n",
      " 'Sahagún' 'Salamina' 'Saldaña' 'Salento' 'San Alberto' 'San Andrés'\n",
      " 'San Antonio del Tequendama' 'San Bernardo' 'San Carlos de Guaroa'\n",
      " 'San Cayetano' 'San Francisco' 'San Gil' 'San Jerónimo'\n",
      " 'San Juan de Arama' 'San Juan de Rioseco' 'San Luis' 'San Marcos'\n",
      " 'San Martín' 'San Onofre' 'San Pedro de Uraba' 'San Rafael'\n",
      " 'Santa Catalina' 'Santa Marta' 'Santa Rita' 'Santa Rosa'\n",
      " 'Santa Rosa de Cabal' 'Santa Sofía' 'Santafé de Antioquia' 'Santagueda'\n",
      " 'Santiago de Tolú' 'Sasaima' 'Sesquilé' 'Sibaté' 'Silvania' 'Simijaca'\n",
      " 'Sincelejo' 'Soacha' 'Socorro' 'Sogamoso' 'Soledad' 'Sopetrán' 'Sopó'\n",
      " 'Subachoque' 'Suesca' 'Supatá' 'Sutamarchán' 'Sutatausa' 'Suárez' 'Tabio'\n",
      " 'Tauramena' 'Tausa' 'Tena' 'Tenjo' 'Tibacuy' 'Tibaná' 'Tibasosa'\n",
      " 'Tocaima' 'Tocancipá' 'Trujillo' 'Tubará' 'Tuluá' 'Tunja' 'Turbaco'\n",
      " 'Turbaná' 'Turbo' 'Valledupar' 'Venadillo' 'Venecia' 'Vergara' 'Vianí'\n",
      " 'Victoria' 'Vijes' 'Villa de Leyva' 'Villa del Rosario' 'Villamaría'\n",
      " 'Villanueva' 'Villapinzón' 'Villavicencio' 'Villeta' 'Viotá' 'Viterbo'\n",
      " 'Yacopí' 'Yopal' 'Yotoco' 'Yumbo' 'Zapatoca' 'Zarzal' 'Zipacón'\n",
      " 'Zipaquirá' nan]\n",
      "currency\n",
      "['COP' 'USD' nan]\n",
      "property_type\n",
      "['Apartamento' 'Casa' 'Finca' 'Local comercial' 'Lote' 'Oficina' 'Otro'\n",
      " 'Parqueadero']\n",
      "bathrooms\n",
      "[ 1.  2.  3.  4.  5.  6.  7.  8.  9. 10. 11. 12. 13. 14. 15. 16. 17. 18.\n",
      " 19. 20. nan]\n"
     ]
    }
   ],
   "source": [
    "properties_colombia=['l2', 'l3',\"currency\",\"property_type\",'bathrooms']\n",
    "\n",
    "listproperties_colombia=list(properties_colombia)\n",
    "\n",
    "#ver valores unicos en las columnas\n",
    "for indice,columns_properties in enumerate(listproperties_colombia) :\n",
    "    print(columns_properties)\n",
    "    sort_properties =properties_colombia_csv[columns_properties].sort_values()\n",
    "    listaproperties=sort_properties.unique()\n",
    "    print(listaproperties)"
   ]
  },
  {
   "cell_type": "code",
   "execution_count": 39,
   "metadata": {},
   "outputs": [
    {
     "data": {
      "text/plain": [
       "start_date           0\n",
       "end_date             0\n",
       "created_on           0\n",
       "lat              49498\n",
       "lon              49498\n",
       "l2                   0\n",
       "l3               11032\n",
       "bathrooms        41082\n",
       "currency            67\n",
       "property_type        0\n",
       "price_Binary         0\n",
       "dtype: int64"
      ]
     },
     "execution_count": 39,
     "metadata": {},
     "output_type": "execute_result"
    }
   ],
   "source": [
    "properties_colombia_csv.isnull().sum()"
   ]
  },
  {
   "cell_type": "code",
   "execution_count": 40,
   "metadata": {},
   "outputs": [
    {
     "data": {
      "text/html": [
       "<div>\n",
       "<style scoped>\n",
       "    .dataframe tbody tr th:only-of-type {\n",
       "        vertical-align: middle;\n",
       "    }\n",
       "\n",
       "    .dataframe tbody tr th {\n",
       "        vertical-align: top;\n",
       "    }\n",
       "\n",
       "    .dataframe thead th {\n",
       "        text-align: right;\n",
       "    }\n",
       "</style>\n",
       "<table border=\"1\" class=\"dataframe\">\n",
       "  <thead>\n",
       "    <tr style=\"text-align: right;\">\n",
       "      <th></th>\n",
       "      <th>start_date</th>\n",
       "      <th>end_date</th>\n",
       "      <th>created_on</th>\n",
       "      <th>lat</th>\n",
       "      <th>lon</th>\n",
       "      <th>l2</th>\n",
       "      <th>l3</th>\n",
       "      <th>bathrooms</th>\n",
       "      <th>currency</th>\n",
       "      <th>property_type</th>\n",
       "      <th>price_Binary</th>\n",
       "    </tr>\n",
       "  </thead>\n",
       "  <tbody>\n",
       "    <tr>\n",
       "      <th>7159</th>\n",
       "      <td>2020-09-02</td>\n",
       "      <td>2020-09-02</td>\n",
       "      <td>2020-09-02</td>\n",
       "      <td>13</td>\n",
       "      <td>-81</td>\n",
       "      <td>San Andrés Providencia y Santa Catalina</td>\n",
       "      <td>Providencia</td>\n",
       "      <td>NaN</td>\n",
       "      <td>COP</td>\n",
       "      <td>Lote</td>\n",
       "      <td>1</td>\n",
       "    </tr>\n",
       "    <tr>\n",
       "      <th>18218</th>\n",
       "      <td>2020-09-02</td>\n",
       "      <td>2020-09-21</td>\n",
       "      <td>2020-09-02</td>\n",
       "      <td>13</td>\n",
       "      <td>-81</td>\n",
       "      <td>San Andrés Providencia y Santa Catalina</td>\n",
       "      <td>Providencia</td>\n",
       "      <td>NaN</td>\n",
       "      <td>COP</td>\n",
       "      <td>Lote</td>\n",
       "      <td>1</td>\n",
       "    </tr>\n",
       "    <tr>\n",
       "      <th>20753</th>\n",
       "      <td>2020-07-29</td>\n",
       "      <td>2020-10-06</td>\n",
       "      <td>2020-07-29</td>\n",
       "      <td>13</td>\n",
       "      <td>-82</td>\n",
       "      <td>San Andrés Providencia y Santa Catalina</td>\n",
       "      <td>San Andrés</td>\n",
       "      <td>NaN</td>\n",
       "      <td>COP</td>\n",
       "      <td>Lote</td>\n",
       "      <td>1</td>\n",
       "    </tr>\n",
       "    <tr>\n",
       "      <th>35581</th>\n",
       "      <td>2020-08-08</td>\n",
       "      <td>2021-04-07</td>\n",
       "      <td>2020-08-08</td>\n",
       "      <td>13</td>\n",
       "      <td>-82</td>\n",
       "      <td>San Andrés Providencia y Santa Catalina</td>\n",
       "      <td>San Andrés</td>\n",
       "      <td>NaN</td>\n",
       "      <td>COP</td>\n",
       "      <td>Lote</td>\n",
       "      <td>1</td>\n",
       "    </tr>\n",
       "    <tr>\n",
       "      <th>70284</th>\n",
       "      <td>2020-10-28</td>\n",
       "      <td>2021-01-02</td>\n",
       "      <td>2020-10-28</td>\n",
       "      <td>13</td>\n",
       "      <td>-82</td>\n",
       "      <td>San Andrés Providencia y Santa Catalina</td>\n",
       "      <td>San Andrés</td>\n",
       "      <td>NaN</td>\n",
       "      <td>COP</td>\n",
       "      <td>Lote</td>\n",
       "      <td>1</td>\n",
       "    </tr>\n",
       "    <tr>\n",
       "      <th>71985</th>\n",
       "      <td>2020-10-01</td>\n",
       "      <td>2021-03-04</td>\n",
       "      <td>2020-10-01</td>\n",
       "      <td>13</td>\n",
       "      <td>-82</td>\n",
       "      <td>San Andrés Providencia y Santa Catalina</td>\n",
       "      <td>San Andrés</td>\n",
       "      <td>3</td>\n",
       "      <td>COP</td>\n",
       "      <td>Casa</td>\n",
       "      <td>1</td>\n",
       "    </tr>\n",
       "    <tr>\n",
       "      <th>107249</th>\n",
       "      <td>2020-10-28</td>\n",
       "      <td>2020-10-28</td>\n",
       "      <td>2020-10-28</td>\n",
       "      <td>13</td>\n",
       "      <td>-82</td>\n",
       "      <td>San Andrés Providencia y Santa Catalina</td>\n",
       "      <td>San Andrés</td>\n",
       "      <td>NaN</td>\n",
       "      <td>COP</td>\n",
       "      <td>Lote</td>\n",
       "      <td>1</td>\n",
       "    </tr>\n",
       "    <tr>\n",
       "      <th>109821</th>\n",
       "      <td>2020-10-28</td>\n",
       "      <td>2021-01-02</td>\n",
       "      <td>2020-10-28</td>\n",
       "      <td>13</td>\n",
       "      <td>-82</td>\n",
       "      <td>San Andrés Providencia y Santa Catalina</td>\n",
       "      <td>San Andrés</td>\n",
       "      <td>NaN</td>\n",
       "      <td>COP</td>\n",
       "      <td>Lote</td>\n",
       "      <td>1</td>\n",
       "    </tr>\n",
       "    <tr>\n",
       "      <th>114121</th>\n",
       "      <td>2020-09-16</td>\n",
       "      <td>9999-12-31</td>\n",
       "      <td>2020-09-16</td>\n",
       "      <td>13</td>\n",
       "      <td>-82</td>\n",
       "      <td>San Andrés Providencia y Santa Catalina</td>\n",
       "      <td>NaN</td>\n",
       "      <td>NaN</td>\n",
       "      <td>COP</td>\n",
       "      <td>Finca</td>\n",
       "      <td>1</td>\n",
       "    </tr>\n",
       "    <tr>\n",
       "      <th>130003</th>\n",
       "      <td>2020-07-28</td>\n",
       "      <td>2021-07-19</td>\n",
       "      <td>2020-07-28</td>\n",
       "      <td>13</td>\n",
       "      <td>-82</td>\n",
       "      <td>San Andrés Providencia y Santa Catalina</td>\n",
       "      <td>San Andrés</td>\n",
       "      <td>3</td>\n",
       "      <td>COP</td>\n",
       "      <td>Casa</td>\n",
       "      <td>1</td>\n",
       "    </tr>\n",
       "    <tr>\n",
       "      <th>137025</th>\n",
       "      <td>2020-08-29</td>\n",
       "      <td>9999-12-31</td>\n",
       "      <td>2020-08-29</td>\n",
       "      <td>13</td>\n",
       "      <td>-82</td>\n",
       "      <td>San Andrés Providencia y Santa Catalina</td>\n",
       "      <td>NaN</td>\n",
       "      <td>NaN</td>\n",
       "      <td>USD</td>\n",
       "      <td>Otro</td>\n",
       "      <td>0</td>\n",
       "    </tr>\n",
       "    <tr>\n",
       "      <th>144520</th>\n",
       "      <td>2020-11-30</td>\n",
       "      <td>2020-12-01</td>\n",
       "      <td>2020-11-30</td>\n",
       "      <td>13</td>\n",
       "      <td>-82</td>\n",
       "      <td>San Andrés Providencia y Santa Catalina</td>\n",
       "      <td>San Andrés</td>\n",
       "      <td>2</td>\n",
       "      <td>COP</td>\n",
       "      <td>Apartamento</td>\n",
       "      <td>1</td>\n",
       "    </tr>\n",
       "    <tr>\n",
       "      <th>148562</th>\n",
       "      <td>2020-11-06</td>\n",
       "      <td>2021-07-26</td>\n",
       "      <td>2020-11-06</td>\n",
       "      <td>34</td>\n",
       "      <td>-120</td>\n",
       "      <td>Cundinamarca</td>\n",
       "      <td>Bogotá D.C</td>\n",
       "      <td>4</td>\n",
       "      <td>COP</td>\n",
       "      <td>Apartamento</td>\n",
       "      <td>1</td>\n",
       "    </tr>\n",
       "    <tr>\n",
       "      <th>149736</th>\n",
       "      <td>2020-10-23</td>\n",
       "      <td>2020-11-30</td>\n",
       "      <td>2020-10-23</td>\n",
       "      <td>13</td>\n",
       "      <td>-82</td>\n",
       "      <td>San Andrés Providencia y Santa Catalina</td>\n",
       "      <td>San Andrés</td>\n",
       "      <td>2</td>\n",
       "      <td>COP</td>\n",
       "      <td>Apartamento</td>\n",
       "      <td>1</td>\n",
       "    </tr>\n",
       "    <tr>\n",
       "      <th>195819</th>\n",
       "      <td>2020-09-18</td>\n",
       "      <td>2020-11-26</td>\n",
       "      <td>2020-09-18</td>\n",
       "      <td>13</td>\n",
       "      <td>-82</td>\n",
       "      <td>San Andrés Providencia y Santa Catalina</td>\n",
       "      <td>San Andrés</td>\n",
       "      <td>2</td>\n",
       "      <td>COP</td>\n",
       "      <td>Apartamento</td>\n",
       "      <td>1</td>\n",
       "    </tr>\n",
       "  </tbody>\n",
       "</table>\n",
       "</div>"
      ],
      "text/plain": [
       "        start_date    end_date  created_on  lat  lon  \\\n",
       "7159    2020-09-02  2020-09-02  2020-09-02   13  -81   \n",
       "18218   2020-09-02  2020-09-21  2020-09-02   13  -81   \n",
       "20753   2020-07-29  2020-10-06  2020-07-29   13  -82   \n",
       "35581   2020-08-08  2021-04-07  2020-08-08   13  -82   \n",
       "70284   2020-10-28  2021-01-02  2020-10-28   13  -82   \n",
       "71985   2020-10-01  2021-03-04  2020-10-01   13  -82   \n",
       "107249  2020-10-28  2020-10-28  2020-10-28   13  -82   \n",
       "109821  2020-10-28  2021-01-02  2020-10-28   13  -82   \n",
       "114121  2020-09-16  9999-12-31  2020-09-16   13  -82   \n",
       "130003  2020-07-28  2021-07-19  2020-07-28   13  -82   \n",
       "137025  2020-08-29  9999-12-31  2020-08-29   13  -82   \n",
       "144520  2020-11-30  2020-12-01  2020-11-30   13  -82   \n",
       "148562  2020-11-06  2021-07-26  2020-11-06   34 -120   \n",
       "149736  2020-10-23  2020-11-30  2020-10-23   13  -82   \n",
       "195819  2020-09-18  2020-11-26  2020-09-18   13  -82   \n",
       "\n",
       "                                             l2           l3  bathrooms  \\\n",
       "7159    San Andrés Providencia y Santa Catalina  Providencia        NaN   \n",
       "18218   San Andrés Providencia y Santa Catalina  Providencia        NaN   \n",
       "20753   San Andrés Providencia y Santa Catalina   San Andrés        NaN   \n",
       "35581   San Andrés Providencia y Santa Catalina   San Andrés        NaN   \n",
       "70284   San Andrés Providencia y Santa Catalina   San Andrés        NaN   \n",
       "71985   San Andrés Providencia y Santa Catalina   San Andrés          3   \n",
       "107249  San Andrés Providencia y Santa Catalina   San Andrés        NaN   \n",
       "109821  San Andrés Providencia y Santa Catalina   San Andrés        NaN   \n",
       "114121  San Andrés Providencia y Santa Catalina          NaN        NaN   \n",
       "130003  San Andrés Providencia y Santa Catalina   San Andrés          3   \n",
       "137025  San Andrés Providencia y Santa Catalina          NaN        NaN   \n",
       "144520  San Andrés Providencia y Santa Catalina   San Andrés          2   \n",
       "148562                             Cundinamarca   Bogotá D.C          4   \n",
       "149736  San Andrés Providencia y Santa Catalina   San Andrés          2   \n",
       "195819  San Andrés Providencia y Santa Catalina   San Andrés          2   \n",
       "\n",
       "       currency property_type price_Binary  \n",
       "7159        COP          Lote            1  \n",
       "18218       COP          Lote            1  \n",
       "20753       COP          Lote            1  \n",
       "35581       COP          Lote            1  \n",
       "70284       COP          Lote            1  \n",
       "71985       COP          Casa            1  \n",
       "107249      COP          Lote            1  \n",
       "109821      COP          Lote            1  \n",
       "114121      COP         Finca            1  \n",
       "130003      COP          Casa            1  \n",
       "137025      USD          Otro            0  \n",
       "144520      COP   Apartamento            1  \n",
       "148562      COP   Apartamento            1  \n",
       "149736      COP   Apartamento            1  \n",
       "195819      COP   Apartamento            1  "
      ]
     },
     "execution_count": 40,
     "metadata": {},
     "output_type": "execute_result"
    }
   ],
   "source": [
    "properties_colombia_csv[properties_colombia_csv[\"lat\"]>12]"
   ]
  },
  {
   "cell_type": "code",
   "execution_count": 41,
   "metadata": {},
   "outputs": [
    {
     "data": {
      "text/html": [
       "<div>\n",
       "<style scoped>\n",
       "    .dataframe tbody tr th:only-of-type {\n",
       "        vertical-align: middle;\n",
       "    }\n",
       "\n",
       "    .dataframe tbody tr th {\n",
       "        vertical-align: top;\n",
       "    }\n",
       "\n",
       "    .dataframe thead th {\n",
       "        text-align: right;\n",
       "    }\n",
       "</style>\n",
       "<table border=\"1\" class=\"dataframe\">\n",
       "  <thead>\n",
       "    <tr style=\"text-align: right;\">\n",
       "      <th></th>\n",
       "      <th>start_date</th>\n",
       "      <th>end_date</th>\n",
       "      <th>created_on</th>\n",
       "      <th>lat</th>\n",
       "      <th>lon</th>\n",
       "      <th>l2</th>\n",
       "      <th>l3</th>\n",
       "      <th>bathrooms</th>\n",
       "      <th>currency</th>\n",
       "      <th>property_type</th>\n",
       "      <th>price_Binary</th>\n",
       "    </tr>\n",
       "  </thead>\n",
       "  <tbody>\n",
       "    <tr>\n",
       "      <th>3</th>\n",
       "      <td>2020-11-23</td>\n",
       "      <td>2020-11-30</td>\n",
       "      <td>2020-11-23</td>\n",
       "      <td>NaN</td>\n",
       "      <td>NaN</td>\n",
       "      <td>Santander</td>\n",
       "      <td>Bucaramanga</td>\n",
       "      <td>1</td>\n",
       "      <td>COP</td>\n",
       "      <td>Otro</td>\n",
       "      <td>1</td>\n",
       "    </tr>\n",
       "    <tr>\n",
       "      <th>4</th>\n",
       "      <td>2020-10-06</td>\n",
       "      <td>2020-10-07</td>\n",
       "      <td>2020-10-06</td>\n",
       "      <td>NaN</td>\n",
       "      <td>NaN</td>\n",
       "      <td>Antioquia</td>\n",
       "      <td>Medellín</td>\n",
       "      <td>2</td>\n",
       "      <td>COP</td>\n",
       "      <td>Apartamento</td>\n",
       "      <td>0</td>\n",
       "    </tr>\n",
       "    <tr>\n",
       "      <th>9</th>\n",
       "      <td>2020-08-18</td>\n",
       "      <td>2020-08-25</td>\n",
       "      <td>2020-08-18</td>\n",
       "      <td>NaN</td>\n",
       "      <td>NaN</td>\n",
       "      <td>Atlántico</td>\n",
       "      <td>Barranquilla</td>\n",
       "      <td>3</td>\n",
       "      <td>COP</td>\n",
       "      <td>Apartamento</td>\n",
       "      <td>1</td>\n",
       "    </tr>\n",
       "    <tr>\n",
       "      <th>11</th>\n",
       "      <td>2020-10-13</td>\n",
       "      <td>2020-10-14</td>\n",
       "      <td>2020-10-13</td>\n",
       "      <td>NaN</td>\n",
       "      <td>NaN</td>\n",
       "      <td>Antioquia</td>\n",
       "      <td>Medellín</td>\n",
       "      <td>2</td>\n",
       "      <td>COP</td>\n",
       "      <td>Apartamento</td>\n",
       "      <td>0</td>\n",
       "    </tr>\n",
       "    <tr>\n",
       "      <th>12</th>\n",
       "      <td>2020-10-22</td>\n",
       "      <td>2020-10-23</td>\n",
       "      <td>2020-10-22</td>\n",
       "      <td>NaN</td>\n",
       "      <td>NaN</td>\n",
       "      <td>Antioquia</td>\n",
       "      <td>Medellín</td>\n",
       "      <td>5</td>\n",
       "      <td>COP</td>\n",
       "      <td>Apartamento</td>\n",
       "      <td>1</td>\n",
       "    </tr>\n",
       "    <tr>\n",
       "      <th>...</th>\n",
       "      <td>...</td>\n",
       "      <td>...</td>\n",
       "      <td>...</td>\n",
       "      <td>...</td>\n",
       "      <td>...</td>\n",
       "      <td>...</td>\n",
       "      <td>...</td>\n",
       "      <td>...</td>\n",
       "      <td>...</td>\n",
       "      <td>...</td>\n",
       "      <td>...</td>\n",
       "    </tr>\n",
       "    <tr>\n",
       "      <th>197532</th>\n",
       "      <td>2020-07-30</td>\n",
       "      <td>2020-07-30</td>\n",
       "      <td>2020-07-30</td>\n",
       "      <td>NaN</td>\n",
       "      <td>NaN</td>\n",
       "      <td>Antioquia</td>\n",
       "      <td>Medellín</td>\n",
       "      <td>3</td>\n",
       "      <td>COP</td>\n",
       "      <td>Apartamento</td>\n",
       "      <td>1</td>\n",
       "    </tr>\n",
       "    <tr>\n",
       "      <th>197533</th>\n",
       "      <td>2020-11-18</td>\n",
       "      <td>2020-11-19</td>\n",
       "      <td>2020-11-18</td>\n",
       "      <td>NaN</td>\n",
       "      <td>NaN</td>\n",
       "      <td>Antioquia</td>\n",
       "      <td>Medellín</td>\n",
       "      <td>2</td>\n",
       "      <td>COP</td>\n",
       "      <td>Apartamento</td>\n",
       "      <td>0</td>\n",
       "    </tr>\n",
       "    <tr>\n",
       "      <th>197537</th>\n",
       "      <td>2020-08-26</td>\n",
       "      <td>2020-08-26</td>\n",
       "      <td>2020-08-26</td>\n",
       "      <td>NaN</td>\n",
       "      <td>NaN</td>\n",
       "      <td>Caldas</td>\n",
       "      <td>Palestina</td>\n",
       "      <td>3</td>\n",
       "      <td>COP</td>\n",
       "      <td>Otro</td>\n",
       "      <td>1</td>\n",
       "    </tr>\n",
       "    <tr>\n",
       "      <th>197538</th>\n",
       "      <td>2020-09-03</td>\n",
       "      <td>2020-09-09</td>\n",
       "      <td>2020-09-03</td>\n",
       "      <td>NaN</td>\n",
       "      <td>NaN</td>\n",
       "      <td>Valle del Cauca</td>\n",
       "      <td>Cali</td>\n",
       "      <td>2</td>\n",
       "      <td>COP</td>\n",
       "      <td>Casa</td>\n",
       "      <td>0</td>\n",
       "    </tr>\n",
       "    <tr>\n",
       "      <th>197541</th>\n",
       "      <td>2020-12-19</td>\n",
       "      <td>2021-03-02</td>\n",
       "      <td>2020-12-19</td>\n",
       "      <td>NaN</td>\n",
       "      <td>NaN</td>\n",
       "      <td>Santander</td>\n",
       "      <td>Bucaramanga</td>\n",
       "      <td>2</td>\n",
       "      <td>COP</td>\n",
       "      <td>Apartamento</td>\n",
       "      <td>0</td>\n",
       "    </tr>\n",
       "  </tbody>\n",
       "</table>\n",
       "<p>49498 rows × 11 columns</p>\n",
       "</div>"
      ],
      "text/plain": [
       "        start_date    end_date  created_on  lat  lon               l2  \\\n",
       "3       2020-11-23  2020-11-30  2020-11-23  NaN  NaN        Santander   \n",
       "4       2020-10-06  2020-10-07  2020-10-06  NaN  NaN        Antioquia   \n",
       "9       2020-08-18  2020-08-25  2020-08-18  NaN  NaN        Atlántico   \n",
       "11      2020-10-13  2020-10-14  2020-10-13  NaN  NaN        Antioquia   \n",
       "12      2020-10-22  2020-10-23  2020-10-22  NaN  NaN        Antioquia   \n",
       "...            ...         ...         ...  ...  ...              ...   \n",
       "197532  2020-07-30  2020-07-30  2020-07-30  NaN  NaN        Antioquia   \n",
       "197533  2020-11-18  2020-11-19  2020-11-18  NaN  NaN        Antioquia   \n",
       "197537  2020-08-26  2020-08-26  2020-08-26  NaN  NaN           Caldas   \n",
       "197538  2020-09-03  2020-09-09  2020-09-03  NaN  NaN  Valle del Cauca   \n",
       "197541  2020-12-19  2021-03-02  2020-12-19  NaN  NaN        Santander   \n",
       "\n",
       "                  l3  bathrooms currency property_type price_Binary  \n",
       "3        Bucaramanga          1      COP          Otro            1  \n",
       "4           Medellín          2      COP   Apartamento            0  \n",
       "9       Barranquilla          3      COP   Apartamento            1  \n",
       "11          Medellín          2      COP   Apartamento            0  \n",
       "12          Medellín          5      COP   Apartamento            1  \n",
       "...              ...        ...      ...           ...          ...  \n",
       "197532      Medellín          3      COP   Apartamento            1  \n",
       "197533      Medellín          2      COP   Apartamento            0  \n",
       "197537     Palestina          3      COP          Otro            1  \n",
       "197538          Cali          2      COP          Casa            0  \n",
       "197541   Bucaramanga          2      COP   Apartamento            0  \n",
       "\n",
       "[49498 rows x 11 columns]"
      ]
     },
     "execution_count": 41,
     "metadata": {},
     "output_type": "execute_result"
    }
   ],
   "source": [
    "properties_colombia_csv[properties_colombia_csv[\"lat\"].isnull()]"
   ]
  },
  {
   "cell_type": "markdown",
   "metadata": {},
   "source": [
    "busco la coordenada de la columna l2 con mas nan (faltantes)"
   ]
  },
  {
   "cell_type": "code",
   "execution_count": 33,
   "metadata": {},
   "outputs": [],
   "source": [
    "df_l2=properties_colombia_csv[properties_colombia_csv.l2==list_geo[0]]\n"
   ]
  },
  {
   "cell_type": "code",
   "execution_count": 34,
   "metadata": {},
   "outputs": [],
   "source": [
    "geo_l2=df_l2[df_l2.columns[[3,4]]]"
   ]
  },
  {
   "cell_type": "code",
   "execution_count": 35,
   "metadata": {},
   "outputs": [],
   "source": [
    "list_l2_loc=geo_l2.iloc[0]"
   ]
  },
  {
   "cell_type": "code",
   "execution_count": 45,
   "metadata": {},
   "outputs": [
    {
     "name": "stdout",
     "output_type": "stream",
     "text": [
      "latitud mas repetida en los datos faltantes para la columna l2:  6.203\n",
      "longuitud mas repetida en los datos faltantes para la columna l2:  -75.572\n"
     ]
    }
   ],
   "source": [
    "print(\"latitud mas repetida en los datos faltantes para la columna l2: \",list_l2_loc[0])\n",
    "print(\"longuitud mas repetida en los datos faltantes para la columna l2: \",list_l2_loc[1])"
   ]
  },
  {
   "cell_type": "code",
   "execution_count": 46,
   "metadata": {},
   "outputs": [
    {
     "name": "stdout",
     "output_type": "stream",
     "text": [
      "<class 'pandas.core.frame.DataFrame'>\n",
      "Int64Index: 197548 entries, 0 to 197548\n",
      "Data columns (total 11 columns):\n",
      " #   Column         Non-Null Count   Dtype   \n",
      "---  ------         --------------   -----   \n",
      " 0   start_date     197548 non-null  object  \n",
      " 1   end_date       197548 non-null  object  \n",
      " 2   created_on     197548 non-null  object  \n",
      " 3   lat            148050 non-null  float64 \n",
      " 4   lon            148050 non-null  float64 \n",
      " 5   l2             197548 non-null  object  \n",
      " 6   l3             186516 non-null  object  \n",
      " 7   bathrooms      156466 non-null  float64 \n",
      " 8   currency       197481 non-null  object  \n",
      " 9   property_type  197548 non-null  object  \n",
      " 10  price_Binary   197548 non-null  category\n",
      "dtypes: category(1), float64(3), object(7)\n",
      "memory usage: 16.8+ MB\n"
     ]
    }
   ],
   "source": [
    "properties_colombia_csv.info()"
   ]
  },
  {
   "cell_type": "markdown",
   "metadata": {},
   "source": [
    "reemplazo los faltantes con la coordenada correspondiente a un dato de la columna l2 que se repite con mas frecuencia"
   ]
  },
  {
   "cell_type": "code",
   "execution_count": 36,
   "metadata": {},
   "outputs": [],
   "source": [
    "properties_colombia_csv.lat = properties_colombia_csv[\"lat\"].replace(np.nan,list_l2_loc[0])"
   ]
  },
  {
   "cell_type": "code",
   "execution_count": 37,
   "metadata": {},
   "outputs": [],
   "source": [
    "properties_colombia_csv.lon = properties_colombia_csv[\"lon\"].replace(np.nan,list_l2_loc[1])"
   ]
  },
  {
   "cell_type": "code",
   "execution_count": 49,
   "metadata": {},
   "outputs": [
    {
     "data": {
      "text/html": [
       "<div>\n",
       "<style scoped>\n",
       "    .dataframe tbody tr th:only-of-type {\n",
       "        vertical-align: middle;\n",
       "    }\n",
       "\n",
       "    .dataframe tbody tr th {\n",
       "        vertical-align: top;\n",
       "    }\n",
       "\n",
       "    .dataframe thead th {\n",
       "        text-align: right;\n",
       "    }\n",
       "</style>\n",
       "<table border=\"1\" class=\"dataframe\">\n",
       "  <thead>\n",
       "    <tr style=\"text-align: right;\">\n",
       "      <th></th>\n",
       "      <th>start_date</th>\n",
       "      <th>end_date</th>\n",
       "      <th>created_on</th>\n",
       "      <th>lat</th>\n",
       "      <th>lon</th>\n",
       "      <th>l2</th>\n",
       "      <th>l3</th>\n",
       "      <th>bathrooms</th>\n",
       "      <th>currency</th>\n",
       "      <th>property_type</th>\n",
       "      <th>price_Binary</th>\n",
       "    </tr>\n",
       "  </thead>\n",
       "  <tbody>\n",
       "  </tbody>\n",
       "</table>\n",
       "</div>"
      ],
      "text/plain": [
       "Empty DataFrame\n",
       "Columns: [start_date, end_date, created_on, lat, lon, l2, l3, bathrooms, currency, property_type, price_Binary]\n",
       "Index: []"
      ]
     },
     "execution_count": 49,
     "metadata": {},
     "output_type": "execute_result"
    }
   ],
   "source": [
    "properties_colombia_csv[properties_colombia_csv.lon.isnull()]"
   ]
  },
  {
   "cell_type": "code",
   "execution_count": 38,
   "metadata": {},
   "outputs": [],
   "source": [
    "properties_colombia_csv.to_csv(\"columbia_houses_train.csv\", index=False)"
   ]
  },
  {
   "cell_type": "code",
   "execution_count": 66,
   "metadata": {},
   "outputs": [
    {
     "data": {
      "text/plain": [
       "(197548, 11)"
      ]
     },
     "execution_count": 66,
     "metadata": {},
     "output_type": "execute_result"
    }
   ],
   "source": [
    "properties_colombia_csv.shape"
   ]
  },
  {
   "cell_type": "code",
   "execution_count": 67,
   "metadata": {},
   "outputs": [
    {
     "data": {
      "text/html": [
       "<div>\n",
       "<style scoped>\n",
       "    .dataframe tbody tr th:only-of-type {\n",
       "        vertical-align: middle;\n",
       "    }\n",
       "\n",
       "    .dataframe tbody tr th {\n",
       "        vertical-align: top;\n",
       "    }\n",
       "\n",
       "    .dataframe thead th {\n",
       "        text-align: right;\n",
       "    }\n",
       "</style>\n",
       "<table border=\"1\" class=\"dataframe\">\n",
       "  <thead>\n",
       "    <tr style=\"text-align: right;\">\n",
       "      <th></th>\n",
       "      <th>lat</th>\n",
       "      <th>lon</th>\n",
       "      <th>bathrooms</th>\n",
       "      <th>price_Binary</th>\n",
       "    </tr>\n",
       "  </thead>\n",
       "  <tbody>\n",
       "    <tr>\n",
       "      <th>count</th>\n",
       "      <td>197548</td>\n",
       "      <td>197548</td>\n",
       "      <td>156466</td>\n",
       "      <td>197548</td>\n",
       "    </tr>\n",
       "    <tr>\n",
       "      <th>mean</th>\n",
       "      <td>6</td>\n",
       "      <td>-75</td>\n",
       "      <td>3</td>\n",
       "      <td>0</td>\n",
       "    </tr>\n",
       "    <tr>\n",
       "      <th>std</th>\n",
       "      <td>2</td>\n",
       "      <td>1</td>\n",
       "      <td>1</td>\n",
       "      <td>0</td>\n",
       "    </tr>\n",
       "    <tr>\n",
       "      <th>min</th>\n",
       "      <td>1</td>\n",
       "      <td>-120</td>\n",
       "      <td>1</td>\n",
       "      <td>0</td>\n",
       "    </tr>\n",
       "    <tr>\n",
       "      <th>25%</th>\n",
       "      <td>5</td>\n",
       "      <td>-76</td>\n",
       "      <td>2</td>\n",
       "      <td>0</td>\n",
       "    </tr>\n",
       "    <tr>\n",
       "      <th>50%</th>\n",
       "      <td>6</td>\n",
       "      <td>-76</td>\n",
       "      <td>2</td>\n",
       "      <td>0</td>\n",
       "    </tr>\n",
       "    <tr>\n",
       "      <th>75%</th>\n",
       "      <td>6</td>\n",
       "      <td>-74</td>\n",
       "      <td>3</td>\n",
       "      <td>1</td>\n",
       "    </tr>\n",
       "    <tr>\n",
       "      <th>max</th>\n",
       "      <td>34</td>\n",
       "      <td>-67</td>\n",
       "      <td>20</td>\n",
       "      <td>1</td>\n",
       "    </tr>\n",
       "  </tbody>\n",
       "</table>\n",
       "</div>"
      ],
      "text/plain": [
       "         lat    lon  bathrooms  price_Binary\n",
       "count 197548 197548     156466        197548\n",
       "mean       6    -75          3             0\n",
       "std        2      1          1             0\n",
       "min        1   -120          1             0\n",
       "25%        5    -76          2             0\n",
       "50%        6    -76          2             0\n",
       "75%        6    -74          3             1\n",
       "max       34    -67         20             1"
      ]
     },
     "execution_count": 67,
     "metadata": {},
     "output_type": "execute_result"
    }
   ],
   "source": [
    "properties_colombia_csv.describe()"
   ]
  },
  {
   "cell_type": "code",
   "execution_count": 68,
   "metadata": {},
   "outputs": [
    {
     "data": {
      "text/plain": [
       "start_date           0\n",
       "end_date             0\n",
       "created_on           0\n",
       "lat                  0\n",
       "lon                  0\n",
       "l2                   0\n",
       "l3               11032\n",
       "bathrooms        41082\n",
       "currency            67\n",
       "property_type        0\n",
       "price_Binary         0\n",
       "dtype: int64"
      ]
     },
     "execution_count": 68,
     "metadata": {},
     "output_type": "execute_result"
    }
   ],
   "source": [
    "properties_colombia_csv.isnull().sum()"
   ]
  },
  {
   "cell_type": "markdown",
   "metadata": {},
   "source": [
    "compruebo el formato de las fechas"
   ]
  },
  {
   "cell_type": "code",
   "execution_count": 69,
   "metadata": {},
   "outputs": [],
   "source": [
    "def ver_formato_fecha(df, column):\n",
    "    df = df.copy()\n",
    "    df[column]=df[column].astype('str')\n",
    "    new2 = df[column].str.split(\"-\", n = 2, expand = True)\n",
    "    list_new_cero=list(new2[0])\n",
    "    list_new_uno=list(new2[1])\n",
    "    list_new_dos=list(new2[2])\n",
    "    \n",
    "    list_new_cero=list(set(list_new_cero))\n",
    "    list_new_uno=list(set(list_new_uno))\n",
    "    list_new_dos=list(set(list_new_dos))\n",
    "\n",
    "    print(\"columna\",column,\"años :\",list_new_cero)\n",
    "    print(\"meses\",list_new_uno)\n",
    "    print(\"cantidad de dias\",len(list_new_dos))\n",
    "    \n",
    "    return "
   ]
  },
  {
   "cell_type": "code",
   "execution_count": 70,
   "metadata": {},
   "outputs": [
    {
     "name": "stdout",
     "output_type": "stream",
     "text": [
      "columna start_date años : ['2020']\n",
      "meses ['10', '12', '09', '11', '07', '08']\n",
      "cantidad de dias 31\n"
     ]
    }
   ],
   "source": [
    "ver_formato_fecha(properties_colombia_csv, \"start_date\")"
   ]
  },
  {
   "cell_type": "code",
   "execution_count": 36,
   "metadata": {},
   "outputs": [
    {
     "name": "stdout",
     "output_type": "stream",
     "text": [
      "columna end_date años : ['9999', '2020', '2021']\n",
      "meses ['10', '12', '07', '05', '11', '03', '09', '08', '06', '01', '04', '02']\n",
      "cantidad de dias 31\n"
     ]
    }
   ],
   "source": [
    "ver_formato_fecha(properties_colombia_csv, \"end_date\")"
   ]
  },
  {
   "cell_type": "code",
   "execution_count": 37,
   "metadata": {},
   "outputs": [
    {
     "name": "stdout",
     "output_type": "stream",
     "text": [
      "columna created_on años : ['2020']\n",
      "meses ['10', '12', '07', '11', '09', '08']\n",
      "cantidad de dias 31\n"
     ]
    }
   ],
   "source": [
    "ver_formato_fecha(properties_colombia_csv, \"created_on\")"
   ]
  },
  {
   "cell_type": "code",
   "execution_count": 40,
   "metadata": {},
   "outputs": [],
   "source": [
    "#proceso las fechas para poder escalar\n",
    "def separo_fechas_en_columnas_diferente(df, column):\n",
    "    df = df.copy()\n",
    "    df[column]=df[column].astype('str')\n",
    "    new2 = df[column].str.split(\"-\", n = 2, expand = True)\n",
    "    df[column + '_year']=new2[0]\n",
    "    df[column + '_month']=new2[1]\n",
    "    df[column + '_day']=new2[2]\n",
    "    df[column + '_year']=df[column + '_year'].astype(\"int\")\n",
    "    df[column + '_month']=df[column + '_month'].astype(\"int\")\n",
    "    df[column + '_day']=df[column + '_day'].astype(\"int\")\n",
    "    df = df.drop(column, axis=1)\n",
    "    return df"
   ]
  },
  {
   "cell_type": "code",
   "execution_count": null,
   "metadata": {},
   "outputs": [],
   "source": [
    "#proceso las fechas para poder escalar"
   ]
  },
  {
   "cell_type": "code",
   "execution_count": 41,
   "metadata": {},
   "outputs": [],
   "source": [
    "new_df=separo_fechas_en_columnas_diferente(properties_colombia_csv, \"created_on\")"
   ]
  },
  {
   "cell_type": "code",
   "execution_count": 42,
   "metadata": {},
   "outputs": [],
   "source": [
    "new_df1=separo_fechas_en_columnas_diferente(new_df, \"end_date\")\n"
   ]
  },
  {
   "cell_type": "code",
   "execution_count": 43,
   "metadata": {},
   "outputs": [],
   "source": [
    "new_df2=separo_fechas_en_columnas_diferente(new_df1, \"start_date\") "
   ]
  },
  {
   "cell_type": "markdown",
   "metadata": {},
   "source": [
    "para no tener datos repetidos ya que tengo la ubicacion de la propiedad con latitud y longuitud. y para reducir la dimensionalidad del dataset borro las columnas l2 y l3"
   ]
  },
  {
   "cell_type": "code",
   "execution_count": 44,
   "metadata": {},
   "outputs": [],
   "source": [
    "new_df2=new_df2.drop(new_df2.columns[[2,3]], axis='columns')"
   ]
  },
  {
   "cell_type": "markdown",
   "metadata": {},
   "source": [
    "reemplazo los datos faltantes en la columna bathrooms con la cantidad más frecuente"
   ]
  },
  {
   "cell_type": "code",
   "execution_count": 45,
   "metadata": {},
   "outputs": [
    {
     "data": {
      "text/plain": [
       "2.0     70799\n",
       "3.0     31638\n",
       "1.0     22659\n",
       "4.0     17382\n",
       "5.0      7729\n",
       "6.0      3015\n",
       "7.0      1187\n",
       "10.0      947\n",
       "8.0       703\n",
       "9.0       333\n",
       "20.0       14\n",
       "12.0       14\n",
       "13.0       12\n",
       "11.0        8\n",
       "15.0        7\n",
       "19.0        6\n",
       "14.0        5\n",
       "18.0        5\n",
       "16.0        2\n",
       "17.0        1\n",
       "Name: bathrooms, dtype: int64"
      ]
     },
     "execution_count": 45,
     "metadata": {},
     "output_type": "execute_result"
    }
   ],
   "source": [
    "new_df2[\"bathrooms\"].value_counts()"
   ]
  },
  {
   "cell_type": "code",
   "execution_count": 46,
   "metadata": {},
   "outputs": [],
   "source": [
    "baños_moda=new_df2[\"bathrooms\"].mode()"
   ]
  },
  {
   "cell_type": "code",
   "execution_count": 60,
   "metadata": {},
   "outputs": [
    {
     "data": {
      "text/plain": [
       "2.0"
      ]
     },
     "execution_count": 60,
     "metadata": {},
     "output_type": "execute_result"
    }
   ],
   "source": [
    "(baños_moda[0])"
   ]
  },
  {
   "cell_type": "code",
   "execution_count": 47,
   "metadata": {},
   "outputs": [],
   "source": [
    "new_df2.bathrooms = new_df2[\"bathrooms\"].replace(np.nan,(baños_moda[0]))"
   ]
  },
  {
   "cell_type": "markdown",
   "metadata": {},
   "source": [
    "reemplazo los datos faltantes en la columna currency con la cantidad más frecuente"
   ]
  },
  {
   "cell_type": "code",
   "execution_count": 48,
   "metadata": {},
   "outputs": [],
   "source": [
    "currency_moda=new_df2[\"currency\"].mode()"
   ]
  },
  {
   "cell_type": "code",
   "execution_count": 63,
   "metadata": {},
   "outputs": [
    {
     "data": {
      "text/plain": [
       "'COP'"
      ]
     },
     "execution_count": 63,
     "metadata": {},
     "output_type": "execute_result"
    }
   ],
   "source": [
    "currency_moda[0]"
   ]
  },
  {
   "cell_type": "code",
   "execution_count": 49,
   "metadata": {},
   "outputs": [],
   "source": [
    "new_df2.currency = new_df2[\"currency\"].replace(np.nan,(currency_moda[0]))"
   ]
  },
  {
   "cell_type": "code",
   "execution_count": 65,
   "metadata": {},
   "outputs": [
    {
     "data": {
      "text/plain": [
       "lat                 0\n",
       "lon                 0\n",
       "bathrooms           0\n",
       "currency            0\n",
       "property_type       0\n",
       "price_Binary        0\n",
       "created_on_year     0\n",
       "created_on_month    0\n",
       "created_on_day      0\n",
       "end_date_year       0\n",
       "end_date_month      0\n",
       "end_date_day        0\n",
       "start_date_year     0\n",
       "start_date_month    0\n",
       "start_date_day      0\n",
       "dtype: int64"
      ]
     },
     "execution_count": 65,
     "metadata": {},
     "output_type": "execute_result"
    }
   ],
   "source": [
    "new_df2.isnull().sum()"
   ]
  },
  {
   "cell_type": "code",
   "execution_count": 84,
   "metadata": {},
   "outputs": [
    {
     "data": {
      "text/plain": [
       "Apartamento        100527\n",
       "Casa                60499\n",
       "Otro                16530\n",
       "Lote                16507\n",
       "Local comercial      1255\n",
       "Finca                1135\n",
       "Oficina              1085\n",
       "Parqueadero            10\n",
       "Name: property_type, dtype: int64"
      ]
     },
     "execution_count": 84,
     "metadata": {},
     "output_type": "execute_result"
    }
   ],
   "source": [
    "new_df2[\"property_type\"].value_counts()"
   ]
  },
  {
   "cell_type": "markdown",
   "metadata": {},
   "source": [
    "codifico las columnas property_type y currency"
   ]
  },
  {
   "cell_type": "code",
   "execution_count": 55,
   "metadata": {},
   "outputs": [],
   "source": [
    "new_df_3=pd.get_dummies(new_df2,columns=[\"property_type\"])"
   ]
  },
  {
   "cell_type": "code",
   "execution_count": 56,
   "metadata": {},
   "outputs": [],
   "source": [
    "new_df_4=pd.get_dummies(new_df_3,columns=[\"currency\"])"
   ]
  },
  {
   "cell_type": "code",
   "execution_count": 57,
   "metadata": {},
   "outputs": [
    {
     "data": {
      "text/html": [
       "<div>\n",
       "<style scoped>\n",
       "    .dataframe tbody tr th:only-of-type {\n",
       "        vertical-align: middle;\n",
       "    }\n",
       "\n",
       "    .dataframe tbody tr th {\n",
       "        vertical-align: top;\n",
       "    }\n",
       "\n",
       "    .dataframe thead th {\n",
       "        text-align: right;\n",
       "    }\n",
       "</style>\n",
       "<table border=\"1\" class=\"dataframe\">\n",
       "  <thead>\n",
       "    <tr style=\"text-align: right;\">\n",
       "      <th></th>\n",
       "      <th>lat</th>\n",
       "      <th>lon</th>\n",
       "      <th>bathrooms</th>\n",
       "      <th>price_Binary</th>\n",
       "      <th>created_on_year</th>\n",
       "      <th>created_on_month</th>\n",
       "      <th>created_on_day</th>\n",
       "      <th>end_date_year</th>\n",
       "      <th>end_date_month</th>\n",
       "      <th>end_date_day</th>\n",
       "      <th>...</th>\n",
       "      <th>property_type_Apartamento</th>\n",
       "      <th>property_type_Casa</th>\n",
       "      <th>property_type_Finca</th>\n",
       "      <th>property_type_Local comercial</th>\n",
       "      <th>property_type_Lote</th>\n",
       "      <th>property_type_Oficina</th>\n",
       "      <th>property_type_Otro</th>\n",
       "      <th>property_type_Parqueadero</th>\n",
       "      <th>currency_COP</th>\n",
       "      <th>currency_USD</th>\n",
       "    </tr>\n",
       "  </thead>\n",
       "  <tbody>\n",
       "    <tr>\n",
       "      <th>0</th>\n",
       "      <td>6.203000</td>\n",
       "      <td>-75.572000</td>\n",
       "      <td>4.0</td>\n",
       "      <td>1</td>\n",
       "      <td>2020</td>\n",
       "      <td>12</td>\n",
       "      <td>14</td>\n",
       "      <td>9999</td>\n",
       "      <td>12</td>\n",
       "      <td>31</td>\n",
       "      <td>...</td>\n",
       "      <td>0</td>\n",
       "      <td>1</td>\n",
       "      <td>0</td>\n",
       "      <td>0</td>\n",
       "      <td>0</td>\n",
       "      <td>0</td>\n",
       "      <td>0</td>\n",
       "      <td>0</td>\n",
       "      <td>1</td>\n",
       "      <td>0</td>\n",
       "    </tr>\n",
       "    <tr>\n",
       "      <th>1</th>\n",
       "      <td>4.722748</td>\n",
       "      <td>-74.073115</td>\n",
       "      <td>2.0</td>\n",
       "      <td>1</td>\n",
       "      <td>2020</td>\n",
       "      <td>9</td>\n",
       "      <td>16</td>\n",
       "      <td>2021</td>\n",
       "      <td>5</td>\n",
       "      <td>14</td>\n",
       "      <td>...</td>\n",
       "      <td>1</td>\n",
       "      <td>0</td>\n",
       "      <td>0</td>\n",
       "      <td>0</td>\n",
       "      <td>0</td>\n",
       "      <td>0</td>\n",
       "      <td>0</td>\n",
       "      <td>0</td>\n",
       "      <td>1</td>\n",
       "      <td>0</td>\n",
       "    </tr>\n",
       "  </tbody>\n",
       "</table>\n",
       "<p>2 rows × 23 columns</p>\n",
       "</div>"
      ],
      "text/plain": [
       "        lat        lon  bathrooms price_Binary  created_on_year  \\\n",
       "0  6.203000 -75.572000        4.0            1             2020   \n",
       "1  4.722748 -74.073115        2.0            1             2020   \n",
       "\n",
       "   created_on_month  created_on_day  end_date_year  end_date_month  \\\n",
       "0                12              14           9999              12   \n",
       "1                 9              16           2021               5   \n",
       "\n",
       "   end_date_day  ...  property_type_Apartamento  property_type_Casa  \\\n",
       "0            31  ...                          0                   1   \n",
       "1            14  ...                          1                   0   \n",
       "\n",
       "   property_type_Finca  property_type_Local comercial  property_type_Lote  \\\n",
       "0                    0                              0                   0   \n",
       "1                    0                              0                   0   \n",
       "\n",
       "   property_type_Oficina  property_type_Otro  property_type_Parqueadero  \\\n",
       "0                      0                   0                          0   \n",
       "1                      0                   0                          0   \n",
       "\n",
       "   currency_COP  currency_USD  \n",
       "0             1             0  \n",
       "1             1             0  \n",
       "\n",
       "[2 rows x 23 columns]"
      ]
     },
     "execution_count": 57,
     "metadata": {},
     "output_type": "execute_result"
    }
   ],
   "source": [
    "new_df_4.head(2)"
   ]
  },
  {
   "cell_type": "code",
   "execution_count": 58,
   "metadata": {},
   "outputs": [],
   "source": [
    "new_df_4.to_csv(\"columbia_houses_train.csv\", index=False)"
   ]
  },
  {
   "cell_type": "code",
   "execution_count": 2,
   "metadata": {},
   "outputs": [],
   "source": [
    "properties_colombia_train=pd.read_csv(r'C:\\Users\\ROXI\\OneDrive\\Escritorio\\datathon\\Datathon\\jupyter nt\\columbia_houses_train.csv')"
   ]
  },
  {
   "cell_type": "code",
   "execution_count": 54,
   "metadata": {},
   "outputs": [
    {
     "data": {
      "text/html": [
       "<div>\n",
       "<style scoped>\n",
       "    .dataframe tbody tr th:only-of-type {\n",
       "        vertical-align: middle;\n",
       "    }\n",
       "\n",
       "    .dataframe tbody tr th {\n",
       "        vertical-align: top;\n",
       "    }\n",
       "\n",
       "    .dataframe thead th {\n",
       "        text-align: right;\n",
       "    }\n",
       "</style>\n",
       "<table border=\"1\" class=\"dataframe\">\n",
       "  <thead>\n",
       "    <tr style=\"text-align: right;\">\n",
       "      <th></th>\n",
       "      <th>start_date</th>\n",
       "      <th>end_date</th>\n",
       "      <th>created_on</th>\n",
       "      <th>lat</th>\n",
       "      <th>lon</th>\n",
       "      <th>l2</th>\n",
       "      <th>l3</th>\n",
       "      <th>bathrooms</th>\n",
       "      <th>currency</th>\n",
       "      <th>property_type</th>\n",
       "      <th>price_Binary</th>\n",
       "    </tr>\n",
       "  </thead>\n",
       "  <tbody>\n",
       "    <tr>\n",
       "      <th>0</th>\n",
       "      <td>2020-12-14</td>\n",
       "      <td>9999-12-31</td>\n",
       "      <td>2020-12-14</td>\n",
       "      <td>6.203000</td>\n",
       "      <td>-75.572000</td>\n",
       "      <td>Antioquia</td>\n",
       "      <td>Medellín</td>\n",
       "      <td>4.0</td>\n",
       "      <td>COP</td>\n",
       "      <td>Casa</td>\n",
       "      <td>1</td>\n",
       "    </tr>\n",
       "    <tr>\n",
       "      <th>1</th>\n",
       "      <td>2020-09-16</td>\n",
       "      <td>2021-05-14</td>\n",
       "      <td>2020-09-16</td>\n",
       "      <td>4.722748</td>\n",
       "      <td>-74.073115</td>\n",
       "      <td>Cundinamarca</td>\n",
       "      <td>Bogotá D.C</td>\n",
       "      <td>2.0</td>\n",
       "      <td>COP</td>\n",
       "      <td>Apartamento</td>\n",
       "      <td>1</td>\n",
       "    </tr>\n",
       "    <tr>\n",
       "      <th>2</th>\n",
       "      <td>2020-08-19</td>\n",
       "      <td>2020-08-20</td>\n",
       "      <td>2020-08-19</td>\n",
       "      <td>4.709000</td>\n",
       "      <td>-74.030000</td>\n",
       "      <td>Cundinamarca</td>\n",
       "      <td>Bogotá D.C</td>\n",
       "      <td>2.0</td>\n",
       "      <td>COP</td>\n",
       "      <td>Casa</td>\n",
       "      <td>1</td>\n",
       "    </tr>\n",
       "    <tr>\n",
       "      <th>3</th>\n",
       "      <td>2020-11-23</td>\n",
       "      <td>2020-11-30</td>\n",
       "      <td>2020-11-23</td>\n",
       "      <td>6.203000</td>\n",
       "      <td>-75.572000</td>\n",
       "      <td>Santander</td>\n",
       "      <td>Bucaramanga</td>\n",
       "      <td>1.0</td>\n",
       "      <td>COP</td>\n",
       "      <td>Otro</td>\n",
       "      <td>1</td>\n",
       "    </tr>\n",
       "    <tr>\n",
       "      <th>4</th>\n",
       "      <td>2020-10-06</td>\n",
       "      <td>2020-10-07</td>\n",
       "      <td>2020-10-06</td>\n",
       "      <td>6.203000</td>\n",
       "      <td>-75.572000</td>\n",
       "      <td>Antioquia</td>\n",
       "      <td>Medellín</td>\n",
       "      <td>2.0</td>\n",
       "      <td>COP</td>\n",
       "      <td>Apartamento</td>\n",
       "      <td>0</td>\n",
       "    </tr>\n",
       "    <tr>\n",
       "      <th>...</th>\n",
       "      <td>...</td>\n",
       "      <td>...</td>\n",
       "      <td>...</td>\n",
       "      <td>...</td>\n",
       "      <td>...</td>\n",
       "      <td>...</td>\n",
       "      <td>...</td>\n",
       "      <td>...</td>\n",
       "      <td>...</td>\n",
       "      <td>...</td>\n",
       "      <td>...</td>\n",
       "    </tr>\n",
       "    <tr>\n",
       "      <th>197544</th>\n",
       "      <td>2020-10-27</td>\n",
       "      <td>9999-12-31</td>\n",
       "      <td>2020-10-27</td>\n",
       "      <td>4.649682</td>\n",
       "      <td>-74.161950</td>\n",
       "      <td>Cundinamarca</td>\n",
       "      <td>Bogotá D.C</td>\n",
       "      <td>NaN</td>\n",
       "      <td>COP</td>\n",
       "      <td>Apartamento</td>\n",
       "      <td>0</td>\n",
       "    </tr>\n",
       "    <tr>\n",
       "      <th>197545</th>\n",
       "      <td>2020-11-27</td>\n",
       "      <td>2020-12-09</td>\n",
       "      <td>2020-11-27</td>\n",
       "      <td>4.668000</td>\n",
       "      <td>-74.055000</td>\n",
       "      <td>Cundinamarca</td>\n",
       "      <td>Bogotá D.C</td>\n",
       "      <td>1.0</td>\n",
       "      <td>COP</td>\n",
       "      <td>Oficina</td>\n",
       "      <td>0</td>\n",
       "    </tr>\n",
       "    <tr>\n",
       "      <th>197546</th>\n",
       "      <td>2020-10-28</td>\n",
       "      <td>2021-01-02</td>\n",
       "      <td>2020-10-28</td>\n",
       "      <td>3.413000</td>\n",
       "      <td>-76.541000</td>\n",
       "      <td>Valle del Cauca</td>\n",
       "      <td>Cali</td>\n",
       "      <td>1.0</td>\n",
       "      <td>COP</td>\n",
       "      <td>Otro</td>\n",
       "      <td>1</td>\n",
       "    </tr>\n",
       "    <tr>\n",
       "      <th>197547</th>\n",
       "      <td>2020-08-14</td>\n",
       "      <td>2020-08-14</td>\n",
       "      <td>2020-08-14</td>\n",
       "      <td>4.674874</td>\n",
       "      <td>-74.147077</td>\n",
       "      <td>Cundinamarca</td>\n",
       "      <td>Bogotá D.C</td>\n",
       "      <td>2.0</td>\n",
       "      <td>COP</td>\n",
       "      <td>Casa</td>\n",
       "      <td>0</td>\n",
       "    </tr>\n",
       "    <tr>\n",
       "      <th>197548</th>\n",
       "      <td>2020-10-06</td>\n",
       "      <td>2020-11-27</td>\n",
       "      <td>2020-10-06</td>\n",
       "      <td>10.935994</td>\n",
       "      <td>-74.802899</td>\n",
       "      <td>Atlántico</td>\n",
       "      <td>Barranquilla</td>\n",
       "      <td>1.0</td>\n",
       "      <td>COP</td>\n",
       "      <td>Apartamento</td>\n",
       "      <td>0</td>\n",
       "    </tr>\n",
       "  </tbody>\n",
       "</table>\n",
       "<p>197548 rows × 11 columns</p>\n",
       "</div>"
      ],
      "text/plain": [
       "        start_date    end_date  created_on        lat        lon  \\\n",
       "0       2020-12-14  9999-12-31  2020-12-14   6.203000 -75.572000   \n",
       "1       2020-09-16  2021-05-14  2020-09-16   4.722748 -74.073115   \n",
       "2       2020-08-19  2020-08-20  2020-08-19   4.709000 -74.030000   \n",
       "3       2020-11-23  2020-11-30  2020-11-23   6.203000 -75.572000   \n",
       "4       2020-10-06  2020-10-07  2020-10-06   6.203000 -75.572000   \n",
       "...            ...         ...         ...        ...        ...   \n",
       "197544  2020-10-27  9999-12-31  2020-10-27   4.649682 -74.161950   \n",
       "197545  2020-11-27  2020-12-09  2020-11-27   4.668000 -74.055000   \n",
       "197546  2020-10-28  2021-01-02  2020-10-28   3.413000 -76.541000   \n",
       "197547  2020-08-14  2020-08-14  2020-08-14   4.674874 -74.147077   \n",
       "197548  2020-10-06  2020-11-27  2020-10-06  10.935994 -74.802899   \n",
       "\n",
       "                     l2            l3  bathrooms currency property_type  \\\n",
       "0             Antioquia      Medellín        4.0      COP          Casa   \n",
       "1          Cundinamarca    Bogotá D.C        2.0      COP   Apartamento   \n",
       "2          Cundinamarca    Bogotá D.C        2.0      COP          Casa   \n",
       "3             Santander   Bucaramanga        1.0      COP          Otro   \n",
       "4             Antioquia      Medellín        2.0      COP   Apartamento   \n",
       "...                 ...           ...        ...      ...           ...   \n",
       "197544     Cundinamarca    Bogotá D.C        NaN      COP   Apartamento   \n",
       "197545     Cundinamarca    Bogotá D.C        1.0      COP       Oficina   \n",
       "197546  Valle del Cauca          Cali        1.0      COP          Otro   \n",
       "197547     Cundinamarca    Bogotá D.C        2.0      COP          Casa   \n",
       "197548        Atlántico  Barranquilla        1.0      COP   Apartamento   \n",
       "\n",
       "       price_Binary  \n",
       "0                 1  \n",
       "1                 1  \n",
       "2                 1  \n",
       "3                 1  \n",
       "4                 0  \n",
       "...             ...  \n",
       "197544            0  \n",
       "197545            0  \n",
       "197546            1  \n",
       "197547            0  \n",
       "197548            0  \n",
       "\n",
       "[197548 rows x 11 columns]"
      ]
     },
     "execution_count": 54,
     "metadata": {},
     "output_type": "execute_result"
    }
   ],
   "source": [
    "properties_colombia_csv"
   ]
  },
  {
   "cell_type": "markdown",
   "metadata": {},
   "source": [
    "ver la distribucion de lat y lon para luego saber que escalado aplicar"
   ]
  },
  {
   "cell_type": "code",
   "execution_count": 39,
   "metadata": {},
   "outputs": [
    {
     "data": {
      "image/png": "[encoded data removed]",
      "text/plain": [
       "<Figure size 432x288 with 1 Axes>"
      ]
     },
     "metadata": {},
     "output_type": "display_data"
    }
   ],
   "source": [
    "ax = properties_colombia_csv.lat.plot.hist(bins=12, alpha=0.5)"
   ]
  },
  {
   "cell_type": "code",
   "execution_count": 40,
   "metadata": {},
   "outputs": [
    {
     "data": {
      "image/png": "[encoded data removed]",
      "text/plain": [
       "<Figure size 432x288 with 1 Axes>"
      ]
     },
     "metadata": {},
     "output_type": "display_data"
    }
   ],
   "source": [
    "ax = properties_colombia_csv.lon.plot.hist(bins=12, alpha=0.5)"
   ]
  },
  {
   "cell_type": "markdown",
   "metadata": {},
   "source": [
    "https://machinelearningknowledge.ai/sklearn-feature-scaling-with-standardscaler-minmaxscaler-robustscaler-and-maxabsscaler/\n",
    "\n",
    "https://www.kaggle.com/code/sudamyasodya/superstore-sales-prediction-my-copy/notebook"
   ]
  },
  {
   "cell_type": "code",
   "execution_count": 72,
   "metadata": {},
   "outputs": [],
   "source": [
    "columns_scaler=['lat', 'lon', 'bathrooms', 'created_on_year', 'created_on_month',\n",
    "'created_on_day', 'end_date_year', 'end_date_month', 'end_date_day',\n",
    "'start_date_year', 'start_date_month', 'start_date_day']"
   ]
  },
  {
   "cell_type": "code",
   "execution_count": 41,
   "metadata": {},
   "outputs": [
    {
     "data": {
      "text/plain": [
       "(197548, 23)"
      ]
     },
     "execution_count": 41,
     "metadata": {},
     "output_type": "execute_result"
    }
   ],
   "source": [
    "properties_colombia_train.shape"
   ]
  },
  {
   "cell_type": "code",
   "execution_count": 83,
   "metadata": {},
   "outputs": [],
   "source": [
    "from sklearn.preprocessing import StandardScaler\n",
    "newdf_5=properties_colombia_train[columns_scaler]\n",
    "Standar_scaled_features = StandardScaler().fit_transform(newdf_5.values)\n"
   ]
  },
  {
   "cell_type": "code",
   "execution_count": 236,
   "metadata": {},
   "outputs": [
    {
     "name": "stdout",
     "output_type": "stream",
     "text": [
      "mean [-7.84230594e-16 -1.86480241e-15 -9.54953208e-17  0.00000000e+00\n",
      "  4.61830478e-16  1.49267639e-16  3.96008844e-17 -1.28550010e-16\n",
      "  9.98834297e-17  0.00000000e+00  4.61830478e-16  1.49267639e-16]\n",
      "std [1. 1. 1. 0. 1. 1. 1. 1. 1. 0. 1. 1.]\n"
     ]
    }
   ],
   "source": [
    "print(\"mean\",Standar_scaled_features.mean(axis=0))\n",
    "print(\"std\",Standar_scaled_features.std(axis=0))\n"
   ]
  },
  {
   "cell_type": "code",
   "execution_count": 84,
   "metadata": {},
   "outputs": [],
   "source": [
    "df=pd.DataFrame(Standar_scaled_features)\n",
    "#data_ML_car.loc[data_ML_car['carwidth']]=df[\n",
    "df.columns=columns_scaler"
   ]
  },
  {
   "cell_type": "code",
   "execution_count": 127,
   "metadata": {},
   "outputs": [
    {
     "data": {
      "text/plain": [
       "<AxesSubplot:xlabel='lat', ylabel='Density'>"
      ]
     },
     "execution_count": 127,
     "metadata": {},
     "output_type": "execute_result"
    },
    {
     "data": {
      "image/png": "[encoded data removed]",
      "text/plain": [
       "<Figure size 432x288 with 1 Axes>"
      ]
     },
     "metadata": {},
     "output_type": "display_data"
    }
   ],
   "source": [
    "sns.kdeplot(new_df_4[\"lat\"])\n",
    "sns.kdeplot(new_df_4[\"lon\"])\n",
    "sns.kdeplot(new_df_4[\"bathrooms\"])\n"
   ]
  },
  {
   "cell_type": "code",
   "execution_count": 129,
   "metadata": {},
   "outputs": [
    {
     "data": {
      "text/plain": [
       "<AxesSubplot:xlabel='lat', ylabel='Density'>"
      ]
     },
     "execution_count": 129,
     "metadata": {},
     "output_type": "execute_result"
    },
    {
     "data": {
      "image/png": "[encoded data removed]",
      "text/plain": [
       "<Figure size 432x288 with 1 Axes>"
      ]
     },
     "metadata": {},
     "output_type": "display_data"
    }
   ],
   "source": [
    "sns.kdeplot(df[\"lat\"])\n",
    "sns.kdeplot(df[\"lon\"])\n",
    "sns.kdeplot(df[\"bathrooms\"])"
   ]
  },
  {
   "cell_type": "code",
   "execution_count": 130,
   "metadata": {},
   "outputs": [
    {
     "data": {
      "text/html": [
       "<div>\n",
       "<style scoped>\n",
       "    .dataframe tbody tr th:only-of-type {\n",
       "        vertical-align: middle;\n",
       "    }\n",
       "\n",
       "    .dataframe tbody tr th {\n",
       "        vertical-align: top;\n",
       "    }\n",
       "\n",
       "    .dataframe thead th {\n",
       "        text-align: right;\n",
       "    }\n",
       "</style>\n",
       "<table border=\"1\" class=\"dataframe\">\n",
       "  <thead>\n",
       "    <tr style=\"text-align: right;\">\n",
       "      <th></th>\n",
       "      <th>count</th>\n",
       "      <th>mean</th>\n",
       "      <th>std</th>\n",
       "      <th>min</th>\n",
       "      <th>25%</th>\n",
       "      <th>50%</th>\n",
       "      <th>75%</th>\n",
       "      <th>max</th>\n",
       "    </tr>\n",
       "  </thead>\n",
       "  <tbody>\n",
       "    <tr>\n",
       "      <th>lat</th>\n",
       "      <td>197548.0</td>\n",
       "      <td>-7.842306e-16</td>\n",
       "      <td>1.000003</td>\n",
       "      <td>-2.600208</td>\n",
       "      <td>-0.586412</td>\n",
       "      <td>0.190833</td>\n",
       "      <td>0.210164</td>\n",
       "      <td>14.952830</td>\n",
       "    </tr>\n",
       "    <tr>\n",
       "      <th>lon</th>\n",
       "      <td>197548.0</td>\n",
       "      <td>-1.864802e-15</td>\n",
       "      <td>1.000003</td>\n",
       "      <td>-45.271882</td>\n",
       "      <td>-0.409508</td>\n",
       "      <td>-0.404581</td>\n",
       "      <td>0.959672</td>\n",
       "      <td>7.820713</td>\n",
       "    </tr>\n",
       "    <tr>\n",
       "      <th>bathrooms</th>\n",
       "      <td>197548.0</td>\n",
       "      <td>-9.549532e-17</td>\n",
       "      <td>1.000003</td>\n",
       "      <td>-1.154211</td>\n",
       "      <td>-0.387964</td>\n",
       "      <td>-0.387964</td>\n",
       "      <td>0.378283</td>\n",
       "      <td>13.404485</td>\n",
       "    </tr>\n",
       "    <tr>\n",
       "      <th>created_on_year</th>\n",
       "      <td>197548.0</td>\n",
       "      <td>0.000000e+00</td>\n",
       "      <td>0.000000</td>\n",
       "      <td>0.000000</td>\n",
       "      <td>0.000000</td>\n",
       "      <td>0.000000</td>\n",
       "      <td>0.000000</td>\n",
       "      <td>0.000000</td>\n",
       "    </tr>\n",
       "    <tr>\n",
       "      <th>created_on_month</th>\n",
       "      <td>197548.0</td>\n",
       "      <td>4.618305e-16</td>\n",
       "      <td>1.000003</td>\n",
       "      <td>-1.799785</td>\n",
       "      <td>-1.152535</td>\n",
       "      <td>0.141964</td>\n",
       "      <td>0.789213</td>\n",
       "      <td>1.436463</td>\n",
       "    </tr>\n",
       "    <tr>\n",
       "      <th>created_on_day</th>\n",
       "      <td>197548.0</td>\n",
       "      <td>1.492676e-16</td>\n",
       "      <td>1.000003</td>\n",
       "      <td>-1.758366</td>\n",
       "      <td>-0.877810</td>\n",
       "      <td>0.112815</td>\n",
       "      <td>0.993370</td>\n",
       "      <td>1.543718</td>\n",
       "    </tr>\n",
       "    <tr>\n",
       "      <th>end_date_year</th>\n",
       "      <td>197548.0</td>\n",
       "      <td>3.960088e-17</td>\n",
       "      <td>1.000003</td>\n",
       "      <td>-0.254132</td>\n",
       "      <td>-0.254132</td>\n",
       "      <td>-0.254132</td>\n",
       "      <td>-0.253606</td>\n",
       "      <td>3.936760</td>\n",
       "    </tr>\n",
       "    <tr>\n",
       "      <th>end_date_month</th>\n",
       "      <td>197548.0</td>\n",
       "      <td>-1.285500e-16</td>\n",
       "      <td>1.000003</td>\n",
       "      <td>-2.283958</td>\n",
       "      <td>-0.207326</td>\n",
       "      <td>0.385998</td>\n",
       "      <td>0.682659</td>\n",
       "      <td>0.979321</td>\n",
       "    </tr>\n",
       "    <tr>\n",
       "      <th>end_date_day</th>\n",
       "      <td>197548.0</td>\n",
       "      <td>9.988343e-17</td>\n",
       "      <td>1.000003</td>\n",
       "      <td>-1.711473</td>\n",
       "      <td>-0.861770</td>\n",
       "      <td>0.094147</td>\n",
       "      <td>0.943850</td>\n",
       "      <td>1.474915</td>\n",
       "    </tr>\n",
       "    <tr>\n",
       "      <th>start_date_year</th>\n",
       "      <td>197548.0</td>\n",
       "      <td>0.000000e+00</td>\n",
       "      <td>0.000000</td>\n",
       "      <td>0.000000</td>\n",
       "      <td>0.000000</td>\n",
       "      <td>0.000000</td>\n",
       "      <td>0.000000</td>\n",
       "      <td>0.000000</td>\n",
       "    </tr>\n",
       "    <tr>\n",
       "      <th>start_date_month</th>\n",
       "      <td>197548.0</td>\n",
       "      <td>4.618305e-16</td>\n",
       "      <td>1.000003</td>\n",
       "      <td>-1.799785</td>\n",
       "      <td>-1.152535</td>\n",
       "      <td>0.141964</td>\n",
       "      <td>0.789213</td>\n",
       "      <td>1.436463</td>\n",
       "    </tr>\n",
       "    <tr>\n",
       "      <th>start_date_day</th>\n",
       "      <td>197548.0</td>\n",
       "      <td>1.492676e-16</td>\n",
       "      <td>1.000003</td>\n",
       "      <td>-1.758366</td>\n",
       "      <td>-0.877810</td>\n",
       "      <td>0.112815</td>\n",
       "      <td>0.993370</td>\n",
       "      <td>1.543718</td>\n",
       "    </tr>\n",
       "  </tbody>\n",
       "</table>\n",
       "</div>"
      ],
      "text/plain": [
       "                     count          mean       std        min       25%  \\\n",
       "lat               197548.0 -7.842306e-16  1.000003  -2.600208 -0.586412   \n",
       "lon               197548.0 -1.864802e-15  1.000003 -45.271882 -0.409508   \n",
       "bathrooms         197548.0 -9.549532e-17  1.000003  -1.154211 -0.387964   \n",
       "created_on_year   197548.0  0.000000e+00  0.000000   0.000000  0.000000   \n",
       "created_on_month  197548.0  4.618305e-16  1.000003  -1.799785 -1.152535   \n",
       "created_on_day    197548.0  1.492676e-16  1.000003  -1.758366 -0.877810   \n",
       "end_date_year     197548.0  3.960088e-17  1.000003  -0.254132 -0.254132   \n",
       "end_date_month    197548.0 -1.285500e-16  1.000003  -2.283958 -0.207326   \n",
       "end_date_day      197548.0  9.988343e-17  1.000003  -1.711473 -0.861770   \n",
       "start_date_year   197548.0  0.000000e+00  0.000000   0.000000  0.000000   \n",
       "start_date_month  197548.0  4.618305e-16  1.000003  -1.799785 -1.152535   \n",
       "start_date_day    197548.0  1.492676e-16  1.000003  -1.758366 -0.877810   \n",
       "\n",
       "                       50%       75%        max  \n",
       "lat               0.190833  0.210164  14.952830  \n",
       "lon              -0.404581  0.959672   7.820713  \n",
       "bathrooms        -0.387964  0.378283  13.404485  \n",
       "created_on_year   0.000000  0.000000   0.000000  \n",
       "created_on_month  0.141964  0.789213   1.436463  \n",
       "created_on_day    0.112815  0.993370   1.543718  \n",
       "end_date_year    -0.254132 -0.253606   3.936760  \n",
       "end_date_month    0.385998  0.682659   0.979321  \n",
       "end_date_day      0.094147  0.943850   1.474915  \n",
       "start_date_year   0.000000  0.000000   0.000000  \n",
       "start_date_month  0.141964  0.789213   1.436463  \n",
       "start_date_day    0.112815  0.993370   1.543718  "
      ]
     },
     "execution_count": 130,
     "metadata": {},
     "output_type": "execute_result"
    }
   ],
   "source": [
    "df.describe().T"
   ]
  },
  {
   "cell_type": "code",
   "execution_count": 23,
   "metadata": {},
   "outputs": [
    {
     "data": {
      "text/plain": [
       "(197548, 12)"
      ]
     },
     "execution_count": 23,
     "metadata": {},
     "output_type": "execute_result"
    }
   ],
   "source": [
    "df.shape"
   ]
  },
  {
   "cell_type": "code",
   "execution_count": 85,
   "metadata": {},
   "outputs": [],
   "source": [
    "columnas_faltantes=['property_type_Apartamento', 'property_type_Casa','property_type_Finca', 'property_type_Local comercial','property_type_Lote', 'property_type_Oficina', 'property_type_Otro','property_type_Parqueadero', 'currency_COP', 'currency_USD',\"price_Binary\"]"
   ]
  },
  {
   "cell_type": "code",
   "execution_count": 86,
   "metadata": {},
   "outputs": [],
   "source": [
    "df_new6=properties_colombia_train[columnas_faltantes].copy()"
   ]
  },
  {
   "cell_type": "code",
   "execution_count": 87,
   "metadata": {},
   "outputs": [],
   "source": [
    "df[columnas_faltantes]=df_new6[columnas_faltantes].copy()"
   ]
  },
  {
   "cell_type": "code",
   "execution_count": 88,
   "metadata": {},
   "outputs": [
    {
     "data": {
      "text/html": [
       "<div>\n",
       "<style scoped>\n",
       "    .dataframe tbody tr th:only-of-type {\n",
       "        vertical-align: middle;\n",
       "    }\n",
       "\n",
       "    .dataframe tbody tr th {\n",
       "        vertical-align: top;\n",
       "    }\n",
       "\n",
       "    .dataframe thead th {\n",
       "        text-align: right;\n",
       "    }\n",
       "</style>\n",
       "<table border=\"1\" class=\"dataframe\">\n",
       "  <thead>\n",
       "    <tr style=\"text-align: right;\">\n",
       "      <th></th>\n",
       "      <th>lat</th>\n",
       "      <th>lon</th>\n",
       "      <th>bathrooms</th>\n",
       "      <th>created_on_year</th>\n",
       "      <th>created_on_month</th>\n",
       "      <th>created_on_day</th>\n",
       "      <th>end_date_year</th>\n",
       "      <th>end_date_month</th>\n",
       "      <th>end_date_day</th>\n",
       "      <th>start_date_year</th>\n",
       "      <th>...</th>\n",
       "      <th>property_type_Casa</th>\n",
       "      <th>property_type_Finca</th>\n",
       "      <th>property_type_Local comercial</th>\n",
       "      <th>property_type_Lote</th>\n",
       "      <th>property_type_Oficina</th>\n",
       "      <th>property_type_Otro</th>\n",
       "      <th>property_type_Parqueadero</th>\n",
       "      <th>currency_COP</th>\n",
       "      <th>currency_USD</th>\n",
       "      <th>price_Binary</th>\n",
       "    </tr>\n",
       "  </thead>\n",
       "  <tbody>\n",
       "    <tr>\n",
       "      <th>0</th>\n",
       "      <td>0.210164</td>\n",
       "      <td>-0.404581</td>\n",
       "      <td>1.144530</td>\n",
       "      <td>0.0</td>\n",
       "      <td>1.436463</td>\n",
       "      <td>-0.327463</td>\n",
       "      <td>3.936760</td>\n",
       "      <td>0.979321</td>\n",
       "      <td>1.474915</td>\n",
       "      <td>0.0</td>\n",
       "      <td>...</td>\n",
       "      <td>1</td>\n",
       "      <td>0</td>\n",
       "      <td>0</td>\n",
       "      <td>0</td>\n",
       "      <td>0</td>\n",
       "      <td>0</td>\n",
       "      <td>0</td>\n",
       "      <td>1</td>\n",
       "      <td>0</td>\n",
       "      <td>1</td>\n",
       "    </tr>\n",
       "    <tr>\n",
       "      <th>1</th>\n",
       "      <td>-0.563220</td>\n",
       "      <td>1.119478</td>\n",
       "      <td>-0.387964</td>\n",
       "      <td>0.0</td>\n",
       "      <td>-0.505286</td>\n",
       "      <td>-0.107324</td>\n",
       "      <td>-0.253606</td>\n",
       "      <td>-1.097311</td>\n",
       "      <td>-0.330705</td>\n",
       "      <td>0.0</td>\n",
       "      <td>...</td>\n",
       "      <td>0</td>\n",
       "      <td>0</td>\n",
       "      <td>0</td>\n",
       "      <td>0</td>\n",
       "      <td>0</td>\n",
       "      <td>0</td>\n",
       "      <td>0</td>\n",
       "      <td>1</td>\n",
       "      <td>0</td>\n",
       "      <td>1</td>\n",
       "    </tr>\n",
       "    <tr>\n",
       "      <th>2</th>\n",
       "      <td>-0.570403</td>\n",
       "      <td>1.163317</td>\n",
       "      <td>-0.387964</td>\n",
       "      <td>0.0</td>\n",
       "      <td>-1.152535</td>\n",
       "      <td>0.222884</td>\n",
       "      <td>-0.254132</td>\n",
       "      <td>-0.207326</td>\n",
       "      <td>0.306573</td>\n",
       "      <td>0.0</td>\n",
       "      <td>...</td>\n",
       "      <td>1</td>\n",
       "      <td>0</td>\n",
       "      <td>0</td>\n",
       "      <td>0</td>\n",
       "      <td>0</td>\n",
       "      <td>0</td>\n",
       "      <td>0</td>\n",
       "      <td>1</td>\n",
       "      <td>0</td>\n",
       "      <td>1</td>\n",
       "    </tr>\n",
       "    <tr>\n",
       "      <th>3</th>\n",
       "      <td>0.210164</td>\n",
       "      <td>-0.404581</td>\n",
       "      <td>-1.154211</td>\n",
       "      <td>0.0</td>\n",
       "      <td>0.789213</td>\n",
       "      <td>0.663162</td>\n",
       "      <td>-0.254132</td>\n",
       "      <td>0.682659</td>\n",
       "      <td>1.368702</td>\n",
       "      <td>0.0</td>\n",
       "      <td>...</td>\n",
       "      <td>0</td>\n",
       "      <td>0</td>\n",
       "      <td>0</td>\n",
       "      <td>0</td>\n",
       "      <td>0</td>\n",
       "      <td>1</td>\n",
       "      <td>0</td>\n",
       "      <td>1</td>\n",
       "      <td>0</td>\n",
       "      <td>1</td>\n",
       "    </tr>\n",
       "    <tr>\n",
       "      <th>4</th>\n",
       "      <td>0.210164</td>\n",
       "      <td>-0.404581</td>\n",
       "      <td>-0.387964</td>\n",
       "      <td>0.0</td>\n",
       "      <td>0.141964</td>\n",
       "      <td>-1.208019</td>\n",
       "      <td>-0.254132</td>\n",
       "      <td>0.385998</td>\n",
       "      <td>-1.074195</td>\n",
       "      <td>0.0</td>\n",
       "      <td>...</td>\n",
       "      <td>0</td>\n",
       "      <td>0</td>\n",
       "      <td>0</td>\n",
       "      <td>0</td>\n",
       "      <td>0</td>\n",
       "      <td>0</td>\n",
       "      <td>0</td>\n",
       "      <td>1</td>\n",
       "      <td>0</td>\n",
       "      <td>0</td>\n",
       "    </tr>\n",
       "    <tr>\n",
       "      <th>...</th>\n",
       "      <td>...</td>\n",
       "      <td>...</td>\n",
       "      <td>...</td>\n",
       "      <td>...</td>\n",
       "      <td>...</td>\n",
       "      <td>...</td>\n",
       "      <td>...</td>\n",
       "      <td>...</td>\n",
       "      <td>...</td>\n",
       "      <td>...</td>\n",
       "      <td>...</td>\n",
       "      <td>...</td>\n",
       "      <td>...</td>\n",
       "      <td>...</td>\n",
       "      <td>...</td>\n",
       "      <td>...</td>\n",
       "      <td>...</td>\n",
       "      <td>...</td>\n",
       "      <td>...</td>\n",
       "      <td>...</td>\n",
       "      <td>...</td>\n",
       "    </tr>\n",
       "    <tr>\n",
       "      <th>197543</th>\n",
       "      <td>-0.601395</td>\n",
       "      <td>1.029150</td>\n",
       "      <td>-0.387964</td>\n",
       "      <td>0.0</td>\n",
       "      <td>0.141964</td>\n",
       "      <td>1.103440</td>\n",
       "      <td>3.936760</td>\n",
       "      <td>0.979321</td>\n",
       "      <td>1.474915</td>\n",
       "      <td>0.0</td>\n",
       "      <td>...</td>\n",
       "      <td>0</td>\n",
       "      <td>0</td>\n",
       "      <td>0</td>\n",
       "      <td>0</td>\n",
       "      <td>0</td>\n",
       "      <td>0</td>\n",
       "      <td>0</td>\n",
       "      <td>1</td>\n",
       "      <td>0</td>\n",
       "      <td>0</td>\n",
       "    </tr>\n",
       "    <tr>\n",
       "      <th>197544</th>\n",
       "      <td>-0.591825</td>\n",
       "      <td>1.137897</td>\n",
       "      <td>-1.154211</td>\n",
       "      <td>0.0</td>\n",
       "      <td>0.789213</td>\n",
       "      <td>1.103440</td>\n",
       "      <td>-0.254132</td>\n",
       "      <td>0.979321</td>\n",
       "      <td>-0.861770</td>\n",
       "      <td>0.0</td>\n",
       "      <td>...</td>\n",
       "      <td>0</td>\n",
       "      <td>0</td>\n",
       "      <td>0</td>\n",
       "      <td>0</td>\n",
       "      <td>1</td>\n",
       "      <td>0</td>\n",
       "      <td>0</td>\n",
       "      <td>1</td>\n",
       "      <td>0</td>\n",
       "      <td>0</td>\n",
       "    </tr>\n",
       "    <tr>\n",
       "      <th>197545</th>\n",
       "      <td>-1.247522</td>\n",
       "      <td>-1.389856</td>\n",
       "      <td>-1.154211</td>\n",
       "      <td>0.0</td>\n",
       "      <td>0.141964</td>\n",
       "      <td>1.213509</td>\n",
       "      <td>-0.253606</td>\n",
       "      <td>-2.283958</td>\n",
       "      <td>-1.605260</td>\n",
       "      <td>0.0</td>\n",
       "      <td>...</td>\n",
       "      <td>0</td>\n",
       "      <td>0</td>\n",
       "      <td>0</td>\n",
       "      <td>0</td>\n",
       "      <td>0</td>\n",
       "      <td>1</td>\n",
       "      <td>0</td>\n",
       "      <td>1</td>\n",
       "      <td>0</td>\n",
       "      <td>1</td>\n",
       "    </tr>\n",
       "    <tr>\n",
       "      <th>197546</th>\n",
       "      <td>-0.588233</td>\n",
       "      <td>1.044274</td>\n",
       "      <td>-0.387964</td>\n",
       "      <td>0.0</td>\n",
       "      <td>-1.152535</td>\n",
       "      <td>-0.327463</td>\n",
       "      <td>-0.254132</td>\n",
       "      <td>-0.207326</td>\n",
       "      <td>-0.330705</td>\n",
       "      <td>0.0</td>\n",
       "      <td>...</td>\n",
       "      <td>1</td>\n",
       "      <td>0</td>\n",
       "      <td>0</td>\n",
       "      <td>0</td>\n",
       "      <td>0</td>\n",
       "      <td>0</td>\n",
       "      <td>0</td>\n",
       "      <td>1</td>\n",
       "      <td>0</td>\n",
       "      <td>0</td>\n",
       "    </tr>\n",
       "    <tr>\n",
       "      <th>197547</th>\n",
       "      <td>2.683004</td>\n",
       "      <td>0.377437</td>\n",
       "      <td>-1.154211</td>\n",
       "      <td>0.0</td>\n",
       "      <td>0.141964</td>\n",
       "      <td>-1.208019</td>\n",
       "      <td>-0.254132</td>\n",
       "      <td>0.682659</td>\n",
       "      <td>1.050063</td>\n",
       "      <td>0.0</td>\n",
       "      <td>...</td>\n",
       "      <td>0</td>\n",
       "      <td>0</td>\n",
       "      <td>0</td>\n",
       "      <td>0</td>\n",
       "      <td>0</td>\n",
       "      <td>0</td>\n",
       "      <td>0</td>\n",
       "      <td>1</td>\n",
       "      <td>0</td>\n",
       "      <td>0</td>\n",
       "    </tr>\n",
       "  </tbody>\n",
       "</table>\n",
       "<p>197548 rows × 23 columns</p>\n",
       "</div>"
      ],
      "text/plain": [
       "             lat       lon  bathrooms  created_on_year  created_on_month  \\\n",
       "0       0.210164 -0.404581   1.144530              0.0          1.436463   \n",
       "1      -0.563220  1.119478  -0.387964              0.0         -0.505286   \n",
       "2      -0.570403  1.163317  -0.387964              0.0         -1.152535   \n",
       "3       0.210164 -0.404581  -1.154211              0.0          0.789213   \n",
       "4       0.210164 -0.404581  -0.387964              0.0          0.141964   \n",
       "...          ...       ...        ...              ...               ...   \n",
       "197543 -0.601395  1.029150  -0.387964              0.0          0.141964   \n",
       "197544 -0.591825  1.137897  -1.154211              0.0          0.789213   \n",
       "197545 -1.247522 -1.389856  -1.154211              0.0          0.141964   \n",
       "197546 -0.588233  1.044274  -0.387964              0.0         -1.152535   \n",
       "197547  2.683004  0.377437  -1.154211              0.0          0.141964   \n",
       "\n",
       "        created_on_day  end_date_year  end_date_month  end_date_day  \\\n",
       "0            -0.327463       3.936760        0.979321      1.474915   \n",
       "1            -0.107324      -0.253606       -1.097311     -0.330705   \n",
       "2             0.222884      -0.254132       -0.207326      0.306573   \n",
       "3             0.663162      -0.254132        0.682659      1.368702   \n",
       "4            -1.208019      -0.254132        0.385998     -1.074195   \n",
       "...                ...            ...             ...           ...   \n",
       "197543        1.103440       3.936760        0.979321      1.474915   \n",
       "197544        1.103440      -0.254132        0.979321     -0.861770   \n",
       "197545        1.213509      -0.253606       -2.283958     -1.605260   \n",
       "197546       -0.327463      -0.254132       -0.207326     -0.330705   \n",
       "197547       -1.208019      -0.254132        0.682659      1.050063   \n",
       "\n",
       "        start_date_year  ...  property_type_Casa  property_type_Finca  \\\n",
       "0                   0.0  ...                   1                    0   \n",
       "1                   0.0  ...                   0                    0   \n",
       "2                   0.0  ...                   1                    0   \n",
       "3                   0.0  ...                   0                    0   \n",
       "4                   0.0  ...                   0                    0   \n",
       "...                 ...  ...                 ...                  ...   \n",
       "197543              0.0  ...                   0                    0   \n",
       "197544              0.0  ...                   0                    0   \n",
       "197545              0.0  ...                   0                    0   \n",
       "197546              0.0  ...                   1                    0   \n",
       "197547              0.0  ...                   0                    0   \n",
       "\n",
       "        property_type_Local comercial  property_type_Lote  \\\n",
       "0                                   0                   0   \n",
       "1                                   0                   0   \n",
       "2                                   0                   0   \n",
       "3                                   0                   0   \n",
       "4                                   0                   0   \n",
       "...                               ...                 ...   \n",
       "197543                              0                   0   \n",
       "197544                              0                   0   \n",
       "197545                              0                   0   \n",
       "197546                              0                   0   \n",
       "197547                              0                   0   \n",
       "\n",
       "        property_type_Oficina  property_type_Otro  property_type_Parqueadero  \\\n",
       "0                           0                   0                          0   \n",
       "1                           0                   0                          0   \n",
       "2                           0                   0                          0   \n",
       "3                           0                   1                          0   \n",
       "4                           0                   0                          0   \n",
       "...                       ...                 ...                        ...   \n",
       "197543                      0                   0                          0   \n",
       "197544                      1                   0                          0   \n",
       "197545                      0                   1                          0   \n",
       "197546                      0                   0                          0   \n",
       "197547                      0                   0                          0   \n",
       "\n",
       "        currency_COP  currency_USD  price_Binary  \n",
       "0                  1             0             1  \n",
       "1                  1             0             1  \n",
       "2                  1             0             1  \n",
       "3                  1             0             1  \n",
       "4                  1             0             0  \n",
       "...              ...           ...           ...  \n",
       "197543             1             0             0  \n",
       "197544             1             0             0  \n",
       "197545             1             0             1  \n",
       "197546             1             0             0  \n",
       "197547             1             0             0  \n",
       "\n",
       "[197548 rows x 23 columns]"
      ]
     },
     "execution_count": 88,
     "metadata": {},
     "output_type": "execute_result"
    }
   ],
   "source": [
    "#remplazo las columnas con el escalado porque al tener diferentes \n",
    "# medidas se debe cambiar la escala de las columnas numericas\n",
    "df"
   ]
  },
  {
   "cell_type": "markdown",
   "metadata": {},
   "source": [
    "aca lo guardo en formato csv a el archivo procesado"
   ]
  },
  {
   "cell_type": "code",
   "execution_count": 89,
   "metadata": {},
   "outputs": [],
   "source": [
    "df.to_csv(\"columbia_houses_train.csv\", index=False)"
   ]
  },
  {
   "cell_type": "code",
   "execution_count": 3,
   "metadata": {},
   "outputs": [],
   "source": [
    "properties_colombia_train=pd.read_csv(r'C:\\Users\\ROXI\\OneDrive\\Escritorio\\datathon\\Datathon\\pi-02-dt\\columbia_houses_train.csv')"
   ]
  },
  {
   "cell_type": "code",
   "execution_count": 91,
   "metadata": {},
   "outputs": [
    {
     "data": {
      "text/plain": [
       "lat                              0\n",
       "lon                              0\n",
       "bathrooms                        0\n",
       "created_on_year                  0\n",
       "created_on_month                 0\n",
       "created_on_day                   0\n",
       "end_date_year                    0\n",
       "end_date_month                   0\n",
       "end_date_day                     0\n",
       "start_date_year                  0\n",
       "start_date_month                 0\n",
       "start_date_day                   0\n",
       "property_type_Apartamento        0\n",
       "property_type_Casa               0\n",
       "property_type_Finca              0\n",
       "property_type_Local comercial    0\n",
       "property_type_Lote               0\n",
       "property_type_Oficina            0\n",
       "property_type_Otro               0\n",
       "property_type_Parqueadero        0\n",
       "currency_COP                     0\n",
       "currency_USD                     0\n",
       "price_Binary                     0\n",
       "dtype: int64"
      ]
     },
     "execution_count": 91,
     "metadata": {},
     "output_type": "execute_result"
    }
   ],
   "source": [
    "properties_colombia_train.isnull().sum()"
   ]
  },
  {
   "cell_type": "code",
   "execution_count": 4,
   "metadata": {},
   "outputs": [],
   "source": [
    "properties_colombia_test=pd.read_csv(r'C:\\Users\\ROXI\\OneDrive\\Escritorio\\datathon\\Datathon\\pi-02-dt\\columbia_houses_test.csv')"
   ]
  },
  {
   "cell_type": "code",
   "execution_count": 5,
   "metadata": {},
   "outputs": [
    {
     "data": {
      "text/plain": [
       "lat                              0\n",
       "lon                              0\n",
       "bathrooms                        0\n",
       "created_on_year                  0\n",
       "created_on_month                 0\n",
       "created_on_day                   0\n",
       "end_date_year                    0\n",
       "end_date_month                   0\n",
       "end_date_day                     0\n",
       "start_date_year                  0\n",
       "start_date_month                 0\n",
       "start_date_day                   0\n",
       "property_type_Apartamento        0\n",
       "property_type_Casa               0\n",
       "property_type_Finca              0\n",
       "property_type_Local comercial    0\n",
       "property_type_Lote               0\n",
       "property_type_Oficina            0\n",
       "property_type_Otro               0\n",
       "property_type_Parqueadero        0\n",
       "currency_COP                     0\n",
       "currency_USD                     0\n",
       "dtype: int64"
      ]
     },
     "execution_count": 5,
     "metadata": {},
     "output_type": "execute_result"
    }
   ],
   "source": [
    "properties_colombia_test.isnull().sum()"
   ]
  },
  {
   "cell_type": "code",
   "execution_count": 46,
   "metadata": {},
   "outputs": [
    {
     "data": {
      "text/html": [
       "<div>\n",
       "<style scoped>\n",
       "    .dataframe tbody tr th:only-of-type {\n",
       "        vertical-align: middle;\n",
       "    }\n",
       "\n",
       "    .dataframe tbody tr th {\n",
       "        vertical-align: top;\n",
       "    }\n",
       "\n",
       "    .dataframe thead th {\n",
       "        text-align: right;\n",
       "    }\n",
       "</style>\n",
       "<table border=\"1\" class=\"dataframe\">\n",
       "  <thead>\n",
       "    <tr style=\"text-align: right;\">\n",
       "      <th></th>\n",
       "      <th>lat</th>\n",
       "      <th>lon</th>\n",
       "      <th>bathrooms</th>\n",
       "      <th>created_on_year</th>\n",
       "      <th>created_on_month</th>\n",
       "      <th>created_on_day</th>\n",
       "      <th>end_date_year</th>\n",
       "      <th>end_date_month</th>\n",
       "      <th>end_date_day</th>\n",
       "      <th>start_date_year</th>\n",
       "      <th>...</th>\n",
       "      <th>property_type_Apartamento</th>\n",
       "      <th>property_type_Casa</th>\n",
       "      <th>property_type_Finca</th>\n",
       "      <th>property_type_Local comercial</th>\n",
       "      <th>property_type_Lote</th>\n",
       "      <th>property_type_Oficina</th>\n",
       "      <th>property_type_Otro</th>\n",
       "      <th>property_type_Parqueadero</th>\n",
       "      <th>currency_COP</th>\n",
       "      <th>currency_USD</th>\n",
       "    </tr>\n",
       "  </thead>\n",
       "  <tbody>\n",
       "    <tr>\n",
       "      <th>0</th>\n",
       "      <td>0.210164</td>\n",
       "      <td>-0.404581</td>\n",
       "      <td>1.144530</td>\n",
       "      <td>0.0</td>\n",
       "      <td>1.436463</td>\n",
       "      <td>-0.327463</td>\n",
       "      <td>3.936760</td>\n",
       "      <td>0.979321</td>\n",
       "      <td>1.474915</td>\n",
       "      <td>0.0</td>\n",
       "      <td>...</td>\n",
       "      <td>0</td>\n",
       "      <td>1</td>\n",
       "      <td>0</td>\n",
       "      <td>0</td>\n",
       "      <td>0</td>\n",
       "      <td>0</td>\n",
       "      <td>0</td>\n",
       "      <td>0</td>\n",
       "      <td>1</td>\n",
       "      <td>0</td>\n",
       "    </tr>\n",
       "    <tr>\n",
       "      <th>1</th>\n",
       "      <td>-0.563220</td>\n",
       "      <td>1.119478</td>\n",
       "      <td>-0.387964</td>\n",
       "      <td>0.0</td>\n",
       "      <td>-0.505286</td>\n",
       "      <td>-0.107324</td>\n",
       "      <td>-0.253606</td>\n",
       "      <td>-1.097311</td>\n",
       "      <td>-0.330705</td>\n",
       "      <td>0.0</td>\n",
       "      <td>...</td>\n",
       "      <td>1</td>\n",
       "      <td>0</td>\n",
       "      <td>0</td>\n",
       "      <td>0</td>\n",
       "      <td>0</td>\n",
       "      <td>0</td>\n",
       "      <td>0</td>\n",
       "      <td>0</td>\n",
       "      <td>1</td>\n",
       "      <td>0</td>\n",
       "    </tr>\n",
       "    <tr>\n",
       "      <th>2</th>\n",
       "      <td>-0.570403</td>\n",
       "      <td>1.163317</td>\n",
       "      <td>-0.387964</td>\n",
       "      <td>0.0</td>\n",
       "      <td>-1.152535</td>\n",
       "      <td>0.222884</td>\n",
       "      <td>-0.254132</td>\n",
       "      <td>-0.207326</td>\n",
       "      <td>0.306573</td>\n",
       "      <td>0.0</td>\n",
       "      <td>...</td>\n",
       "      <td>0</td>\n",
       "      <td>1</td>\n",
       "      <td>0</td>\n",
       "      <td>0</td>\n",
       "      <td>0</td>\n",
       "      <td>0</td>\n",
       "      <td>0</td>\n",
       "      <td>0</td>\n",
       "      <td>1</td>\n",
       "      <td>0</td>\n",
       "    </tr>\n",
       "    <tr>\n",
       "      <th>3</th>\n",
       "      <td>0.210164</td>\n",
       "      <td>-0.404581</td>\n",
       "      <td>-1.154211</td>\n",
       "      <td>0.0</td>\n",
       "      <td>0.789213</td>\n",
       "      <td>0.663162</td>\n",
       "      <td>-0.254132</td>\n",
       "      <td>0.682659</td>\n",
       "      <td>1.368702</td>\n",
       "      <td>0.0</td>\n",
       "      <td>...</td>\n",
       "      <td>0</td>\n",
       "      <td>0</td>\n",
       "      <td>0</td>\n",
       "      <td>0</td>\n",
       "      <td>0</td>\n",
       "      <td>0</td>\n",
       "      <td>1</td>\n",
       "      <td>0</td>\n",
       "      <td>1</td>\n",
       "      <td>0</td>\n",
       "    </tr>\n",
       "    <tr>\n",
       "      <th>4</th>\n",
       "      <td>0.210164</td>\n",
       "      <td>-0.404581</td>\n",
       "      <td>-0.387964</td>\n",
       "      <td>0.0</td>\n",
       "      <td>0.141964</td>\n",
       "      <td>-1.208019</td>\n",
       "      <td>-0.254132</td>\n",
       "      <td>0.385998</td>\n",
       "      <td>-1.074195</td>\n",
       "      <td>0.0</td>\n",
       "      <td>...</td>\n",
       "      <td>1</td>\n",
       "      <td>0</td>\n",
       "      <td>0</td>\n",
       "      <td>0</td>\n",
       "      <td>0</td>\n",
       "      <td>0</td>\n",
       "      <td>0</td>\n",
       "      <td>0</td>\n",
       "      <td>1</td>\n",
       "      <td>0</td>\n",
       "    </tr>\n",
       "  </tbody>\n",
       "</table>\n",
       "<p>5 rows × 22 columns</p>\n",
       "</div>"
      ],
      "text/plain": [
       "        lat       lon  bathrooms  created_on_year  created_on_month  \\\n",
       "0  0.210164 -0.404581   1.144530              0.0          1.436463   \n",
       "1 -0.563220  1.119478  -0.387964              0.0         -0.505286   \n",
       "2 -0.570403  1.163317  -0.387964              0.0         -1.152535   \n",
       "3  0.210164 -0.404581  -1.154211              0.0          0.789213   \n",
       "4  0.210164 -0.404581  -0.387964              0.0          0.141964   \n",
       "\n",
       "   created_on_day  end_date_year  end_date_month  end_date_day  \\\n",
       "0       -0.327463       3.936760        0.979321      1.474915   \n",
       "1       -0.107324      -0.253606       -1.097311     -0.330705   \n",
       "2        0.222884      -0.254132       -0.207326      0.306573   \n",
       "3        0.663162      -0.254132        0.682659      1.368702   \n",
       "4       -1.208019      -0.254132        0.385998     -1.074195   \n",
       "\n",
       "   start_date_year  ...  property_type_Apartamento  property_type_Casa  \\\n",
       "0              0.0  ...                          0                   1   \n",
       "1              0.0  ...                          1                   0   \n",
       "2              0.0  ...                          0                   1   \n",
       "3              0.0  ...                          0                   0   \n",
       "4              0.0  ...                          1                   0   \n",
       "\n",
       "   property_type_Finca  property_type_Local comercial  property_type_Lote  \\\n",
       "0                    0                              0                   0   \n",
       "1                    0                              0                   0   \n",
       "2                    0                              0                   0   \n",
       "3                    0                              0                   0   \n",
       "4                    0                              0                   0   \n",
       "\n",
       "   property_type_Oficina  property_type_Otro  property_type_Parqueadero  \\\n",
       "0                      0                   0                          0   \n",
       "1                      0                   0                          0   \n",
       "2                      0                   0                          0   \n",
       "3                      0                   1                          0   \n",
       "4                      0                   0                          0   \n",
       "\n",
       "   currency_COP  currency_USD  \n",
       "0             1             0  \n",
       "1             1             0  \n",
       "2             1             0  \n",
       "3             1             0  \n",
       "4             1             0  \n",
       "\n",
       "[5 rows x 22 columns]"
      ]
     },
     "execution_count": 46,
     "metadata": {},
     "output_type": "execute_result"
    }
   ],
   "source": [
    "properties_colombia_test.head(5)"
   ]
  },
  {
   "cell_type": "code",
   "execution_count": 47,
   "metadata": {},
   "outputs": [
    {
     "data": {
      "text/html": [
       "<div>\n",
       "<style scoped>\n",
       "    .dataframe tbody tr th:only-of-type {\n",
       "        vertical-align: middle;\n",
       "    }\n",
       "\n",
       "    .dataframe tbody tr th {\n",
       "        vertical-align: top;\n",
       "    }\n",
       "\n",
       "    .dataframe thead th {\n",
       "        text-align: right;\n",
       "    }\n",
       "</style>\n",
       "<table border=\"1\" class=\"dataframe\">\n",
       "  <thead>\n",
       "    <tr style=\"text-align: right;\">\n",
       "      <th></th>\n",
       "      <th>lat</th>\n",
       "      <th>lon</th>\n",
       "      <th>bathrooms</th>\n",
       "      <th>created_on_year</th>\n",
       "      <th>created_on_month</th>\n",
       "      <th>created_on_day</th>\n",
       "      <th>end_date_year</th>\n",
       "      <th>end_date_month</th>\n",
       "      <th>end_date_day</th>\n",
       "      <th>start_date_year</th>\n",
       "      <th>...</th>\n",
       "      <th>property_type_Apartamento</th>\n",
       "      <th>property_type_Casa</th>\n",
       "      <th>property_type_Finca</th>\n",
       "      <th>property_type_Local comercial</th>\n",
       "      <th>property_type_Lote</th>\n",
       "      <th>property_type_Oficina</th>\n",
       "      <th>property_type_Otro</th>\n",
       "      <th>property_type_Parqueadero</th>\n",
       "      <th>currency_COP</th>\n",
       "      <th>currency_USD</th>\n",
       "    </tr>\n",
       "  </thead>\n",
       "  <tbody>\n",
       "    <tr>\n",
       "      <th>0</th>\n",
       "      <td>0.210164</td>\n",
       "      <td>-0.404581</td>\n",
       "      <td>1.144530</td>\n",
       "      <td>0.0</td>\n",
       "      <td>1.436463</td>\n",
       "      <td>-0.327463</td>\n",
       "      <td>3.936760</td>\n",
       "      <td>0.979321</td>\n",
       "      <td>1.474915</td>\n",
       "      <td>0.0</td>\n",
       "      <td>...</td>\n",
       "      <td>0</td>\n",
       "      <td>1</td>\n",
       "      <td>0</td>\n",
       "      <td>0</td>\n",
       "      <td>0</td>\n",
       "      <td>0</td>\n",
       "      <td>0</td>\n",
       "      <td>0</td>\n",
       "      <td>1</td>\n",
       "      <td>0</td>\n",
       "    </tr>\n",
       "    <tr>\n",
       "      <th>1</th>\n",
       "      <td>-0.563220</td>\n",
       "      <td>1.119478</td>\n",
       "      <td>-0.387964</td>\n",
       "      <td>0.0</td>\n",
       "      <td>-0.505286</td>\n",
       "      <td>-0.107324</td>\n",
       "      <td>-0.253606</td>\n",
       "      <td>-1.097311</td>\n",
       "      <td>-0.330705</td>\n",
       "      <td>0.0</td>\n",
       "      <td>...</td>\n",
       "      <td>1</td>\n",
       "      <td>0</td>\n",
       "      <td>0</td>\n",
       "      <td>0</td>\n",
       "      <td>0</td>\n",
       "      <td>0</td>\n",
       "      <td>0</td>\n",
       "      <td>0</td>\n",
       "      <td>1</td>\n",
       "      <td>0</td>\n",
       "    </tr>\n",
       "    <tr>\n",
       "      <th>2</th>\n",
       "      <td>-0.570403</td>\n",
       "      <td>1.163317</td>\n",
       "      <td>-0.387964</td>\n",
       "      <td>0.0</td>\n",
       "      <td>-1.152535</td>\n",
       "      <td>0.222884</td>\n",
       "      <td>-0.254132</td>\n",
       "      <td>-0.207326</td>\n",
       "      <td>0.306573</td>\n",
       "      <td>0.0</td>\n",
       "      <td>...</td>\n",
       "      <td>0</td>\n",
       "      <td>1</td>\n",
       "      <td>0</td>\n",
       "      <td>0</td>\n",
       "      <td>0</td>\n",
       "      <td>0</td>\n",
       "      <td>0</td>\n",
       "      <td>0</td>\n",
       "      <td>1</td>\n",
       "      <td>0</td>\n",
       "    </tr>\n",
       "    <tr>\n",
       "      <th>3</th>\n",
       "      <td>0.210164</td>\n",
       "      <td>-0.404581</td>\n",
       "      <td>-1.154211</td>\n",
       "      <td>0.0</td>\n",
       "      <td>0.789213</td>\n",
       "      <td>0.663162</td>\n",
       "      <td>-0.254132</td>\n",
       "      <td>0.682659</td>\n",
       "      <td>1.368702</td>\n",
       "      <td>0.0</td>\n",
       "      <td>...</td>\n",
       "      <td>0</td>\n",
       "      <td>0</td>\n",
       "      <td>0</td>\n",
       "      <td>0</td>\n",
       "      <td>0</td>\n",
       "      <td>0</td>\n",
       "      <td>1</td>\n",
       "      <td>0</td>\n",
       "      <td>1</td>\n",
       "      <td>0</td>\n",
       "    </tr>\n",
       "    <tr>\n",
       "      <th>4</th>\n",
       "      <td>0.210164</td>\n",
       "      <td>-0.404581</td>\n",
       "      <td>-0.387964</td>\n",
       "      <td>0.0</td>\n",
       "      <td>0.141964</td>\n",
       "      <td>-1.208019</td>\n",
       "      <td>-0.254132</td>\n",
       "      <td>0.385998</td>\n",
       "      <td>-1.074195</td>\n",
       "      <td>0.0</td>\n",
       "      <td>...</td>\n",
       "      <td>1</td>\n",
       "      <td>0</td>\n",
       "      <td>0</td>\n",
       "      <td>0</td>\n",
       "      <td>0</td>\n",
       "      <td>0</td>\n",
       "      <td>0</td>\n",
       "      <td>0</td>\n",
       "      <td>1</td>\n",
       "      <td>0</td>\n",
       "    </tr>\n",
       "  </tbody>\n",
       "</table>\n",
       "<p>5 rows × 22 columns</p>\n",
       "</div>"
      ],
      "text/plain": [
       "        lat       lon  bathrooms  created_on_year  created_on_month  \\\n",
       "0  0.210164 -0.404581   1.144530              0.0          1.436463   \n",
       "1 -0.563220  1.119478  -0.387964              0.0         -0.505286   \n",
       "2 -0.570403  1.163317  -0.387964              0.0         -1.152535   \n",
       "3  0.210164 -0.404581  -1.154211              0.0          0.789213   \n",
       "4  0.210164 -0.404581  -0.387964              0.0          0.141964   \n",
       "\n",
       "   created_on_day  end_date_year  end_date_month  end_date_day  \\\n",
       "0       -0.327463       3.936760        0.979321      1.474915   \n",
       "1       -0.107324      -0.253606       -1.097311     -0.330705   \n",
       "2        0.222884      -0.254132       -0.207326      0.306573   \n",
       "3        0.663162      -0.254132        0.682659      1.368702   \n",
       "4       -1.208019      -0.254132        0.385998     -1.074195   \n",
       "\n",
       "   start_date_year  ...  property_type_Apartamento  property_type_Casa  \\\n",
       "0              0.0  ...                          0                   1   \n",
       "1              0.0  ...                          1                   0   \n",
       "2              0.0  ...                          0                   1   \n",
       "3              0.0  ...                          0                   0   \n",
       "4              0.0  ...                          1                   0   \n",
       "\n",
       "   property_type_Finca  property_type_Local comercial  property_type_Lote  \\\n",
       "0                    0                              0                   0   \n",
       "1                    0                              0                   0   \n",
       "2                    0                              0                   0   \n",
       "3                    0                              0                   0   \n",
       "4                    0                              0                   0   \n",
       "\n",
       "   property_type_Oficina  property_type_Otro  property_type_Parqueadero  \\\n",
       "0                      0                   0                          0   \n",
       "1                      0                   0                          0   \n",
       "2                      0                   0                          0   \n",
       "3                      0                   1                          0   \n",
       "4                      0                   0                          0   \n",
       "\n",
       "   currency_COP  currency_USD  \n",
       "0             1             0  \n",
       "1             1             0  \n",
       "2             1             0  \n",
       "3             1             0  \n",
       "4             1             0  \n",
       "\n",
       "[5 rows x 22 columns]"
      ]
     },
     "execution_count": 47,
     "metadata": {},
     "output_type": "execute_result"
    }
   ],
   "source": [
    "properties_colombia_train.head()"
   ]
  },
  {
   "cell_type": "code",
   "execution_count": 58,
   "metadata": {},
   "outputs": [
    {
     "data": {
      "text/plain": [
       "Index(['lat', 'lon', 'bathrooms', 'created_on_year', 'created_on_month',\n",
       "       'created_on_day', 'end_date_year', 'end_date_month', 'end_date_day',\n",
       "       'start_date_year', 'start_date_month', 'start_date_day',\n",
       "       'property_type_Apartamento', 'property_type_Casa',\n",
       "       'property_type_Finca', 'property_type_Local comercial',\n",
       "       'property_type_Lote', 'property_type_Oficina', 'property_type_Otro',\n",
       "       'property_type_Parqueadero', 'currency_COP', 'currency_USD'],\n",
       "      dtype='object')"
      ]
     },
     "execution_count": 58,
     "metadata": {},
     "output_type": "execute_result"
    }
   ],
   "source": [
    "properties_colombia_train.columns"
   ]
  },
  {
   "cell_type": "code",
   "execution_count": 92,
   "metadata": {},
   "outputs": [],
   "source": [
    "#tomo los valores de las columnas\n",
    "X = properties_colombia_train.iloc[:,:-1]\n",
    "y =properties_colombia_train.iloc[:,[22]]"
   ]
  },
  {
   "cell_type": "code",
   "execution_count": 95,
   "metadata": {},
   "outputs": [],
   "source": [
    "#divido los datos en test y entrenamiento\n",
    "from sklearn.model_selection import train_test_split \n",
    "X_train, X_test, y_train, y_test = train_test_split(X, y, test_size = 0.25, random_state = 10)"
   ]
  },
  {
   "cell_type": "markdown",
   "metadata": {},
   "source": [
    "utilizo regresion logistica para predecir ya que se usa cuando la variable dependiente es una variable binaria, es decir, de solo dos categorías, también conocidas como dummy o dicotómica."
   ]
  },
  {
   "cell_type": "code",
   "execution_count": 96,
   "metadata": {},
   "outputs": [
    {
     "name": "stderr",
     "output_type": "stream",
     "text": [
      "c:\\Python310\\lib\\site-packages\\sklearn\\utils\\validation.py:1111: DataConversionWarning: A column-vector y was passed when a 1d array was expected. Please change the shape of y to (n_samples, ), for example using ravel().\n",
      "  y = column_or_1d(y, warn=True)\n",
      "c:\\Python310\\lib\\site-packages\\sklearn\\linear_model\\_logistic.py:444: ConvergenceWarning: lbfgs failed to converge (status=1):\n",
      "STOP: TOTAL NO. of ITERATIONS REACHED LIMIT.\n",
      "\n",
      "Increase the number of iterations (max_iter) or scale the data as shown in:\n",
      "    https://scikit-learn.org/stable/modules/preprocessing.html\n",
      "Please also refer to the documentation for alternative solver options:\n",
      "    https://scikit-learn.org/stable/modules/linear_model.html#logistic-regression\n",
      "  n_iter_i = _check_optimize_result(\n"
     ]
    },
    {
     "data": {
      "text/html": [
       "<style>#sk-container-id-1 {color: black;background-color: white;}#sk-container-id-1 pre{padding: 0;}#sk-container-id-1 div.sk-toggleable {background-color: white;}#sk-container-id-1 label.sk-toggleable__label {cursor: pointer;display: block;width: 100%;margin-bottom: 0;padding: 0.3em;box-sizing: border-box;text-align: center;}#sk-container-id-1 label.sk-toggleable__label-arrow:before {content: \"▸\";float: left;margin-right: 0.25em;color: #696969;}#sk-container-id-1 label.sk-toggleable__label-arrow:hover:before {color: black;}#sk-container-id-1 div.sk-estimator:hover label.sk-toggleable__label-arrow:before {color: black;}#sk-container-id-1 div.sk-toggleable__content {max-height: 0;max-width: 0;overflow: hidden;text-align: left;background-color: #f0f8ff;}#sk-container-id-1 div.sk-toggleable__content pre {margin: 0.2em;color: black;border-radius: 0.25em;background-color: #f0f8ff;}#sk-container-id-1 input.sk-toggleable__control:checked~div.sk-toggleable__content {max-height: 200px;max-width: 100%;overflow: auto;}#sk-container-id-1 input.sk-toggleable__control:checked~label.sk-toggleable__label-arrow:before {content: \"▾\";}#sk-container-id-1 div.sk-estimator input.sk-toggleable__control:checked~label.sk-toggleable__label {background-color: #d4ebff;}#sk-container-id-1 div.sk-label input.sk-toggleable__control:checked~label.sk-toggleable__label {background-color: #d4ebff;}#sk-container-id-1 input.sk-hidden--visually {border: 0;clip: rect(1px 1px 1px 1px);clip: rect(1px, 1px, 1px, 1px);height: 1px;margin: -1px;overflow: hidden;padding: 0;position: absolute;width: 1px;}#sk-container-id-1 div.sk-estimator {font-family: monospace;background-color: #f0f8ff;border: 1px dotted black;border-radius: 0.25em;box-sizing: border-box;margin-bottom: 0.5em;}#sk-container-id-1 div.sk-estimator:hover {background-color: #d4ebff;}#sk-container-id-1 div.sk-parallel-item::after {content: \"\";width: 100%;border-bottom: 1px solid gray;flex-grow: 1;}#sk-container-id-1 div.sk-label:hover label.sk-toggleable__label {background-color: #d4ebff;}#sk-container-id-1 div.sk-serial::before {content: \"\";position: absolute;border-left: 1px solid gray;box-sizing: border-box;top: 0;bottom: 0;left: 50%;z-index: 0;}#sk-container-id-1 div.sk-serial {display: flex;flex-direction: column;align-items: center;background-color: white;padding-right: 0.2em;padding-left: 0.2em;position: relative;}#sk-container-id-1 div.sk-item {position: relative;z-index: 1;}#sk-container-id-1 div.sk-parallel {display: flex;align-items: stretch;justify-content: center;background-color: white;position: relative;}#sk-container-id-1 div.sk-item::before, #sk-container-id-1 div.sk-parallel-item::before {content: \"\";position: absolute;border-left: 1px solid gray;box-sizing: border-box;top: 0;bottom: 0;left: 50%;z-index: -1;}#sk-container-id-1 div.sk-parallel-item {display: flex;flex-direction: column;z-index: 1;position: relative;background-color: white;}#sk-container-id-1 div.sk-parallel-item:first-child::after {align-self: flex-end;width: 50%;}#sk-container-id-1 div.sk-parallel-item:last-child::after {align-self: flex-start;width: 50%;}#sk-container-id-1 div.sk-parallel-item:only-child::after {width: 0;}#sk-container-id-1 div.sk-dashed-wrapped {border: 1px dashed gray;margin: 0 0.4em 0.5em 0.4em;box-sizing: border-box;padding-bottom: 0.4em;background-color: white;}#sk-container-id-1 div.sk-label label {font-family: monospace;font-weight: bold;display: inline-block;line-height: 1.2em;}#sk-container-id-1 div.sk-label-container {text-align: center;}#sk-container-id-1 div.sk-container {/* jupyter's `normalize.less` sets `[hidden] { display: none; }` but bootstrap.min.css set `[hidden] { display: none !important; }` so we also need the `!important` here to be able to override the default hidden behavior on the sphinx rendered scikit-learn.org. See: https://github.com/scikit-learn/scikit-learn/issues/21755 */display: inline-block !important;position: relative;}#sk-container-id-1 div.sk-text-repr-fallback {display: none;}</style><div id=\"sk-container-id-1\" class=\"sk-top-container\"><div class=\"sk-text-repr-fallback\"><pre>LogisticRegression(random_state=10)</pre><b>In a Jupyter environment, please rerun this cell to show the HTML representation or trust the notebook. <br />On GitHub, the HTML representation is unable to render, please try loading this page with nbviewer.org.</b></div><div class=\"sk-container\" hidden><div class=\"sk-item\"><div class=\"sk-estimator sk-toggleable\"><input class=\"sk-toggleable__control sk-hidden--visually\" id=\"sk-estimator-id-1\" type=\"checkbox\" checked><label for=\"sk-estimator-id-1\" class=\"sk-toggleable__label sk-toggleable__label-arrow\">LogisticRegression</label><div class=\"sk-toggleable__content\"><pre>LogisticRegression(random_state=10)</pre></div></div></div></div></div>"
      ],
      "text/plain": [
       "LogisticRegression(random_state=10)"
      ]
     },
     "execution_count": 96,
     "metadata": {},
     "output_type": "execute_result"
    }
   ],
   "source": [
    "from sklearn.linear_model import LogisticRegression \n",
    "classifier = LogisticRegression(random_state = 10) \n",
    "classifier.fit(X_train, y_train)"
   ]
  },
  {
   "cell_type": "code",
   "execution_count": 97,
   "metadata": {},
   "outputs": [
    {
     "name": "stdout",
     "output_type": "stream",
     "text": [
      "La precisión del conjunto de pruebas es 70.56525838459122\n"
     ]
    }
   ],
   "source": [
    "from sklearn.metrics import precision_score\n",
    "y_pred = classifier.predict(X_test) \n",
    "test_acc = precision_score(y_test, y_pred) \n",
    "print('La precisión del conjunto de pruebas es {}'.format(test_acc*100))"
   ]
  },
  {
   "cell_type": "code",
   "execution_count": 98,
   "metadata": {},
   "outputs": [
    {
     "data": {
      "text/plain": [
       "Text(0.5, 30.5, 'Valores previstos')"
      ]
     },
     "execution_count": 98,
     "metadata": {},
     "output_type": "execute_result"
    },
    {
     "data": {
      "image/png": "[encoded data removed]",
      "text/plain": [
       "<Figure size 864x432 with 2 Axes>"
      ]
     },
     "metadata": {},
     "output_type": "display_data"
    }
   ],
   "source": [
    "from sklearn.metrics import confusion_matrix\n",
    "cm=confusion_matrix(y_test,y_pred) \n",
    "plt.figure(figsize=(12,6)) \n",
    "plt.title(\"Confusion Matrix\") \n",
    "sns.heatmap(cm, annot=True,fmt='d', cmap='Blues' ) \n",
    "plt.ylabel(\"Valores reales\") \n",
    "plt.xlabel(\"Valores previstos\")"
   ]
  },
  {
   "cell_type": "code",
   "execution_count": 99,
   "metadata": {},
   "outputs": [
    {
     "name": "stdout",
     "output_type": "stream",
     "text": [
      "              precision    recall  f1-score   support\n",
      "\n",
      "           0       0.78      0.76      0.77     27645\n",
      "           1       0.71      0.72      0.71     21742\n",
      "\n",
      "    accuracy                           0.75     49387\n",
      "   macro avg       0.74      0.74      0.74     49387\n",
      "weighted avg       0.75      0.75      0.75     49387\n",
      "\n"
     ]
    }
   ],
   "source": [
    "from sklearn.metrics import classification_report\n",
    "print(classification_report(y_test,y_pred))"
   ]
  },
  {
   "cell_type": "code",
   "execution_count": 100,
   "metadata": {},
   "outputs": [],
   "source": [
    "X = properties_colombia_test.iloc[:,]"
   ]
  },
  {
   "cell_type": "code",
   "execution_count": 102,
   "metadata": {},
   "outputs": [],
   "source": [
    "res=classifier.predict(X)"
   ]
  },
  {
   "cell_type": "code",
   "execution_count": 105,
   "metadata": {},
   "outputs": [],
   "source": [
    "col=[\"pred\"]\n",
    "df3=pd.DataFrame(res)\n",
    "#data_ML_car.loc[data_ML_car['carwidth']]=df[\n",
    "df3.columns=col"
   ]
  },
  {
   "cell_type": "code",
   "execution_count": 106,
   "metadata": {},
   "outputs": [
    {
     "data": {
      "text/html": [
       "<div>\n",
       "<style scoped>\n",
       "    .dataframe tbody tr th:only-of-type {\n",
       "        vertical-align: middle;\n",
       "    }\n",
       "\n",
       "    .dataframe tbody tr th {\n",
       "        vertical-align: top;\n",
       "    }\n",
       "\n",
       "    .dataframe thead th {\n",
       "        text-align: right;\n",
       "    }\n",
       "</style>\n",
       "<table border=\"1\" class=\"dataframe\">\n",
       "  <thead>\n",
       "    <tr style=\"text-align: right;\">\n",
       "      <th></th>\n",
       "      <th>pred</th>\n",
       "    </tr>\n",
       "  </thead>\n",
       "  <tbody>\n",
       "    <tr>\n",
       "      <th>0</th>\n",
       "      <td>1</td>\n",
       "    </tr>\n",
       "    <tr>\n",
       "      <th>1</th>\n",
       "      <td>0</td>\n",
       "    </tr>\n",
       "    <tr>\n",
       "      <th>2</th>\n",
       "      <td>0</td>\n",
       "    </tr>\n",
       "    <tr>\n",
       "      <th>3</th>\n",
       "      <td>0</td>\n",
       "    </tr>\n",
       "    <tr>\n",
       "      <th>4</th>\n",
       "      <td>0</td>\n",
       "    </tr>\n",
       "    <tr>\n",
       "      <th>...</th>\n",
       "      <td>...</td>\n",
       "    </tr>\n",
       "    <tr>\n",
       "      <th>197543</th>\n",
       "      <td>0</td>\n",
       "    </tr>\n",
       "    <tr>\n",
       "      <th>197544</th>\n",
       "      <td>0</td>\n",
       "    </tr>\n",
       "    <tr>\n",
       "      <th>197545</th>\n",
       "      <td>0</td>\n",
       "    </tr>\n",
       "    <tr>\n",
       "      <th>197546</th>\n",
       "      <td>0</td>\n",
       "    </tr>\n",
       "    <tr>\n",
       "      <th>197547</th>\n",
       "      <td>0</td>\n",
       "    </tr>\n",
       "  </tbody>\n",
       "</table>\n",
       "<p>197548 rows × 1 columns</p>\n",
       "</div>"
      ],
      "text/plain": [
       "        pred\n",
       "0          1\n",
       "1          0\n",
       "2          0\n",
       "3          0\n",
       "4          0\n",
       "...      ...\n",
       "197543     0\n",
       "197544     0\n",
       "197545     0\n",
       "197546     0\n",
       "197547     0\n",
       "\n",
       "[197548 rows x 1 columns]"
      ]
     },
     "execution_count": 106,
     "metadata": {},
     "output_type": "execute_result"
    }
   ],
   "source": [
    "df3"
   ]
  },
  {
   "cell_type": "code",
   "execution_count": 107,
   "metadata": {},
   "outputs": [],
   "source": [
    "df3.to_csv(\"bparedes21.csv\", index=False)"
   ]
  }
 ],
 "metadata": {
  "kernelspec": {
   "display_name": "Python 3.10.2 64-bit",
   "language": "python",
   "name": "python3"
  },
  "language_info": {
   "codemirror_mode": {
    "name": "ipython",
    "version": 3
   },
   "file_extension": ".py",
   "mimetype": "text/x-python",
   "name": "python",
   "nbconvert_exporter": "python",
   "pygments_lexer": "ipython3",
   "version": "3.10.2"
  },
  "orig_nbformat": 4,
  "vscode": {
   "interpreter": {
    "hash": "369f2c481f4da34e4445cda3fffd2e751bd1c4d706f27375911949ba6bb62e1c"
   }
  }
 },
 "nbformat": 4,
 "nbformat_minor": 2
}
